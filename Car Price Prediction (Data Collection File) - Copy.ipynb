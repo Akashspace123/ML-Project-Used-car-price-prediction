{
 "cells": [
  {
   "cell_type": "markdown",
   "id": "1ccf1085",
   "metadata": {},
   "source": [
    "With the covid 19 impact in the market, we have seen lot of changes in the car market. Now some \n",
    "cars are in demand hence making them costly and some are not in demand hence cheaper. One \n",
    "of our clients works with small traders, who sell used cars. With the change in market due to covid \n",
    "19 impact, our client is facing problems with their previous car price valuation machine learning \n",
    "models. So, they are looking for new machine learning models from new data. We have to make \n",
    "car price valuation model. This project contains two phase\n"
   ]
  },
  {
   "cell_type": "markdown",
   "id": "71c5bc88",
   "metadata": {},
   "source": [
    "## Data Collection Phase"
   ]
  },
  {
   "cell_type": "code",
   "execution_count": 1,
   "id": "7a282af9",
   "metadata": {},
   "outputs": [],
   "source": [
    "import selenium \n",
    "from selenium import webdriver\n",
    "import warnings\n",
    "warnings.filterwarnings(\"ignore\")\n",
    "import time"
   ]
  },
  {
   "cell_type": "markdown",
   "id": "4bf68de8",
   "metadata": {},
   "source": [
    "## Car24"
   ]
  },
  {
   "cell_type": "code",
   "execution_count": 288,
   "id": "d858d756",
   "metadata": {},
   "outputs": [],
   "source": [
    "driver=webdriver.Chrome(\"E:\\chromedriver.exe\")\n",
    "time.sleep(10)\n",
    "driver.get(\"https://www.cars24.com/buy-used-car?sort=P&storeCityId=2&pinId=110001\")"
   ]
  },
  {
   "cell_type": "markdown",
   "id": "4a9756b0",
   "metadata": {},
   "source": [
    "### Delhi location"
   ]
  },
  {
   "cell_type": "code",
   "execution_count": 197,
   "id": "7265aaae",
   "metadata": {},
   "outputs": [],
   "source": [
    "urls=[]\n",
    "for i in range(0,1000):\n",
    "    driver.execute_script(\"window.scrollBy(0,10000)\")\n",
    "    \n",
    "    url=driver.find_elements_by_xpath(\"//a[@class='_9Ue0B']\")\n",
    "\n",
    "for i in url:\n",
    "    urls.append(i.get_attribute(\"href\"))"
   ]
  },
  {
   "cell_type": "code",
   "execution_count": 198,
   "id": "2a6b57b9",
   "metadata": {},
   "outputs": [
    {
     "data": {
      "text/plain": [
       "647"
      ]
     },
     "execution_count": 198,
     "metadata": {},
     "output_type": "execute_result"
    }
   ],
   "source": [
    "len(urls)"
   ]
  },
  {
   "cell_type": "markdown",
   "id": "52af4d2a",
   "metadata": {},
   "source": [
    "### Mumbai location"
   ]
  },
  {
   "cell_type": "code",
   "execution_count": 199,
   "id": "58afcc18",
   "metadata": {},
   "outputs": [],
   "source": [
    "click_4=driver.find_element_by_xpath(\"/html/body/div[1]/div[1]/header/div/div[1]/div[2]/p/img\")\n",
    "click_4.click()"
   ]
  },
  {
   "cell_type": "code",
   "execution_count": 200,
   "id": "e57e35c0",
   "metadata": {},
   "outputs": [],
   "source": [
    "click_5=driver.find_element_by_xpath(\"/html/body/div[1]/div[6]/div/div/div/div/div[2]/ul/li[4]/a/span/img\")\n",
    "click_5.click()"
   ]
  },
  {
   "cell_type": "code",
   "execution_count": 201,
   "id": "30364127",
   "metadata": {},
   "outputs": [],
   "source": [
    "urls1=[]\n",
    "for i in range(0,1000):\n",
    "    driver.execute_script(\"window.scrollBy(0,10000)\")\n",
    "    \n",
    "    url=driver.find_elements_by_xpath(\"//a[@class='_9Ue0B']\")\n",
    "\n",
    "for i in url:\n",
    "    urls1.append(i.get_attribute(\"href\"))"
   ]
  },
  {
   "cell_type": "code",
   "execution_count": 202,
   "id": "2da56ae5",
   "metadata": {},
   "outputs": [
    {
     "data": {
      "text/plain": [
       "566"
      ]
     },
     "execution_count": 202,
     "metadata": {},
     "output_type": "execute_result"
    }
   ],
   "source": [
    "len(urls1)"
   ]
  },
  {
   "cell_type": "markdown",
   "id": "e69da25a",
   "metadata": {},
   "source": [
    "### Pune location"
   ]
  },
  {
   "cell_type": "code",
   "execution_count": 203,
   "id": "b4da1382",
   "metadata": {},
   "outputs": [],
   "source": [
    "click_2=driver.find_element_by_xpath(\"//p[@class='_1V4-O']\")\n",
    "click_2.click()"
   ]
  },
  {
   "cell_type": "code",
   "execution_count": 204,
   "id": "88461a8e",
   "metadata": {},
   "outputs": [],
   "source": [
    "click_2=driver.find_element_by_xpath(\"/html/body/div[1]/div[6]/div/div/div/div/div[2]/ul/li[5]/a/span/img\")\n",
    "click_2.click()"
   ]
  },
  {
   "cell_type": "code",
   "execution_count": 207,
   "id": "6e46c1db",
   "metadata": {},
   "outputs": [],
   "source": [
    "urls2=[]\n",
    "\n",
    "for i in range(0,1000):\n",
    "    driver.execute_script(\"window.scrollBy(0,10000)\")\n",
    "    \n",
    "url=driver.find_elements_by_xpath(\"//a[@class='_9Ue0B']\")\n",
    "\n",
    "\n",
    "for i in url:\n",
    "    urls2.append(i.get_attribute(\"href\"))"
   ]
  },
  {
   "cell_type": "code",
   "execution_count": 208,
   "id": "157ce453",
   "metadata": {},
   "outputs": [
    {
     "data": {
      "text/plain": [
       "448"
      ]
     },
     "execution_count": 208,
     "metadata": {},
     "output_type": "execute_result"
    }
   ],
   "source": [
    "len(urls2)"
   ]
  },
  {
   "cell_type": "markdown",
   "id": "509f8550",
   "metadata": {},
   "source": [
    "### Banglore Location"
   ]
  },
  {
   "cell_type": "code",
   "execution_count": 209,
   "id": "890ca28f",
   "metadata": {},
   "outputs": [],
   "source": [
    "click_2=driver.find_element_by_xpath(\"//p[@class='_1V4-O']\")\n",
    "click_2.click()"
   ]
  },
  {
   "cell_type": "code",
   "execution_count": 210,
   "id": "c7881521",
   "metadata": {},
   "outputs": [],
   "source": [
    "click_2=driver.find_element_by_xpath(\"/html/body/div[1]/div[6]/div/div/div/div/div[2]/ul/li[6]/a/span/img\")\n",
    "click_2.click()"
   ]
  },
  {
   "cell_type": "code",
   "execution_count": 211,
   "id": "73a15af8",
   "metadata": {},
   "outputs": [],
   "source": [
    "urls3=[]\n",
    "\n",
    "for i in range(0,1000):\n",
    "    driver.execute_script(\"window.scrollBy(0,10000)\")\n",
    "    \n",
    "    url=driver.find_elements_by_xpath(\"//a[@class='_9Ue0B']\")\n",
    "\n",
    "\n",
    "for i in url:\n",
    "    urls3.append(i.get_attribute(\"href\"))"
   ]
  },
  {
   "cell_type": "code",
   "execution_count": 212,
   "id": "43d1058b",
   "metadata": {},
   "outputs": [
    {
     "data": {
      "text/plain": [
       "391"
      ]
     },
     "execution_count": 212,
     "metadata": {},
     "output_type": "execute_result"
    }
   ],
   "source": [
    "len(urls3)"
   ]
  },
  {
   "cell_type": "markdown",
   "id": "42059c37",
   "metadata": {},
   "source": [
    "### Ahmedabad location"
   ]
  },
  {
   "cell_type": "code",
   "execution_count": 213,
   "id": "3bcd525a",
   "metadata": {},
   "outputs": [],
   "source": [
    "click_2=driver.find_element_by_xpath(\"//p[@class='_1V4-O']\")\n",
    "click_2.click()"
   ]
  },
  {
   "cell_type": "code",
   "execution_count": 214,
   "id": "aaf6ca44",
   "metadata": {},
   "outputs": [],
   "source": [
    "click_2=driver.find_element_by_xpath(\"/html/body/div[1]/div[6]/div/div/div/div/div[2]/ul/li[10]/a/span/img\")\n",
    "click_2.click()"
   ]
  },
  {
   "cell_type": "code",
   "execution_count": 215,
   "id": "ca631292",
   "metadata": {},
   "outputs": [],
   "source": [
    "urls4=[]\n",
    "\n",
    "for i in range(0,1000):\n",
    "    driver.execute_script(\"window.scrollBy(0,10000)\")\n",
    "    \n",
    "    url=driver.find_elements_by_xpath(\"//a[@class='_9Ue0B']\")\n",
    "\n",
    "\n",
    "for i in url:\n",
    "    urls4.append(i.get_attribute(\"href\"))"
   ]
  },
  {
   "cell_type": "code",
   "execution_count": 216,
   "id": "21b08025",
   "metadata": {},
   "outputs": [
    {
     "data": {
      "text/plain": [
       "391"
      ]
     },
     "execution_count": 216,
     "metadata": {},
     "output_type": "execute_result"
    }
   ],
   "source": [
    "len(urls3)"
   ]
  },
  {
   "cell_type": "markdown",
   "id": "14d9e363",
   "metadata": {},
   "source": [
    "### Kolkata location"
   ]
  },
  {
   "cell_type": "code",
   "execution_count": 217,
   "id": "39689a7a",
   "metadata": {},
   "outputs": [],
   "source": [
    "click_2=driver.find_element_by_xpath(\"//p[@class='_1V4-O']\")\n",
    "click_2.click()"
   ]
  },
  {
   "cell_type": "code",
   "execution_count": 218,
   "id": "d57ea154",
   "metadata": {},
   "outputs": [],
   "source": [
    "click_2=driver.find_element_by_xpath(\"/html/body/div[1]/div[6]/div/div/div/div/div[2]/ul/li[9]/a/span/img\")\n",
    "click_2.click()"
   ]
  },
  {
   "cell_type": "code",
   "execution_count": 219,
   "id": "1b01188e",
   "metadata": {},
   "outputs": [],
   "source": [
    "urls5=[]\n",
    "\n",
    "for i in range(0,1000):\n",
    "    driver.execute_script(\"window.scrollBy(0,10000)\")\n",
    "    \n",
    "url=driver.find_elements_by_xpath(\"//a[@class='_9Ue0B']\")\n",
    "\n",
    "\n",
    "for i in url:\n",
    "    urls5.append(i.get_attribute(\"href\"))"
   ]
  },
  {
   "cell_type": "code",
   "execution_count": 220,
   "id": "c9446d39",
   "metadata": {},
   "outputs": [
    {
     "data": {
      "text/plain": [
       "172"
      ]
     },
     "execution_count": 220,
     "metadata": {},
     "output_type": "execute_result"
    }
   ],
   "source": [
    "len(urls5)"
   ]
  },
  {
   "cell_type": "markdown",
   "id": "9b8fcd94",
   "metadata": {},
   "source": [
    "### Chenni location"
   ]
  },
  {
   "cell_type": "code",
   "execution_count": 221,
   "id": "9eab04e3",
   "metadata": {},
   "outputs": [],
   "source": [
    "click_2=driver.find_element_by_xpath(\"//p[@class='_1V4-O']\")\n",
    "click_2.click()"
   ]
  },
  {
   "cell_type": "code",
   "execution_count": 222,
   "id": "373fcbf1",
   "metadata": {},
   "outputs": [],
   "source": [
    "click_2=driver.find_element_by_xpath(\"/html/body/div[1]/div[6]/div/div/div/div/div[2]/ul/li[8]/a/span/img\")\n",
    "click_2.click()"
   ]
  },
  {
   "cell_type": "code",
   "execution_count": 223,
   "id": "18deaced",
   "metadata": {},
   "outputs": [],
   "source": [
    "urls6=[]\n",
    "\n",
    "for i in range(0,1000):\n",
    "    driver.execute_script(\"window.scrollBy(0,10000)\")\n",
    "\n",
    "url=driver.find_elements_by_xpath(\"//a[@class='_9Ue0B']\")\n",
    "\n",
    "for i in url:\n",
    "    urls6.append(i.get_attribute(\"href\"))"
   ]
  },
  {
   "cell_type": "code",
   "execution_count": 224,
   "id": "0ca5fb27",
   "metadata": {},
   "outputs": [
    {
     "data": {
      "text/plain": [
       "320"
      ]
     },
     "execution_count": 224,
     "metadata": {},
     "output_type": "execute_result"
    }
   ],
   "source": [
    "len(urls6)"
   ]
  },
  {
   "cell_type": "markdown",
   "id": "6ddc18fb",
   "metadata": {},
   "source": [
    "### Gurgaon location"
   ]
  },
  {
   "cell_type": "code",
   "execution_count": 225,
   "id": "7772db64",
   "metadata": {},
   "outputs": [],
   "source": [
    "click_2=driver.find_element_by_xpath(\"//p[@class='_1V4-O']\")\n",
    "click_2.click()"
   ]
  },
  {
   "cell_type": "code",
   "execution_count": 226,
   "id": "23e4a080",
   "metadata": {},
   "outputs": [],
   "source": [
    "click_2=driver.find_element_by_xpath(\"/html/body/div[1]/div[6]/div/div/div/div/div[2]/ul/li[3]/a/span/img\")\n",
    "click_2.click()"
   ]
  },
  {
   "cell_type": "code",
   "execution_count": 229,
   "id": "1dcb1169",
   "metadata": {},
   "outputs": [],
   "source": [
    "urls7=[]\n",
    "\n",
    "for i in range(0,1000):\n",
    "    driver.execute_script(\"window.scrollBy(0,10000)\")\n",
    "\n",
    "url=driver.find_elements_by_xpath(\"//a[@class='_9Ue0B']\")\n",
    "\n",
    "for i in url:\n",
    "    urls7.append(i.get_attribute(\"href\"))"
   ]
  },
  {
   "cell_type": "code",
   "execution_count": 230,
   "id": "219ffa91",
   "metadata": {},
   "outputs": [
    {
     "data": {
      "text/plain": [
       "647"
      ]
     },
     "execution_count": 230,
     "metadata": {},
     "output_type": "execute_result"
    }
   ],
   "source": [
    "len(urls7)"
   ]
  },
  {
   "cell_type": "markdown",
   "id": "d451b50a",
   "metadata": {},
   "source": [
    "### Noida location"
   ]
  },
  {
   "cell_type": "code",
   "execution_count": 231,
   "id": "c8380447",
   "metadata": {},
   "outputs": [],
   "source": [
    "click_2=driver.find_element_by_xpath(\"//p[@class='_1V4-O']\")\n",
    "click_2.click()"
   ]
  },
  {
   "cell_type": "code",
   "execution_count": 232,
   "id": "6b202808",
   "metadata": {},
   "outputs": [],
   "source": [
    "click_2=driver.find_element_by_xpath(\"/html/body/div[1]/div[6]/div/div/div/div/div[2]/ul/li[2]/a/span/img\")\n",
    "click_2.click()"
   ]
  },
  {
   "cell_type": "code",
   "execution_count": 235,
   "id": "bd6e2e2c",
   "metadata": {},
   "outputs": [],
   "source": [
    "urls8=[]\n",
    "\n",
    "for i in range(0,1000):\n",
    "    driver.execute_script(\"window.scrollBy(0,10000)\")\n",
    "\n",
    "url=driver.find_elements_by_xpath(\"//a[@class='_9Ue0B']\")\n",
    "\n",
    "for i in url:\n",
    "    urls8.append(i.get_attribute(\"href\"))"
   ]
  },
  {
   "cell_type": "code",
   "execution_count": 236,
   "id": "748798df",
   "metadata": {},
   "outputs": [
    {
     "data": {
      "text/plain": [
       "647"
      ]
     },
     "execution_count": 236,
     "metadata": {},
     "output_type": "execute_result"
    }
   ],
   "source": [
    "len(urls8)"
   ]
  },
  {
   "cell_type": "markdown",
   "id": "d109348e",
   "metadata": {},
   "source": [
    "### Jaipur location"
   ]
  },
  {
   "cell_type": "code",
   "execution_count": 243,
   "id": "c8cf15f4",
   "metadata": {},
   "outputs": [],
   "source": [
    "click_2=driver.find_element_by_xpath(\"//p[@class='_1V4-O']\")\n",
    "click_2.click()"
   ]
  },
  {
   "cell_type": "code",
   "execution_count": 244,
   "id": "d9660893",
   "metadata": {},
   "outputs": [],
   "source": [
    "click_2=driver.find_element_by_xpath(\"/html/body/div[1]/div[6]/div/div/div/div/div[2]/div/div/ul/div[9]/li[2]/a\")\n",
    "click_2.click()"
   ]
  },
  {
   "cell_type": "code",
   "execution_count": 245,
   "id": "0c279492",
   "metadata": {},
   "outputs": [],
   "source": [
    "urls9=[]\n",
    "\n",
    "for i in range(0,1000):\n",
    "    driver.execute_script(\"window.scrollBy(0,10000)\")\n",
    "    \n",
    "url=driver.find_elements_by_xpath(\"//a[@class='_9Ue0B']\")\n",
    "\n",
    "for i in url:\n",
    "    urls9.append(i.get_attribute(\"href\"))    "
   ]
  },
  {
   "cell_type": "code",
   "execution_count": 246,
   "id": "fb4aff1f",
   "metadata": {},
   "outputs": [
    {
     "data": {
      "text/plain": [
       "146"
      ]
     },
     "execution_count": 246,
     "metadata": {},
     "output_type": "execute_result"
    }
   ],
   "source": [
    "len(urls9)"
   ]
  },
  {
   "cell_type": "markdown",
   "id": "6adbfff4",
   "metadata": {},
   "source": [
    "### Lucknow location"
   ]
  },
  {
   "cell_type": "code",
   "execution_count": 247,
   "id": "42e58773",
   "metadata": {},
   "outputs": [],
   "source": [
    "click_2=driver.find_element_by_xpath(\"//p[@class='_1V4-O']\")\n",
    "click_2.click()"
   ]
  },
  {
   "cell_type": "code",
   "execution_count": 248,
   "id": "2fa3793f",
   "metadata": {},
   "outputs": [],
   "source": [
    "click_2=driver.find_element_by_xpath(\"/html/body/div[1]/div[6]/div/div/div/div/div[2]/div/div/ul/div[11]/li[1]/a/span\")\n",
    "click_2.click()"
   ]
  },
  {
   "cell_type": "code",
   "execution_count": 249,
   "id": "030416a1",
   "metadata": {},
   "outputs": [],
   "source": [
    "urls10=[]\n",
    "\n",
    "for i in range(0,1000):\n",
    "    driver.execute_script(\"window.scrollBy(0,10000)\")\n",
    "    \n",
    "url=driver.find_elements_by_xpath(\"//a[@class='_9Ue0B']\")\n",
    "\n",
    "for i in url:\n",
    "    urls10.append(i.get_attribute(\"href\"))  "
   ]
  },
  {
   "cell_type": "code",
   "execution_count": 250,
   "id": "255d7645",
   "metadata": {},
   "outputs": [
    {
     "data": {
      "text/plain": [
       "143"
      ]
     },
     "execution_count": 250,
     "metadata": {},
     "output_type": "execute_result"
    }
   ],
   "source": [
    "len(urls10)"
   ]
  },
  {
   "cell_type": "markdown",
   "id": "8d162e53",
   "metadata": {},
   "source": [
    "### chandigarh location"
   ]
  },
  {
   "cell_type": "code",
   "execution_count": 251,
   "id": "65561dbf",
   "metadata": {},
   "outputs": [],
   "source": [
    "click_2=driver.find_element_by_xpath(\"//p[@class='_1V4-O']\")\n",
    "click_2.click()"
   ]
  },
  {
   "cell_type": "code",
   "execution_count": 252,
   "id": "348016c4",
   "metadata": {},
   "outputs": [],
   "source": [
    "click_2=driver.find_element_by_xpath(\"/html/body/div[1]/div[6]/div/div/div/div/div[2]/div/div/ul/div[3]/li[2]/a/span\")\n",
    "click_2.click()"
   ]
  },
  {
   "cell_type": "code",
   "execution_count": 253,
   "id": "e98edd5f",
   "metadata": {},
   "outputs": [],
   "source": [
    "urls11=[]\n",
    "\n",
    "for i in range(0,1000):\n",
    "    driver.execute_script(\"window.scrollBy(0,10000)\")\n",
    "    \n",
    "url=driver.find_elements_by_xpath(\"//a[@class='_9Ue0B']\")\n",
    "\n",
    "for i in url:\n",
    "    urls11.append(i.get_attribute(\"href\"))  "
   ]
  },
  {
   "cell_type": "code",
   "execution_count": 254,
   "id": "31d0de78",
   "metadata": {},
   "outputs": [
    {
     "data": {
      "text/plain": [
       "128"
      ]
     },
     "execution_count": 254,
     "metadata": {},
     "output_type": "execute_result"
    }
   ],
   "source": [
    "len(urls11)"
   ]
  },
  {
   "cell_type": "markdown",
   "id": "4344ea6b",
   "metadata": {},
   "source": [
    "### Bhopal location"
   ]
  },
  {
   "cell_type": "code",
   "execution_count": 255,
   "id": "2bb1aae4",
   "metadata": {},
   "outputs": [],
   "source": [
    "click_2=driver.find_element_by_xpath(\"//p[@class='_1V4-O']\")\n",
    "click_2.click()"
   ]
  },
  {
   "cell_type": "code",
   "execution_count": 256,
   "id": "91964dbd",
   "metadata": {},
   "outputs": [],
   "source": [
    "click_2=driver.find_element_by_xpath(\"/html/body/div[1]/div[6]/div/div/div/div/div[2]/div/div/ul/div[2]/li[3]/a/span\")\n",
    "click_2.click()"
   ]
  },
  {
   "cell_type": "code",
   "execution_count": 257,
   "id": "992b8f9f",
   "metadata": {},
   "outputs": [],
   "source": [
    "urls12=[]\n",
    "\n",
    "for i in range(0,1000):\n",
    "    driver.execute_script(\"window.scrollBy(0,10000)\")\n",
    "    \n",
    "url=driver.find_elements_by_xpath(\"//a[@class='_9Ue0B']\")\n",
    "\n",
    "for i in url:\n",
    "    urls12.append(i.get_attribute(\"href\"))  "
   ]
  },
  {
   "cell_type": "code",
   "execution_count": 258,
   "id": "63073cd3",
   "metadata": {},
   "outputs": [
    {
     "data": {
      "text/plain": [
       "116"
      ]
     },
     "execution_count": 258,
     "metadata": {},
     "output_type": "execute_result"
    }
   ],
   "source": [
    "len(urls12)"
   ]
  },
  {
   "cell_type": "markdown",
   "id": "c86c1ddc",
   "metadata": {},
   "source": [
    "### Rajkot location"
   ]
  },
  {
   "cell_type": "code",
   "execution_count": 349,
   "id": "cd8353ec",
   "metadata": {},
   "outputs": [],
   "source": [
    "click_2=driver.find_element_by_xpath(\"//p[@class='_1V4-O']\")\n",
    "click_2.click()"
   ]
  },
  {
   "cell_type": "code",
   "execution_count": 350,
   "id": "3535e4d3",
   "metadata": {},
   "outputs": [],
   "source": [
    "click_2=driver.find_element_by_xpath(\"/html/body/div[1]/div[6]/div/div/div/div/div[2]/div/div/ul/div[9]/li[4]/a/span\")\n",
    "click_2.click()"
   ]
  },
  {
   "cell_type": "code",
   "execution_count": 351,
   "id": "c333a37c",
   "metadata": {},
   "outputs": [],
   "source": [
    "urls15=[]\n",
    "\n",
    "for i in range(0,1000):\n",
    "    driver.execute_script(\"window.scrollBy(0,10000)\")\n",
    "    \n",
    "url=driver.find_elements_by_xpath(\"//a[@class='_9Ue0B']\")\n",
    "\n",
    "for i in url:\n",
    "    urls15.append(i.get_attribute(\"href\")) "
   ]
  },
  {
   "cell_type": "code",
   "execution_count": 352,
   "id": "2e4a9857",
   "metadata": {},
   "outputs": [
    {
     "data": {
      "text/plain": [
       "48"
      ]
     },
     "execution_count": 352,
     "metadata": {},
     "output_type": "execute_result"
    }
   ],
   "source": [
    "len(urls15)"
   ]
  },
  {
   "cell_type": "markdown",
   "id": "69ce7da0",
   "metadata": {},
   "source": [
    "### Nasik Location"
   ]
  },
  {
   "cell_type": "code",
   "execution_count": 292,
   "id": "9a616696",
   "metadata": {},
   "outputs": [],
   "source": [
    "click_2=driver.find_element_by_xpath(\"//p[@class='_1V4-O']\")\n",
    "click_2.click()"
   ]
  },
  {
   "cell_type": "code",
   "execution_count": 356,
   "id": "d3cbb155",
   "metadata": {},
   "outputs": [],
   "source": [
    "click_2=driver.find_element_by_xpath(\"/html/body/div[1]/div[6]/div/div/div/div/div[2]/div/div/ul/div[13]/li[2]/a/span\")\n",
    "click_2.click()"
   ]
  },
  {
   "cell_type": "code",
   "execution_count": 357,
   "id": "9276a485",
   "metadata": {},
   "outputs": [],
   "source": [
    "urls17=[]\n",
    "\n",
    "for i in range(0,1000):\n",
    "    driver.execute_script(\"window.scrollBy(0,10000)\")\n",
    "    \n",
    "url=driver.find_elements_by_xpath(\"//a[@class='_9Ue0B']\")\n",
    "\n",
    "for i in url:\n",
    "    urls17.append(i.get_attribute(\"href\")) "
   ]
  },
  {
   "cell_type": "code",
   "execution_count": 358,
   "id": "386c51a7",
   "metadata": {},
   "outputs": [
    {
     "data": {
      "text/plain": [
       "39"
      ]
     },
     "execution_count": 358,
     "metadata": {},
     "output_type": "execute_result"
    }
   ],
   "source": [
    "len(urls17)"
   ]
  },
  {
   "cell_type": "markdown",
   "id": "daa67be6",
   "metadata": {},
   "source": [
    "### Kochi location"
   ]
  },
  {
   "cell_type": "code",
   "execution_count": 363,
   "id": "e5a135b8",
   "metadata": {},
   "outputs": [],
   "source": [
    "click_2=driver.find_element_by_xpath(\"//p[@class='_1V4-O']\")\n",
    "click_2.click()"
   ]
  },
  {
   "cell_type": "code",
   "execution_count": 369,
   "id": "98173523",
   "metadata": {},
   "outputs": [],
   "source": [
    "click_2=driver.find_element_by_xpath(\"/html/body/div[1]/div[6]/div/div/div/div/div[2]/div/div/ul/div[10]/li[2]/a/span\")\n",
    "click_2.click()"
   ]
  },
  {
   "cell_type": "code",
   "execution_count": 370,
   "id": "bcf6f376",
   "metadata": {},
   "outputs": [],
   "source": [
    "urls16=[]\n",
    "\n",
    "for i in range(0,1000):\n",
    "    driver.execute_script(\"window.scrollBy(0,10000)\")\n",
    "    \n",
    "url=driver.find_elements_by_xpath(\"//a[@class='_9Ue0B']\")\n",
    "\n",
    "for i in url:\n",
    "    urls16.append(i.get_attribute(\"href\")) "
   ]
  },
  {
   "cell_type": "code",
   "execution_count": 371,
   "id": "906252bb",
   "metadata": {},
   "outputs": [
    {
     "data": {
      "text/plain": [
       "240"
      ]
     },
     "execution_count": 371,
     "metadata": {},
     "output_type": "execute_result"
    }
   ],
   "source": [
    "len(urls16)"
   ]
  },
  {
   "cell_type": "markdown",
   "id": "02d5fcde",
   "metadata": {},
   "source": [
    "### Fetching the data"
   ]
  },
  {
   "cell_type": "code",
   "execution_count": 535,
   "id": "6e014fed",
   "metadata": {},
   "outputs": [],
   "source": [
    "Big_url=urls+urls1+urls2+urls3+urls4+urls5+urls6+urls7+urls8+urls9+urls10+urls11+urls12+urls15+urls17+urls16"
   ]
  },
  {
   "cell_type": "code",
   "execution_count": 536,
   "id": "7dd4aed8",
   "metadata": {},
   "outputs": [
    {
     "data": {
      "text/plain": [
       "5104"
      ]
     },
     "execution_count": 536,
     "metadata": {},
     "output_type": "execute_result"
    }
   ],
   "source": [
    "len(Big_url)"
   ]
  },
  {
   "cell_type": "code",
   "execution_count": 424,
   "id": "7cdfa733",
   "metadata": {},
   "outputs": [],
   "source": [
    "from selenium.common.exceptions import NoSuchElementException,WebDriverException "
   ]
  },
  {
   "cell_type": "code",
   "execution_count": 538,
   "id": "b42f7eee",
   "metadata": {},
   "outputs": [],
   "source": [
    "Car_name=[]\n",
    "History=[]\n",
    "Year_of_purches=[]\n",
    "Fuel_type=[]\n",
    "Transmission=[]\n",
    "Owner=[]\n",
    "Kilometers_Driven=[]\n",
    "Price=[]\n",
    "\n",
    "for i in Big_url:\n",
    "    driver.get(i)\n",
    "    time.sleep(5)\n",
    "    \n",
    "    try:\n",
    "        cn=driver.find_element_by_xpath(\"/html/body/div[1]/div[3]/div/div/div/div[1]/div[2]/h2\")\n",
    "        Car_name.append(cn.text)\n",
    "    except NoSuchElementException:\n",
    "        Car_name.append(\"---\") \n",
    "        \n",
    "    try:\n",
    "        ht=driver.find_element_by_xpath(\"/html/body/div[1]/div[4]/section[1]/div/div/div/div[1]/div/ul/li[1]/strong\")\n",
    "        History.append(ht.text)\n",
    "    except NoSuchElementException:\n",
    "        History.append(\"---\")   \n",
    "        \n",
    "    try:\n",
    "        yp=driver.find_element_by_xpath(\"/html/body/div[1]/div[4]/section[1]/div/div/div/div[1]/div/ul/li[9]/strong\")\n",
    "        Year_of_purches.append(yp.text)\n",
    "    except NoSuchElementException:\n",
    "        Year_of_purches.append(\"---\")    \n",
    "        \n",
    "    try:\n",
    "        ft=driver.find_element_by_xpath(\"/html/body/div[1]/div[4]/section[1]/div/div/div/div[1]/div/ul/li[4]/strong\")\n",
    "        Fuel_type.append(ft.text)\n",
    "    except NoSuchElementException:\n",
    "        Fuel_type.append(\"---\") \n",
    "        \n",
    "    try:\n",
    "        tm=driver.find_element_by_xpath(\"/html/body/div[1]/div[4]/section[1]/div/div/div/div[1]/div/ul/li[6]/strong\")\n",
    "        Transmission.append(tm.text)\n",
    "    except NoSuchElementException:\n",
    "        Transmission.append(\"---\")    \n",
    "        \n",
    "    try:\n",
    "        on=driver.find_element_by_xpath(\"/html/body/div[1]/div[4]/section[1]/div/div/div/div[1]/div/ul/li[2]/strong\")\n",
    "        Owner.append(on.text)\n",
    "    except NoSuchElementException:\n",
    "        Owner.append(\"---\")  \n",
    "        \n",
    "    try:\n",
    "        kd=driver.find_element_by_xpath(\"/html/body/div[1]/div[4]/section[1]/div/div/div/div[1]/div/ul/li[3]/strong\")\n",
    "        Kilometers_Driven.append(kd.text)\n",
    "    except NoSuchElementException:\n",
    "        Kilometers_Driven.append(\"---\")    \n",
    "        \n",
    "    try:\n",
    "        pr=driver.find_element_by_xpath(\"/html/body/div[1]/div[4]/div[3]/div/div/div[2]/div/div/ul/li[1]/span[2]\")\n",
    "        Price.append(pr.text)\n",
    "    except NoSuchElementException:\n",
    "        Price.append(\"---\")         "
   ]
  },
  {
   "cell_type": "code",
   "execution_count": 542,
   "id": "c7794f07",
   "metadata": {},
   "outputs": [],
   "source": [
    "import joblib"
   ]
  },
  {
   "cell_type": "code",
   "execution_count": 543,
   "id": "d4d4502b",
   "metadata": {},
   "outputs": [
    {
     "data": {
      "text/plain": [
       "['Price.pkl']"
      ]
     },
     "execution_count": 543,
     "metadata": {},
     "output_type": "execute_result"
    }
   ],
   "source": [
    "joblib.dump(Car_name,\"Car_name.pkl\")\n",
    "joblib.dump(History,\"History.pkl\")\n",
    "joblib.dump(Year_of_purches,\"Year_of_purches.pkl\")\n",
    "joblib.dump(Fuel_type,\"Fuel_type.pkl\")\n",
    "joblib.dump(Transmission,\"Transmission.pkl\")\n",
    "joblib.dump(Owner,\"Owner.pkl\")\n",
    "joblib.dump(Kilometers_Driven,\"Kilometers_Driven.pkl\")\n",
    "joblib.dump(Price,\"Price.pkl\")"
   ]
  },
  {
   "cell_type": "code",
   "execution_count": null,
   "id": "0e6cd422",
   "metadata": {},
   "outputs": [],
   "source": []
  },
  {
   "cell_type": "code",
   "execution_count": null,
   "id": "4bffbb97",
   "metadata": {},
   "outputs": [],
   "source": []
  }
 ],
 "metadata": {
  "kernelspec": {
   "display_name": "Python 3 (ipykernel)",
   "language": "python",
   "name": "python3"
  },
  "language_info": {
   "codemirror_mode": {
    "name": "ipython",
    "version": 3
   },
   "file_extension": ".py",
   "mimetype": "text/x-python",
   "name": "python",
   "nbconvert_exporter": "python",
   "pygments_lexer": "ipython3",
   "version": "3.9.7"
  }
 },
 "nbformat": 4,
 "nbformat_minor": 5
}
