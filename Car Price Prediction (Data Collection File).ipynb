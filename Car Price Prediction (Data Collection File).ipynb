{
 "cells": [
  {
   "cell_type": "markdown",
   "id": "1ccf1085",
   "metadata": {},
   "source": [
    "With the covid 19 impact in the market, we have seen lot of changes in the car market. Now some \n",
    "cars are in demand hence making them costly and some are not in demand hence cheaper. One \n",
    "of our clients works with small traders, who sell used cars. With the change in market due to covid \n",
    "19 impact, our client is facing problems with their previous car price valuation machine learning \n",
    "models. So, they are looking for new machine learning models from new data. We have to make \n",
    "car price valuation model. This project contains two phase\n"
   ]
  },
  {
   "cell_type": "markdown",
   "id": "71c5bc88",
   "metadata": {},
   "source": [
    "## Data Collection Phase"
   ]
  },
  {
   "cell_type": "code",
   "execution_count": 1,
   "id": "7a282af9",
   "metadata": {},
   "outputs": [],
   "source": [
    "import selenium \n",
    "from selenium import webdriver\n",
    "import warnings\n",
    "warnings.filterwarnings(\"ignore\")\n",
    "import time"
   ]
  },
  {
   "cell_type": "markdown",
   "id": "4bf68de8",
   "metadata": {},
   "source": [
    "## Car24"
   ]
  },
  {
   "cell_type": "code",
   "execution_count": 288,
   "id": "d858d756",
   "metadata": {},
   "outputs": [],
   "source": [
    "driver=webdriver.Chrome(\"E:\\chromedriver.exe\")\n",
    "time.sleep(10)\n",
    "driver.get(\"https://www.cars24.com/buy-used-car?sort=P&storeCityId=2&pinId=110001\")"
   ]
  },
  {
   "cell_type": "markdown",
   "id": "4a9756b0",
   "metadata": {},
   "source": [
    "### Delhi location"
   ]
  },
  {
   "cell_type": "code",
   "execution_count": 197,
   "id": "7265aaae",
   "metadata": {},
   "outputs": [],
   "source": [
    "urls=[]\n",
    "for i in range(0,1000):\n",
    "    driver.execute_script(\"window.scrollBy(0,10000)\")\n",
    "    \n",
    "    url=driver.find_elements_by_xpath(\"//a[@class='_9Ue0B']\")\n",
    "\n",
    "for i in url:\n",
    "    urls.append(i.get_attribute(\"href\"))"
   ]
  },
  {
   "cell_type": "code",
   "execution_count": 198,
   "id": "2a6b57b9",
   "metadata": {},
   "outputs": [
    {
     "data": {
      "text/plain": [
       "647"
      ]
     },
     "execution_count": 198,
     "metadata": {},
     "output_type": "execute_result"
    }
   ],
   "source": [
    "len(urls)"
   ]
  },
  {
   "cell_type": "markdown",
   "id": "52af4d2a",
   "metadata": {},
   "source": [
    "### Mumbai location"
   ]
  },
  {
   "cell_type": "code",
   "execution_count": 199,
   "id": "58afcc18",
   "metadata": {},
   "outputs": [],
   "source": [
    "click_4=driver.find_element_by_xpath(\"/html/body/div[1]/div[1]/header/div/div[1]/div[2]/p/img\")\n",
    "click_4.click()"
   ]
  },
  {
   "cell_type": "code",
   "execution_count": 200,
   "id": "e57e35c0",
   "metadata": {},
   "outputs": [],
   "source": [
    "click_5=driver.find_element_by_xpath(\"/html/body/div[1]/div[6]/div/div/div/div/div[2]/ul/li[4]/a/span/img\")\n",
    "click_5.click()"
   ]
  },
  {
   "cell_type": "code",
   "execution_count": 201,
   "id": "30364127",
   "metadata": {},
   "outputs": [],
   "source": [
    "urls1=[]\n",
    "for i in range(0,1000):\n",
    "    driver.execute_script(\"window.scrollBy(0,10000)\")\n",
    "    \n",
    "    url=driver.find_elements_by_xpath(\"//a[@class='_9Ue0B']\")\n",
    "\n",
    "for i in url:\n",
    "    urls1.append(i.get_attribute(\"href\"))"
   ]
  },
  {
   "cell_type": "code",
   "execution_count": 202,
   "id": "2da56ae5",
   "metadata": {},
   "outputs": [
    {
     "data": {
      "text/plain": [
       "566"
      ]
     },
     "execution_count": 202,
     "metadata": {},
     "output_type": "execute_result"
    }
   ],
   "source": [
    "len(urls1)"
   ]
  },
  {
   "cell_type": "markdown",
   "id": "e69da25a",
   "metadata": {},
   "source": [
    "### Pune location"
   ]
  },
  {
   "cell_type": "code",
   "execution_count": 203,
   "id": "b4da1382",
   "metadata": {},
   "outputs": [],
   "source": [
    "click_2=driver.find_element_by_xpath(\"//p[@class='_1V4-O']\")\n",
    "click_2.click()"
   ]
  },
  {
   "cell_type": "code",
   "execution_count": 204,
   "id": "88461a8e",
   "metadata": {},
   "outputs": [],
   "source": [
    "click_2=driver.find_element_by_xpath(\"/html/body/div[1]/div[6]/div/div/div/div/div[2]/ul/li[5]/a/span/img\")\n",
    "click_2.click()"
   ]
  },
  {
   "cell_type": "code",
   "execution_count": 207,
   "id": "6e46c1db",
   "metadata": {},
   "outputs": [],
   "source": [
    "urls2=[]\n",
    "\n",
    "for i in range(0,1000):\n",
    "    driver.execute_script(\"window.scrollBy(0,10000)\")\n",
    "    \n",
    "url=driver.find_elements_by_xpath(\"//a[@class='_9Ue0B']\")\n",
    "\n",
    "\n",
    "for i in url:\n",
    "    urls2.append(i.get_attribute(\"href\"))"
   ]
  },
  {
   "cell_type": "code",
   "execution_count": 208,
   "id": "157ce453",
   "metadata": {},
   "outputs": [
    {
     "data": {
      "text/plain": [
       "448"
      ]
     },
     "execution_count": 208,
     "metadata": {},
     "output_type": "execute_result"
    }
   ],
   "source": [
    "len(urls2)"
   ]
  },
  {
   "cell_type": "markdown",
   "id": "509f8550",
   "metadata": {},
   "source": [
    "### Banglore Location"
   ]
  },
  {
   "cell_type": "code",
   "execution_count": 209,
   "id": "890ca28f",
   "metadata": {},
   "outputs": [],
   "source": [
    "click_2=driver.find_element_by_xpath(\"//p[@class='_1V4-O']\")\n",
    "click_2.click()"
   ]
  },
  {
   "cell_type": "code",
   "execution_count": 210,
   "id": "c7881521",
   "metadata": {},
   "outputs": [],
   "source": [
    "click_2=driver.find_element_by_xpath(\"/html/body/div[1]/div[6]/div/div/div/div/div[2]/ul/li[6]/a/span/img\")\n",
    "click_2.click()"
   ]
  },
  {
   "cell_type": "code",
   "execution_count": 211,
   "id": "73a15af8",
   "metadata": {},
   "outputs": [],
   "source": [
    "urls3=[]\n",
    "\n",
    "for i in range(0,1000):\n",
    "    driver.execute_script(\"window.scrollBy(0,10000)\")\n",
    "    \n",
    "    url=driver.find_elements_by_xpath(\"//a[@class='_9Ue0B']\")\n",
    "\n",
    "\n",
    "for i in url:\n",
    "    urls3.append(i.get_attribute(\"href\"))"
   ]
  },
  {
   "cell_type": "code",
   "execution_count": 212,
   "id": "43d1058b",
   "metadata": {},
   "outputs": [
    {
     "data": {
      "text/plain": [
       "391"
      ]
     },
     "execution_count": 212,
     "metadata": {},
     "output_type": "execute_result"
    }
   ],
   "source": [
    "len(urls3)"
   ]
  },
  {
   "cell_type": "markdown",
   "id": "42059c37",
   "metadata": {},
   "source": [
    "### Ahmedabad location"
   ]
  },
  {
   "cell_type": "code",
   "execution_count": 213,
   "id": "3bcd525a",
   "metadata": {},
   "outputs": [],
   "source": [
    "click_2=driver.find_element_by_xpath(\"//p[@class='_1V4-O']\")\n",
    "click_2.click()"
   ]
  },
  {
   "cell_type": "code",
   "execution_count": 214,
   "id": "aaf6ca44",
   "metadata": {},
   "outputs": [],
   "source": [
    "click_2=driver.find_element_by_xpath(\"/html/body/div[1]/div[6]/div/div/div/div/div[2]/ul/li[10]/a/span/img\")\n",
    "click_2.click()"
   ]
  },
  {
   "cell_type": "code",
   "execution_count": 215,
   "id": "ca631292",
   "metadata": {},
   "outputs": [],
   "source": [
    "urls4=[]\n",
    "\n",
    "for i in range(0,1000):\n",
    "    driver.execute_script(\"window.scrollBy(0,10000)\")\n",
    "    \n",
    "    url=driver.find_elements_by_xpath(\"//a[@class='_9Ue0B']\")\n",
    "\n",
    "\n",
    "for i in url:\n",
    "    urls4.append(i.get_attribute(\"href\"))"
   ]
  },
  {
   "cell_type": "code",
   "execution_count": 216,
   "id": "21b08025",
   "metadata": {},
   "outputs": [
    {
     "data": {
      "text/plain": [
       "391"
      ]
     },
     "execution_count": 216,
     "metadata": {},
     "output_type": "execute_result"
    }
   ],
   "source": [
    "len(urls3)"
   ]
  },
  {
   "cell_type": "markdown",
   "id": "14d9e363",
   "metadata": {},
   "source": [
    "### Kolkata location"
   ]
  },
  {
   "cell_type": "code",
   "execution_count": 217,
   "id": "39689a7a",
   "metadata": {},
   "outputs": [],
   "source": [
    "click_2=driver.find_element_by_xpath(\"//p[@class='_1V4-O']\")\n",
    "click_2.click()"
   ]
  },
  {
   "cell_type": "code",
   "execution_count": 218,
   "id": "d57ea154",
   "metadata": {},
   "outputs": [],
   "source": [
    "click_2=driver.find_element_by_xpath(\"/html/body/div[1]/div[6]/div/div/div/div/div[2]/ul/li[9]/a/span/img\")\n",
    "click_2.click()"
   ]
  },
  {
   "cell_type": "code",
   "execution_count": 219,
   "id": "1b01188e",
   "metadata": {},
   "outputs": [],
   "source": [
    "urls5=[]\n",
    "\n",
    "for i in range(0,1000):\n",
    "    driver.execute_script(\"window.scrollBy(0,10000)\")\n",
    "    \n",
    "url=driver.find_elements_by_xpath(\"//a[@class='_9Ue0B']\")\n",
    "\n",
    "\n",
    "for i in url:\n",
    "    urls5.append(i.get_attribute(\"href\"))"
   ]
  },
  {
   "cell_type": "code",
   "execution_count": 220,
   "id": "c9446d39",
   "metadata": {},
   "outputs": [
    {
     "data": {
      "text/plain": [
       "172"
      ]
     },
     "execution_count": 220,
     "metadata": {},
     "output_type": "execute_result"
    }
   ],
   "source": [
    "len(urls5)"
   ]
  },
  {
   "cell_type": "markdown",
   "id": "9b8fcd94",
   "metadata": {},
   "source": [
    "### Chenni location"
   ]
  },
  {
   "cell_type": "code",
   "execution_count": 221,
   "id": "9eab04e3",
   "metadata": {},
   "outputs": [],
   "source": [
    "click_2=driver.find_element_by_xpath(\"//p[@class='_1V4-O']\")\n",
    "click_2.click()"
   ]
  },
  {
   "cell_type": "code",
   "execution_count": 222,
   "id": "373fcbf1",
   "metadata": {},
   "outputs": [],
   "source": [
    "click_2=driver.find_element_by_xpath(\"/html/body/div[1]/div[6]/div/div/div/div/div[2]/ul/li[8]/a/span/img\")\n",
    "click_2.click()"
   ]
  },
  {
   "cell_type": "code",
   "execution_count": 223,
   "id": "18deaced",
   "metadata": {},
   "outputs": [],
   "source": [
    "urls6=[]\n",
    "\n",
    "for i in range(0,1000):\n",
    "    driver.execute_script(\"window.scrollBy(0,10000)\")\n",
    "\n",
    "url=driver.find_elements_by_xpath(\"//a[@class='_9Ue0B']\")\n",
    "\n",
    "for i in url:\n",
    "    urls6.append(i.get_attribute(\"href\"))"
   ]
  },
  {
   "cell_type": "code",
   "execution_count": 224,
   "id": "0ca5fb27",
   "metadata": {},
   "outputs": [
    {
     "data": {
      "text/plain": [
       "320"
      ]
     },
     "execution_count": 224,
     "metadata": {},
     "output_type": "execute_result"
    }
   ],
   "source": [
    "len(urls6)"
   ]
  },
  {
   "cell_type": "markdown",
   "id": "6ddc18fb",
   "metadata": {},
   "source": [
    "### Gurgaon location"
   ]
  },
  {
   "cell_type": "code",
   "execution_count": 225,
   "id": "7772db64",
   "metadata": {},
   "outputs": [],
   "source": [
    "click_2=driver.find_element_by_xpath(\"//p[@class='_1V4-O']\")\n",
    "click_2.click()"
   ]
  },
  {
   "cell_type": "code",
   "execution_count": 226,
   "id": "23e4a080",
   "metadata": {},
   "outputs": [],
   "source": [
    "click_2=driver.find_element_by_xpath(\"/html/body/div[1]/div[6]/div/div/div/div/div[2]/ul/li[3]/a/span/img\")\n",
    "click_2.click()"
   ]
  },
  {
   "cell_type": "code",
   "execution_count": 229,
   "id": "1dcb1169",
   "metadata": {},
   "outputs": [],
   "source": [
    "urls7=[]\n",
    "\n",
    "for i in range(0,1000):\n",
    "    driver.execute_script(\"window.scrollBy(0,10000)\")\n",
    "\n",
    "url=driver.find_elements_by_xpath(\"//a[@class='_9Ue0B']\")\n",
    "\n",
    "for i in url:\n",
    "    urls7.append(i.get_attribute(\"href\"))"
   ]
  },
  {
   "cell_type": "code",
   "execution_count": 230,
   "id": "219ffa91",
   "metadata": {},
   "outputs": [
    {
     "data": {
      "text/plain": [
       "647"
      ]
     },
     "execution_count": 230,
     "metadata": {},
     "output_type": "execute_result"
    }
   ],
   "source": [
    "len(urls7)"
   ]
  },
  {
   "cell_type": "markdown",
   "id": "d451b50a",
   "metadata": {},
   "source": [
    "### Noida location"
   ]
  },
  {
   "cell_type": "code",
   "execution_count": 231,
   "id": "c8380447",
   "metadata": {},
   "outputs": [],
   "source": [
    "click_2=driver.find_element_by_xpath(\"//p[@class='_1V4-O']\")\n",
    "click_2.click()"
   ]
  },
  {
   "cell_type": "code",
   "execution_count": 232,
   "id": "6b202808",
   "metadata": {},
   "outputs": [],
   "source": [
    "click_2=driver.find_element_by_xpath(\"/html/body/div[1]/div[6]/div/div/div/div/div[2]/ul/li[2]/a/span/img\")\n",
    "click_2.click()"
   ]
  },
  {
   "cell_type": "code",
   "execution_count": 235,
   "id": "bd6e2e2c",
   "metadata": {},
   "outputs": [],
   "source": [
    "urls8=[]\n",
    "\n",
    "for i in range(0,1000):\n",
    "    driver.execute_script(\"window.scrollBy(0,10000)\")\n",
    "\n",
    "url=driver.find_elements_by_xpath(\"//a[@class='_9Ue0B']\")\n",
    "\n",
    "for i in url:\n",
    "    urls8.append(i.get_attribute(\"href\"))"
   ]
  },
  {
   "cell_type": "code",
   "execution_count": 236,
   "id": "748798df",
   "metadata": {},
   "outputs": [
    {
     "data": {
      "text/plain": [
       "647"
      ]
     },
     "execution_count": 236,
     "metadata": {},
     "output_type": "execute_result"
    }
   ],
   "source": [
    "len(urls8)"
   ]
  },
  {
   "cell_type": "markdown",
   "id": "d109348e",
   "metadata": {},
   "source": [
    "### Jaipur location"
   ]
  },
  {
   "cell_type": "code",
   "execution_count": 243,
   "id": "c8cf15f4",
   "metadata": {},
   "outputs": [],
   "source": [
    "click_2=driver.find_element_by_xpath(\"//p[@class='_1V4-O']\")\n",
    "click_2.click()"
   ]
  },
  {
   "cell_type": "code",
   "execution_count": 244,
   "id": "d9660893",
   "metadata": {},
   "outputs": [],
   "source": [
    "click_2=driver.find_element_by_xpath(\"/html/body/div[1]/div[6]/div/div/div/div/div[2]/div/div/ul/div[9]/li[2]/a\")\n",
    "click_2.click()"
   ]
  },
  {
   "cell_type": "code",
   "execution_count": 245,
   "id": "0c279492",
   "metadata": {},
   "outputs": [],
   "source": [
    "urls9=[]\n",
    "\n",
    "for i in range(0,1000):\n",
    "    driver.execute_script(\"window.scrollBy(0,10000)\")\n",
    "    \n",
    "url=driver.find_elements_by_xpath(\"//a[@class='_9Ue0B']\")\n",
    "\n",
    "for i in url:\n",
    "    urls9.append(i.get_attribute(\"href\"))    "
   ]
  },
  {
   "cell_type": "code",
   "execution_count": 246,
   "id": "fb4aff1f",
   "metadata": {},
   "outputs": [
    {
     "data": {
      "text/plain": [
       "146"
      ]
     },
     "execution_count": 246,
     "metadata": {},
     "output_type": "execute_result"
    }
   ],
   "source": [
    "len(urls9)"
   ]
  },
  {
   "cell_type": "markdown",
   "id": "6adbfff4",
   "metadata": {},
   "source": [
    "### Lucknow location"
   ]
  },
  {
   "cell_type": "code",
   "execution_count": 247,
   "id": "42e58773",
   "metadata": {},
   "outputs": [],
   "source": [
    "click_2=driver.find_element_by_xpath(\"//p[@class='_1V4-O']\")\n",
    "click_2.click()"
   ]
  },
  {
   "cell_type": "code",
   "execution_count": 248,
   "id": "2fa3793f",
   "metadata": {},
   "outputs": [],
   "source": [
    "click_2=driver.find_element_by_xpath(\"/html/body/div[1]/div[6]/div/div/div/div/div[2]/div/div/ul/div[11]/li[1]/a/span\")\n",
    "click_2.click()"
   ]
  },
  {
   "cell_type": "code",
   "execution_count": 249,
   "id": "030416a1",
   "metadata": {},
   "outputs": [],
   "source": [
    "urls10=[]\n",
    "\n",
    "for i in range(0,1000):\n",
    "    driver.execute_script(\"window.scrollBy(0,10000)\")\n",
    "    \n",
    "url=driver.find_elements_by_xpath(\"//a[@class='_9Ue0B']\")\n",
    "\n",
    "for i in url:\n",
    "    urls10.append(i.get_attribute(\"href\"))  "
   ]
  },
  {
   "cell_type": "code",
   "execution_count": 250,
   "id": "255d7645",
   "metadata": {},
   "outputs": [
    {
     "data": {
      "text/plain": [
       "143"
      ]
     },
     "execution_count": 250,
     "metadata": {},
     "output_type": "execute_result"
    }
   ],
   "source": [
    "len(urls10)"
   ]
  },
  {
   "cell_type": "markdown",
   "id": "8d162e53",
   "metadata": {},
   "source": [
    "### chandigarh location"
   ]
  },
  {
   "cell_type": "code",
   "execution_count": 251,
   "id": "65561dbf",
   "metadata": {},
   "outputs": [],
   "source": [
    "click_2=driver.find_element_by_xpath(\"//p[@class='_1V4-O']\")\n",
    "click_2.click()"
   ]
  },
  {
   "cell_type": "code",
   "execution_count": 252,
   "id": "348016c4",
   "metadata": {},
   "outputs": [],
   "source": [
    "click_2=driver.find_element_by_xpath(\"/html/body/div[1]/div[6]/div/div/div/div/div[2]/div/div/ul/div[3]/li[2]/a/span\")\n",
    "click_2.click()"
   ]
  },
  {
   "cell_type": "code",
   "execution_count": 253,
   "id": "e98edd5f",
   "metadata": {},
   "outputs": [],
   "source": [
    "urls11=[]\n",
    "\n",
    "for i in range(0,1000):\n",
    "    driver.execute_script(\"window.scrollBy(0,10000)\")\n",
    "    \n",
    "url=driver.find_elements_by_xpath(\"//a[@class='_9Ue0B']\")\n",
    "\n",
    "for i in url:\n",
    "    urls11.append(i.get_attribute(\"href\"))  "
   ]
  },
  {
   "cell_type": "code",
   "execution_count": 254,
   "id": "31d0de78",
   "metadata": {},
   "outputs": [
    {
     "data": {
      "text/plain": [
       "128"
      ]
     },
     "execution_count": 254,
     "metadata": {},
     "output_type": "execute_result"
    }
   ],
   "source": [
    "len(urls11)"
   ]
  },
  {
   "cell_type": "markdown",
   "id": "4344ea6b",
   "metadata": {},
   "source": [
    "### Bhopal location"
   ]
  },
  {
   "cell_type": "code",
   "execution_count": 255,
   "id": "2bb1aae4",
   "metadata": {},
   "outputs": [],
   "source": [
    "click_2=driver.find_element_by_xpath(\"//p[@class='_1V4-O']\")\n",
    "click_2.click()"
   ]
  },
  {
   "cell_type": "code",
   "execution_count": 256,
   "id": "91964dbd",
   "metadata": {},
   "outputs": [],
   "source": [
    "click_2=driver.find_element_by_xpath(\"/html/body/div[1]/div[6]/div/div/div/div/div[2]/div/div/ul/div[2]/li[3]/a/span\")\n",
    "click_2.click()"
   ]
  },
  {
   "cell_type": "code",
   "execution_count": 257,
   "id": "992b8f9f",
   "metadata": {},
   "outputs": [],
   "source": [
    "urls12=[]\n",
    "\n",
    "for i in range(0,1000):\n",
    "    driver.execute_script(\"window.scrollBy(0,10000)\")\n",
    "    \n",
    "url=driver.find_elements_by_xpath(\"//a[@class='_9Ue0B']\")\n",
    "\n",
    "for i in url:\n",
    "    urls12.append(i.get_attribute(\"href\"))  "
   ]
  },
  {
   "cell_type": "code",
   "execution_count": 258,
   "id": "63073cd3",
   "metadata": {},
   "outputs": [
    {
     "data": {
      "text/plain": [
       "116"
      ]
     },
     "execution_count": 258,
     "metadata": {},
     "output_type": "execute_result"
    }
   ],
   "source": [
    "len(urls12)"
   ]
  },
  {
   "cell_type": "markdown",
   "id": "c86c1ddc",
   "metadata": {},
   "source": [
    "### Rajkot location"
   ]
  },
  {
   "cell_type": "code",
   "execution_count": 349,
   "id": "cd8353ec",
   "metadata": {},
   "outputs": [],
   "source": [
    "click_2=driver.find_element_by_xpath(\"//p[@class='_1V4-O']\")\n",
    "click_2.click()"
   ]
  },
  {
   "cell_type": "code",
   "execution_count": 350,
   "id": "3535e4d3",
   "metadata": {},
   "outputs": [],
   "source": [
    "click_2=driver.find_element_by_xpath(\"/html/body/div[1]/div[6]/div/div/div/div/div[2]/div/div/ul/div[9]/li[4]/a/span\")\n",
    "click_2.click()"
   ]
  },
  {
   "cell_type": "code",
   "execution_count": 351,
   "id": "c333a37c",
   "metadata": {},
   "outputs": [],
   "source": [
    "urls15=[]\n",
    "\n",
    "for i in range(0,1000):\n",
    "    driver.execute_script(\"window.scrollBy(0,10000)\")\n",
    "    \n",
    "url=driver.find_elements_by_xpath(\"//a[@class='_9Ue0B']\")\n",
    "\n",
    "for i in url:\n",
    "    urls15.append(i.get_attribute(\"href\")) "
   ]
  },
  {
   "cell_type": "code",
   "execution_count": 352,
   "id": "2e4a9857",
   "metadata": {},
   "outputs": [
    {
     "data": {
      "text/plain": [
       "48"
      ]
     },
     "execution_count": 352,
     "metadata": {},
     "output_type": "execute_result"
    }
   ],
   "source": [
    "len(urls15)"
   ]
  },
  {
   "cell_type": "markdown",
   "id": "69ce7da0",
   "metadata": {},
   "source": [
    "### Nasik Location"
   ]
  },
  {
   "cell_type": "code",
   "execution_count": 292,
   "id": "9a616696",
   "metadata": {},
   "outputs": [],
   "source": [
    "click_2=driver.find_element_by_xpath(\"//p[@class='_1V4-O']\")\n",
    "click_2.click()"
   ]
  },
  {
   "cell_type": "code",
   "execution_count": 356,
   "id": "d3cbb155",
   "metadata": {},
   "outputs": [],
   "source": [
    "click_2=driver.find_element_by_xpath(\"/html/body/div[1]/div[6]/div/div/div/div/div[2]/div/div/ul/div[13]/li[2]/a/span\")\n",
    "click_2.click()"
   ]
  },
  {
   "cell_type": "code",
   "execution_count": 357,
   "id": "9276a485",
   "metadata": {},
   "outputs": [],
   "source": [
    "urls17=[]\n",
    "\n",
    "for i in range(0,1000):\n",
    "    driver.execute_script(\"window.scrollBy(0,10000)\")\n",
    "    \n",
    "url=driver.find_elements_by_xpath(\"//a[@class='_9Ue0B']\")\n",
    "\n",
    "for i in url:\n",
    "    urls17.append(i.get_attribute(\"href\")) "
   ]
  },
  {
   "cell_type": "code",
   "execution_count": 358,
   "id": "386c51a7",
   "metadata": {},
   "outputs": [
    {
     "data": {
      "text/plain": [
       "39"
      ]
     },
     "execution_count": 358,
     "metadata": {},
     "output_type": "execute_result"
    }
   ],
   "source": [
    "len(urls17)"
   ]
  },
  {
   "cell_type": "markdown",
   "id": "daa67be6",
   "metadata": {},
   "source": [
    "### Kochi location"
   ]
  },
  {
   "cell_type": "code",
   "execution_count": 363,
   "id": "e5a135b8",
   "metadata": {},
   "outputs": [],
   "source": [
    "click_2=driver.find_element_by_xpath(\"//p[@class='_1V4-O']\")\n",
    "click_2.click()"
   ]
  },
  {
   "cell_type": "code",
   "execution_count": 369,
   "id": "98173523",
   "metadata": {},
   "outputs": [],
   "source": [
    "click_2=driver.find_element_by_xpath(\"/html/body/div[1]/div[6]/div/div/div/div/div[2]/div/div/ul/div[10]/li[2]/a/span\")\n",
    "click_2.click()"
   ]
  },
  {
   "cell_type": "code",
   "execution_count": 370,
   "id": "bcf6f376",
   "metadata": {},
   "outputs": [],
   "source": [
    "urls16=[]\n",
    "\n",
    "for i in range(0,1000):\n",
    "    driver.execute_script(\"window.scrollBy(0,10000)\")\n",
    "    \n",
    "url=driver.find_elements_by_xpath(\"//a[@class='_9Ue0B']\")\n",
    "\n",
    "for i in url:\n",
    "    urls16.append(i.get_attribute(\"href\")) "
   ]
  },
  {
   "cell_type": "code",
   "execution_count": 371,
   "id": "906252bb",
   "metadata": {},
   "outputs": [
    {
     "data": {
      "text/plain": [
       "240"
      ]
     },
     "execution_count": 371,
     "metadata": {},
     "output_type": "execute_result"
    }
   ],
   "source": [
    "len(urls16)"
   ]
  },
  {
   "cell_type": "markdown",
   "id": "02d5fcde",
   "metadata": {},
   "source": [
    "### Fetching the data"
   ]
  },
  {
   "cell_type": "code",
   "execution_count": 535,
   "id": "6e014fed",
   "metadata": {},
   "outputs": [],
   "source": [
    "Big_url=urls+urls1+urls2+urls3+urls4+urls5+urls6+urls7+urls8+urls9+urls10+urls11+urls12+urls15+urls17+urls16"
   ]
  },
  {
   "cell_type": "code",
   "execution_count": 536,
   "id": "7dd4aed8",
   "metadata": {},
   "outputs": [
    {
     "data": {
      "text/plain": [
       "5104"
      ]
     },
     "execution_count": 536,
     "metadata": {},
     "output_type": "execute_result"
    }
   ],
   "source": [
    "len(Big_url)"
   ]
  },
  {
   "cell_type": "code",
   "execution_count": 424,
   "id": "7cdfa733",
   "metadata": {},
   "outputs": [],
   "source": [
    "from selenium.common.exceptions import NoSuchElementException,WebDriverException "
   ]
  },
  {
   "cell_type": "code",
   "execution_count": 538,
   "id": "b42f7eee",
   "metadata": {},
   "outputs": [],
   "source": [
    "Car_name=[]\n",
    "History=[]\n",
    "Year_of_purches=[]\n",
    "Fuel_type=[]\n",
    "Transmission=[]\n",
    "Owner=[]\n",
    "Kilometers_Driven=[]\n",
    "Price=[]\n",
    "\n",
    "for i in Big_url:\n",
    "    driver.get(i)\n",
    "    time.sleep(5)\n",
    "    \n",
    "    try:\n",
    "        cn=driver.find_element_by_xpath(\"/html/body/div[1]/div[3]/div/div/div/div[1]/div[2]/h2\")\n",
    "        Car_name.append(cn.text)\n",
    "    except NoSuchElementException:\n",
    "        Car_name.append(\"---\") \n",
    "        \n",
    "    try:\n",
    "        ht=driver.find_element_by_xpath(\"/html/body/div[1]/div[4]/section[1]/div/div/div/div[1]/div/ul/li[1]/strong\")\n",
    "        History.append(ht.text)\n",
    "    except NoSuchElementException:\n",
    "        History.append(\"---\")   \n",
    "        \n",
    "    try:\n",
    "        yp=driver.find_element_by_xpath(\"/html/body/div[1]/div[4]/section[1]/div/div/div/div[1]/div/ul/li[9]/strong\")\n",
    "        Year_of_purches.append(yp.text)\n",
    "    except NoSuchElementException:\n",
    "        Year_of_purches.append(\"---\")    \n",
    "        \n",
    "    try:\n",
    "        ft=driver.find_element_by_xpath(\"/html/body/div[1]/div[4]/section[1]/div/div/div/div[1]/div/ul/li[4]/strong\")\n",
    "        Fuel_type.append(ft.text)\n",
    "    except NoSuchElementException:\n",
    "        Fuel_type.append(\"---\") \n",
    "        \n",
    "    try:\n",
    "        tm=driver.find_element_by_xpath(\"/html/body/div[1]/div[4]/section[1]/div/div/div/div[1]/div/ul/li[6]/strong\")\n",
    "        Transmission.append(tm.text)\n",
    "    except NoSuchElementException:\n",
    "        Transmission.append(\"---\")    \n",
    "        \n",
    "    try:\n",
    "        on=driver.find_element_by_xpath(\"/html/body/div[1]/div[4]/section[1]/div/div/div/div[1]/div/ul/li[2]/strong\")\n",
    "        Owner.append(on.text)\n",
    "    except NoSuchElementException:\n",
    "        Owner.append(\"---\")  \n",
    "        \n",
    "    try:\n",
    "        kd=driver.find_element_by_xpath(\"/html/body/div[1]/div[4]/section[1]/div/div/div/div[1]/div/ul/li[3]/strong\")\n",
    "        Kilometers_Driven.append(kd.text)\n",
    "    except NoSuchElementException:\n",
    "        Kilometers_Driven.append(\"---\")    \n",
    "        \n",
    "    try:\n",
    "        pr=driver.find_element_by_xpath(\"/html/body/div[1]/div[4]/div[3]/div/div/div[2]/div/div/ul/li[1]/span[2]\")\n",
    "        Price.append(pr.text)\n",
    "    except NoSuchElementException:\n",
    "        Price.append(\"---\")         "
   ]
  },
  {
   "cell_type": "code",
   "execution_count": 542,
   "id": "c7794f07",
   "metadata": {},
   "outputs": [],
   "source": [
    "import joblib"
   ]
  },
  {
   "cell_type": "code",
   "execution_count": 543,
   "id": "d4d4502b",
   "metadata": {},
   "outputs": [
    {
     "data": {
      "text/plain": [
       "['Price.pkl']"
      ]
     },
     "execution_count": 543,
     "metadata": {},
     "output_type": "execute_result"
    }
   ],
   "source": [
    "joblib.dump(Car_name,\"Car_name.pkl\")\n",
    "joblib.dump(History,\"History.pkl\")\n",
    "joblib.dump(Year_of_purches,\"Year_of_purches.pkl\")\n",
    "joblib.dump(Fuel_type,\"Fuel_type.pkl\")\n",
    "joblib.dump(Transmission,\"Transmission.pkl\")\n",
    "joblib.dump(Owner,\"Owner.pkl\")\n",
    "joblib.dump(Kilometers_Driven,\"Kilometers_Driven.pkl\")\n",
    "joblib.dump(Price,\"Price.pkl\")"
   ]
  },
  {
   "cell_type": "code",
   "execution_count": null,
   "id": "1b079dc5",
   "metadata": {},
   "outputs": [],
   "source": []
  },
  {
   "cell_type": "code",
   "execution_count": 1,
   "id": "37da68ce",
   "metadata": {},
   "outputs": [],
   "source": [
    "import selenium \n",
    "from selenium import webdriver\n",
    "import warnings\n",
    "warnings.filterwarnings(\"ignore\")\n",
    "import time"
   ]
  },
  {
   "cell_type": "markdown",
   "id": "a3db304c",
   "metadata": {},
   "source": [
    "## Car Dekho"
   ]
  },
  {
   "cell_type": "code",
   "execution_count": 14,
   "id": "8b2433d8",
   "metadata": {},
   "outputs": [],
   "source": [
    "driver=driver=webdriver.Chrome(\"E:\\chromedriver.exe\")"
   ]
  },
  {
   "cell_type": "code",
   "execution_count": 15,
   "id": "4e772f7a",
   "metadata": {},
   "outputs": [],
   "source": [
    "driver.get(\"https://www.cardekho.com/\")"
   ]
  },
  {
   "cell_type": "markdown",
   "id": "87f05acf",
   "metadata": {},
   "source": [
    "### Ahmedabad location"
   ]
  },
  {
   "cell_type": "code",
   "execution_count": 62,
   "id": "9793aadf",
   "metadata": {},
   "outputs": [],
   "source": [
    "xpath=[]\n",
    "for i in range(1,787):\n",
    "    lp='/html/body/div[2]/div/div[1]/div/div/main/div[1]/div[1]/div[6]/div[akash]/div/div[2]/div/div/a'\n",
    "    xpath.append(lp)"
   ]
  },
  {
   "cell_type": "code",
   "execution_count": 64,
   "id": "da405fef",
   "metadata": {},
   "outputs": [],
   "source": [
    "for i in range(1,785):\n",
    "    xpath[i]=xpath[i].replace('akash',str(i))"
   ]
  },
  {
   "cell_type": "code",
   "execution_count": 70,
   "id": "201ac77c",
   "metadata": {},
   "outputs": [
    {
     "data": {
      "text/plain": [
       "['/html/body/div[2]/div/div[1]/div/div/main/div[1]/div[1]/div[6]/div[1]/div/div[2]/div/div/a',\n",
       " '/html/body/div[2]/div/div[1]/div/div/main/div[1]/div[1]/div[6]/div[2]/div/div[2]/div/div/a',\n",
       " '/html/body/div[2]/div/div[1]/div/div/main/div[1]/div[1]/div[6]/div[3]/div/div[2]/div/div/a',\n",
       " '/html/body/div[2]/div/div[1]/div/div/main/div[1]/div[1]/div[6]/div[4]/div/div[2]/div/div/a',\n",
       " '/html/body/div[2]/div/div[1]/div/div/main/div[1]/div[1]/div[6]/div[5]/div/div[2]/div/div/a',\n",
       " '/html/body/div[2]/div/div[1]/div/div/main/div[1]/div[1]/div[6]/div[6]/div/div[2]/div/div/a',\n",
       " '/html/body/div[2]/div/div[1]/div/div/main/div[1]/div[1]/div[6]/div[7]/div/div[2]/div/div/a',\n",
       " '/html/body/div[2]/div/div[1]/div/div/main/div[1]/div[1]/div[6]/div[8]/div/div[2]/div/div/a',\n",
       " '/html/body/div[2]/div/div[1]/div/div/main/div[1]/div[1]/div[6]/div[9]/div/div[2]/div/div/a',\n",
       " '/html/body/div[2]/div/div[1]/div/div/main/div[1]/div[1]/div[6]/div[10]/div/div[2]/div/div/a',\n",
       " '/html/body/div[2]/div/div[1]/div/div/main/div[1]/div[1]/div[6]/div[11]/div/div[2]/div/div/a',\n",
       " '/html/body/div[2]/div/div[1]/div/div/main/div[1]/div[1]/div[6]/div[12]/div/div[2]/div/div/a',\n",
       " '/html/body/div[2]/div/div[1]/div/div/main/div[1]/div[1]/div[6]/div[13]/div/div[2]/div/div/a',\n",
       " '/html/body/div[2]/div/div[1]/div/div/main/div[1]/div[1]/div[6]/div[14]/div/div[2]/div/div/a',\n",
       " '/html/body/div[2]/div/div[1]/div/div/main/div[1]/div[1]/div[6]/div[15]/div/div[2]/div/div/a',\n",
       " '/html/body/div[2]/div/div[1]/div/div/main/div[1]/div[1]/div[6]/div[16]/div/div[2]/div/div/a',\n",
       " '/html/body/div[2]/div/div[1]/div/div/main/div[1]/div[1]/div[6]/div[17]/div/div[2]/div/div/a',\n",
       " '/html/body/div[2]/div/div[1]/div/div/main/div[1]/div[1]/div[6]/div[18]/div/div[2]/div/div/a',\n",
       " '/html/body/div[2]/div/div[1]/div/div/main/div[1]/div[1]/div[6]/div[19]/div/div[2]/div/div/a',\n",
       " '/html/body/div[2]/div/div[1]/div/div/main/div[1]/div[1]/div[6]/div[20]/div/div[2]/div/div/a',\n",
       " '/html/body/div[2]/div/div[1]/div/div/main/div[1]/div[1]/div[6]/div[21]/div/div[2]/div/div/a',\n",
       " '/html/body/div[2]/div/div[1]/div/div/main/div[1]/div[1]/div[6]/div[22]/div/div[2]/div/div/a',\n",
       " '/html/body/div[2]/div/div[1]/div/div/main/div[1]/div[1]/div[6]/div[23]/div/div[2]/div/div/a',\n",
       " '/html/body/div[2]/div/div[1]/div/div/main/div[1]/div[1]/div[6]/div[24]/div/div[2]/div/div/a',\n",
       " '/html/body/div[2]/div/div[1]/div/div/main/div[1]/div[1]/div[6]/div[25]/div/div[2]/div/div/a',\n",
       " '/html/body/div[2]/div/div[1]/div/div/main/div[1]/div[1]/div[6]/div[26]/div/div[2]/div/div/a',\n",
       " '/html/body/div[2]/div/div[1]/div/div/main/div[1]/div[1]/div[6]/div[27]/div/div[2]/div/div/a',\n",
       " '/html/body/div[2]/div/div[1]/div/div/main/div[1]/div[1]/div[6]/div[28]/div/div[2]/div/div/a',\n",
       " '/html/body/div[2]/div/div[1]/div/div/main/div[1]/div[1]/div[6]/div[29]/div/div[2]/div/div/a',\n",
       " '/html/body/div[2]/div/div[1]/div/div/main/div[1]/div[1]/div[6]/div[30]/div/div[2]/div/div/a',\n",
       " '/html/body/div[2]/div/div[1]/div/div/main/div[1]/div[1]/div[6]/div[31]/div/div[2]/div/div/a',\n",
       " '/html/body/div[2]/div/div[1]/div/div/main/div[1]/div[1]/div[6]/div[32]/div/div[2]/div/div/a',\n",
       " '/html/body/div[2]/div/div[1]/div/div/main/div[1]/div[1]/div[6]/div[33]/div/div[2]/div/div/a',\n",
       " '/html/body/div[2]/div/div[1]/div/div/main/div[1]/div[1]/div[6]/div[34]/div/div[2]/div/div/a',\n",
       " '/html/body/div[2]/div/div[1]/div/div/main/div[1]/div[1]/div[6]/div[35]/div/div[2]/div/div/a',\n",
       " '/html/body/div[2]/div/div[1]/div/div/main/div[1]/div[1]/div[6]/div[36]/div/div[2]/div/div/a',\n",
       " '/html/body/div[2]/div/div[1]/div/div/main/div[1]/div[1]/div[6]/div[37]/div/div[2]/div/div/a',\n",
       " '/html/body/div[2]/div/div[1]/div/div/main/div[1]/div[1]/div[6]/div[38]/div/div[2]/div/div/a',\n",
       " '/html/body/div[2]/div/div[1]/div/div/main/div[1]/div[1]/div[6]/div[39]/div/div[2]/div/div/a',\n",
       " '/html/body/div[2]/div/div[1]/div/div/main/div[1]/div[1]/div[6]/div[40]/div/div[2]/div/div/a',\n",
       " '/html/body/div[2]/div/div[1]/div/div/main/div[1]/div[1]/div[6]/div[41]/div/div[2]/div/div/a',\n",
       " '/html/body/div[2]/div/div[1]/div/div/main/div[1]/div[1]/div[6]/div[42]/div/div[2]/div/div/a',\n",
       " '/html/body/div[2]/div/div[1]/div/div/main/div[1]/div[1]/div[6]/div[43]/div/div[2]/div/div/a',\n",
       " '/html/body/div[2]/div/div[1]/div/div/main/div[1]/div[1]/div[6]/div[44]/div/div[2]/div/div/a',\n",
       " '/html/body/div[2]/div/div[1]/div/div/main/div[1]/div[1]/div[6]/div[45]/div/div[2]/div/div/a',\n",
       " '/html/body/div[2]/div/div[1]/div/div/main/div[1]/div[1]/div[6]/div[46]/div/div[2]/div/div/a',\n",
       " '/html/body/div[2]/div/div[1]/div/div/main/div[1]/div[1]/div[6]/div[47]/div/div[2]/div/div/a',\n",
       " '/html/body/div[2]/div/div[1]/div/div/main/div[1]/div[1]/div[6]/div[48]/div/div[2]/div/div/a',\n",
       " '/html/body/div[2]/div/div[1]/div/div/main/div[1]/div[1]/div[6]/div[49]/div/div[2]/div/div/a',\n",
       " '/html/body/div[2]/div/div[1]/div/div/main/div[1]/div[1]/div[6]/div[50]/div/div[2]/div/div/a',\n",
       " '/html/body/div[2]/div/div[1]/div/div/main/div[1]/div[1]/div[6]/div[51]/div/div[2]/div/div/a',\n",
       " '/html/body/div[2]/div/div[1]/div/div/main/div[1]/div[1]/div[6]/div[52]/div/div[2]/div/div/a',\n",
       " '/html/body/div[2]/div/div[1]/div/div/main/div[1]/div[1]/div[6]/div[53]/div/div[2]/div/div/a',\n",
       " '/html/body/div[2]/div/div[1]/div/div/main/div[1]/div[1]/div[6]/div[54]/div/div[2]/div/div/a',\n",
       " '/html/body/div[2]/div/div[1]/div/div/main/div[1]/div[1]/div[6]/div[55]/div/div[2]/div/div/a',\n",
       " '/html/body/div[2]/div/div[1]/div/div/main/div[1]/div[1]/div[6]/div[56]/div/div[2]/div/div/a',\n",
       " '/html/body/div[2]/div/div[1]/div/div/main/div[1]/div[1]/div[6]/div[57]/div/div[2]/div/div/a',\n",
       " '/html/body/div[2]/div/div[1]/div/div/main/div[1]/div[1]/div[6]/div[58]/div/div[2]/div/div/a',\n",
       " '/html/body/div[2]/div/div[1]/div/div/main/div[1]/div[1]/div[6]/div[59]/div/div[2]/div/div/a',\n",
       " '/html/body/div[2]/div/div[1]/div/div/main/div[1]/div[1]/div[6]/div[60]/div/div[2]/div/div/a',\n",
       " '/html/body/div[2]/div/div[1]/div/div/main/div[1]/div[1]/div[6]/div[61]/div/div[2]/div/div/a',\n",
       " '/html/body/div[2]/div/div[1]/div/div/main/div[1]/div[1]/div[6]/div[62]/div/div[2]/div/div/a',\n",
       " '/html/body/div[2]/div/div[1]/div/div/main/div[1]/div[1]/div[6]/div[63]/div/div[2]/div/div/a',\n",
       " '/html/body/div[2]/div/div[1]/div/div/main/div[1]/div[1]/div[6]/div[64]/div/div[2]/div/div/a',\n",
       " '/html/body/div[2]/div/div[1]/div/div/main/div[1]/div[1]/div[6]/div[65]/div/div[2]/div/div/a',\n",
       " '/html/body/div[2]/div/div[1]/div/div/main/div[1]/div[1]/div[6]/div[66]/div/div[2]/div/div/a',\n",
       " '/html/body/div[2]/div/div[1]/div/div/main/div[1]/div[1]/div[6]/div[67]/div/div[2]/div/div/a',\n",
       " '/html/body/div[2]/div/div[1]/div/div/main/div[1]/div[1]/div[6]/div[68]/div/div[2]/div/div/a',\n",
       " '/html/body/div[2]/div/div[1]/div/div/main/div[1]/div[1]/div[6]/div[69]/div/div[2]/div/div/a',\n",
       " '/html/body/div[2]/div/div[1]/div/div/main/div[1]/div[1]/div[6]/div[70]/div/div[2]/div/div/a',\n",
       " '/html/body/div[2]/div/div[1]/div/div/main/div[1]/div[1]/div[6]/div[71]/div/div[2]/div/div/a',\n",
       " '/html/body/div[2]/div/div[1]/div/div/main/div[1]/div[1]/div[6]/div[72]/div/div[2]/div/div/a',\n",
       " '/html/body/div[2]/div/div[1]/div/div/main/div[1]/div[1]/div[6]/div[73]/div/div[2]/div/div/a',\n",
       " '/html/body/div[2]/div/div[1]/div/div/main/div[1]/div[1]/div[6]/div[74]/div/div[2]/div/div/a',\n",
       " '/html/body/div[2]/div/div[1]/div/div/main/div[1]/div[1]/div[6]/div[75]/div/div[2]/div/div/a',\n",
       " '/html/body/div[2]/div/div[1]/div/div/main/div[1]/div[1]/div[6]/div[76]/div/div[2]/div/div/a',\n",
       " '/html/body/div[2]/div/div[1]/div/div/main/div[1]/div[1]/div[6]/div[77]/div/div[2]/div/div/a',\n",
       " '/html/body/div[2]/div/div[1]/div/div/main/div[1]/div[1]/div[6]/div[78]/div/div[2]/div/div/a',\n",
       " '/html/body/div[2]/div/div[1]/div/div/main/div[1]/div[1]/div[6]/div[79]/div/div[2]/div/div/a',\n",
       " '/html/body/div[2]/div/div[1]/div/div/main/div[1]/div[1]/div[6]/div[80]/div/div[2]/div/div/a',\n",
       " '/html/body/div[2]/div/div[1]/div/div/main/div[1]/div[1]/div[6]/div[81]/div/div[2]/div/div/a',\n",
       " '/html/body/div[2]/div/div[1]/div/div/main/div[1]/div[1]/div[6]/div[82]/div/div[2]/div/div/a',\n",
       " '/html/body/div[2]/div/div[1]/div/div/main/div[1]/div[1]/div[6]/div[83]/div/div[2]/div/div/a',\n",
       " '/html/body/div[2]/div/div[1]/div/div/main/div[1]/div[1]/div[6]/div[84]/div/div[2]/div/div/a',\n",
       " '/html/body/div[2]/div/div[1]/div/div/main/div[1]/div[1]/div[6]/div[85]/div/div[2]/div/div/a',\n",
       " '/html/body/div[2]/div/div[1]/div/div/main/div[1]/div[1]/div[6]/div[86]/div/div[2]/div/div/a',\n",
       " '/html/body/div[2]/div/div[1]/div/div/main/div[1]/div[1]/div[6]/div[87]/div/div[2]/div/div/a',\n",
       " '/html/body/div[2]/div/div[1]/div/div/main/div[1]/div[1]/div[6]/div[88]/div/div[2]/div/div/a',\n",
       " '/html/body/div[2]/div/div[1]/div/div/main/div[1]/div[1]/div[6]/div[89]/div/div[2]/div/div/a',\n",
       " '/html/body/div[2]/div/div[1]/div/div/main/div[1]/div[1]/div[6]/div[90]/div/div[2]/div/div/a',\n",
       " '/html/body/div[2]/div/div[1]/div/div/main/div[1]/div[1]/div[6]/div[91]/div/div[2]/div/div/a',\n",
       " '/html/body/div[2]/div/div[1]/div/div/main/div[1]/div[1]/div[6]/div[92]/div/div[2]/div/div/a',\n",
       " '/html/body/div[2]/div/div[1]/div/div/main/div[1]/div[1]/div[6]/div[93]/div/div[2]/div/div/a',\n",
       " '/html/body/div[2]/div/div[1]/div/div/main/div[1]/div[1]/div[6]/div[94]/div/div[2]/div/div/a',\n",
       " '/html/body/div[2]/div/div[1]/div/div/main/div[1]/div[1]/div[6]/div[95]/div/div[2]/div/div/a',\n",
       " '/html/body/div[2]/div/div[1]/div/div/main/div[1]/div[1]/div[6]/div[96]/div/div[2]/div/div/a',\n",
       " '/html/body/div[2]/div/div[1]/div/div/main/div[1]/div[1]/div[6]/div[97]/div/div[2]/div/div/a',\n",
       " '/html/body/div[2]/div/div[1]/div/div/main/div[1]/div[1]/div[6]/div[98]/div/div[2]/div/div/a',\n",
       " '/html/body/div[2]/div/div[1]/div/div/main/div[1]/div[1]/div[6]/div[99]/div/div[2]/div/div/a',\n",
       " '/html/body/div[2]/div/div[1]/div/div/main/div[1]/div[1]/div[6]/div[100]/div/div[2]/div/div/a',\n",
       " '/html/body/div[2]/div/div[1]/div/div/main/div[1]/div[1]/div[6]/div[101]/div/div[2]/div/div/a',\n",
       " '/html/body/div[2]/div/div[1]/div/div/main/div[1]/div[1]/div[6]/div[102]/div/div[2]/div/div/a',\n",
       " '/html/body/div[2]/div/div[1]/div/div/main/div[1]/div[1]/div[6]/div[103]/div/div[2]/div/div/a',\n",
       " '/html/body/div[2]/div/div[1]/div/div/main/div[1]/div[1]/div[6]/div[104]/div/div[2]/div/div/a',\n",
       " '/html/body/div[2]/div/div[1]/div/div/main/div[1]/div[1]/div[6]/div[105]/div/div[2]/div/div/a',\n",
       " '/html/body/div[2]/div/div[1]/div/div/main/div[1]/div[1]/div[6]/div[106]/div/div[2]/div/div/a',\n",
       " '/html/body/div[2]/div/div[1]/div/div/main/div[1]/div[1]/div[6]/div[107]/div/div[2]/div/div/a',\n",
       " '/html/body/div[2]/div/div[1]/div/div/main/div[1]/div[1]/div[6]/div[108]/div/div[2]/div/div/a',\n",
       " '/html/body/div[2]/div/div[1]/div/div/main/div[1]/div[1]/div[6]/div[109]/div/div[2]/div/div/a',\n",
       " '/html/body/div[2]/div/div[1]/div/div/main/div[1]/div[1]/div[6]/div[110]/div/div[2]/div/div/a',\n",
       " '/html/body/div[2]/div/div[1]/div/div/main/div[1]/div[1]/div[6]/div[111]/div/div[2]/div/div/a',\n",
       " '/html/body/div[2]/div/div[1]/div/div/main/div[1]/div[1]/div[6]/div[112]/div/div[2]/div/div/a',\n",
       " '/html/body/div[2]/div/div[1]/div/div/main/div[1]/div[1]/div[6]/div[113]/div/div[2]/div/div/a',\n",
       " '/html/body/div[2]/div/div[1]/div/div/main/div[1]/div[1]/div[6]/div[114]/div/div[2]/div/div/a',\n",
       " '/html/body/div[2]/div/div[1]/div/div/main/div[1]/div[1]/div[6]/div[115]/div/div[2]/div/div/a',\n",
       " '/html/body/div[2]/div/div[1]/div/div/main/div[1]/div[1]/div[6]/div[116]/div/div[2]/div/div/a',\n",
       " '/html/body/div[2]/div/div[1]/div/div/main/div[1]/div[1]/div[6]/div[117]/div/div[2]/div/div/a',\n",
       " '/html/body/div[2]/div/div[1]/div/div/main/div[1]/div[1]/div[6]/div[118]/div/div[2]/div/div/a',\n",
       " '/html/body/div[2]/div/div[1]/div/div/main/div[1]/div[1]/div[6]/div[119]/div/div[2]/div/div/a',\n",
       " '/html/body/div[2]/div/div[1]/div/div/main/div[1]/div[1]/div[6]/div[120]/div/div[2]/div/div/a',\n",
       " '/html/body/div[2]/div/div[1]/div/div/main/div[1]/div[1]/div[6]/div[121]/div/div[2]/div/div/a',\n",
       " '/html/body/div[2]/div/div[1]/div/div/main/div[1]/div[1]/div[6]/div[122]/div/div[2]/div/div/a',\n",
       " '/html/body/div[2]/div/div[1]/div/div/main/div[1]/div[1]/div[6]/div[123]/div/div[2]/div/div/a',\n",
       " '/html/body/div[2]/div/div[1]/div/div/main/div[1]/div[1]/div[6]/div[124]/div/div[2]/div/div/a',\n",
       " '/html/body/div[2]/div/div[1]/div/div/main/div[1]/div[1]/div[6]/div[125]/div/div[2]/div/div/a',\n",
       " '/html/body/div[2]/div/div[1]/div/div/main/div[1]/div[1]/div[6]/div[126]/div/div[2]/div/div/a',\n",
       " '/html/body/div[2]/div/div[1]/div/div/main/div[1]/div[1]/div[6]/div[127]/div/div[2]/div/div/a',\n",
       " '/html/body/div[2]/div/div[1]/div/div/main/div[1]/div[1]/div[6]/div[128]/div/div[2]/div/div/a',\n",
       " '/html/body/div[2]/div/div[1]/div/div/main/div[1]/div[1]/div[6]/div[129]/div/div[2]/div/div/a',\n",
       " '/html/body/div[2]/div/div[1]/div/div/main/div[1]/div[1]/div[6]/div[130]/div/div[2]/div/div/a',\n",
       " '/html/body/div[2]/div/div[1]/div/div/main/div[1]/div[1]/div[6]/div[131]/div/div[2]/div/div/a',\n",
       " '/html/body/div[2]/div/div[1]/div/div/main/div[1]/div[1]/div[6]/div[132]/div/div[2]/div/div/a',\n",
       " '/html/body/div[2]/div/div[1]/div/div/main/div[1]/div[1]/div[6]/div[133]/div/div[2]/div/div/a',\n",
       " '/html/body/div[2]/div/div[1]/div/div/main/div[1]/div[1]/div[6]/div[134]/div/div[2]/div/div/a',\n",
       " '/html/body/div[2]/div/div[1]/div/div/main/div[1]/div[1]/div[6]/div[135]/div/div[2]/div/div/a',\n",
       " '/html/body/div[2]/div/div[1]/div/div/main/div[1]/div[1]/div[6]/div[136]/div/div[2]/div/div/a',\n",
       " '/html/body/div[2]/div/div[1]/div/div/main/div[1]/div[1]/div[6]/div[137]/div/div[2]/div/div/a',\n",
       " '/html/body/div[2]/div/div[1]/div/div/main/div[1]/div[1]/div[6]/div[138]/div/div[2]/div/div/a',\n",
       " '/html/body/div[2]/div/div[1]/div/div/main/div[1]/div[1]/div[6]/div[139]/div/div[2]/div/div/a',\n",
       " '/html/body/div[2]/div/div[1]/div/div/main/div[1]/div[1]/div[6]/div[140]/div/div[2]/div/div/a',\n",
       " '/html/body/div[2]/div/div[1]/div/div/main/div[1]/div[1]/div[6]/div[141]/div/div[2]/div/div/a',\n",
       " '/html/body/div[2]/div/div[1]/div/div/main/div[1]/div[1]/div[6]/div[142]/div/div[2]/div/div/a',\n",
       " '/html/body/div[2]/div/div[1]/div/div/main/div[1]/div[1]/div[6]/div[143]/div/div[2]/div/div/a',\n",
       " '/html/body/div[2]/div/div[1]/div/div/main/div[1]/div[1]/div[6]/div[144]/div/div[2]/div/div/a',\n",
       " '/html/body/div[2]/div/div[1]/div/div/main/div[1]/div[1]/div[6]/div[145]/div/div[2]/div/div/a',\n",
       " '/html/body/div[2]/div/div[1]/div/div/main/div[1]/div[1]/div[6]/div[146]/div/div[2]/div/div/a',\n",
       " '/html/body/div[2]/div/div[1]/div/div/main/div[1]/div[1]/div[6]/div[147]/div/div[2]/div/div/a',\n",
       " '/html/body/div[2]/div/div[1]/div/div/main/div[1]/div[1]/div[6]/div[148]/div/div[2]/div/div/a',\n",
       " '/html/body/div[2]/div/div[1]/div/div/main/div[1]/div[1]/div[6]/div[149]/div/div[2]/div/div/a',\n",
       " '/html/body/div[2]/div/div[1]/div/div/main/div[1]/div[1]/div[6]/div[150]/div/div[2]/div/div/a',\n",
       " '/html/body/div[2]/div/div[1]/div/div/main/div[1]/div[1]/div[6]/div[151]/div/div[2]/div/div/a',\n",
       " '/html/body/div[2]/div/div[1]/div/div/main/div[1]/div[1]/div[6]/div[152]/div/div[2]/div/div/a',\n",
       " '/html/body/div[2]/div/div[1]/div/div/main/div[1]/div[1]/div[6]/div[153]/div/div[2]/div/div/a',\n",
       " '/html/body/div[2]/div/div[1]/div/div/main/div[1]/div[1]/div[6]/div[154]/div/div[2]/div/div/a',\n",
       " '/html/body/div[2]/div/div[1]/div/div/main/div[1]/div[1]/div[6]/div[155]/div/div[2]/div/div/a',\n",
       " '/html/body/div[2]/div/div[1]/div/div/main/div[1]/div[1]/div[6]/div[156]/div/div[2]/div/div/a',\n",
       " '/html/body/div[2]/div/div[1]/div/div/main/div[1]/div[1]/div[6]/div[157]/div/div[2]/div/div/a',\n",
       " '/html/body/div[2]/div/div[1]/div/div/main/div[1]/div[1]/div[6]/div[158]/div/div[2]/div/div/a',\n",
       " '/html/body/div[2]/div/div[1]/div/div/main/div[1]/div[1]/div[6]/div[159]/div/div[2]/div/div/a',\n",
       " '/html/body/div[2]/div/div[1]/div/div/main/div[1]/div[1]/div[6]/div[160]/div/div[2]/div/div/a',\n",
       " '/html/body/div[2]/div/div[1]/div/div/main/div[1]/div[1]/div[6]/div[161]/div/div[2]/div/div/a',\n",
       " '/html/body/div[2]/div/div[1]/div/div/main/div[1]/div[1]/div[6]/div[162]/div/div[2]/div/div/a',\n",
       " '/html/body/div[2]/div/div[1]/div/div/main/div[1]/div[1]/div[6]/div[163]/div/div[2]/div/div/a',\n",
       " '/html/body/div[2]/div/div[1]/div/div/main/div[1]/div[1]/div[6]/div[164]/div/div[2]/div/div/a',\n",
       " '/html/body/div[2]/div/div[1]/div/div/main/div[1]/div[1]/div[6]/div[165]/div/div[2]/div/div/a',\n",
       " '/html/body/div[2]/div/div[1]/div/div/main/div[1]/div[1]/div[6]/div[166]/div/div[2]/div/div/a',\n",
       " '/html/body/div[2]/div/div[1]/div/div/main/div[1]/div[1]/div[6]/div[167]/div/div[2]/div/div/a',\n",
       " '/html/body/div[2]/div/div[1]/div/div/main/div[1]/div[1]/div[6]/div[168]/div/div[2]/div/div/a',\n",
       " '/html/body/div[2]/div/div[1]/div/div/main/div[1]/div[1]/div[6]/div[169]/div/div[2]/div/div/a',\n",
       " '/html/body/div[2]/div/div[1]/div/div/main/div[1]/div[1]/div[6]/div[170]/div/div[2]/div/div/a',\n",
       " '/html/body/div[2]/div/div[1]/div/div/main/div[1]/div[1]/div[6]/div[171]/div/div[2]/div/div/a',\n",
       " '/html/body/div[2]/div/div[1]/div/div/main/div[1]/div[1]/div[6]/div[172]/div/div[2]/div/div/a',\n",
       " '/html/body/div[2]/div/div[1]/div/div/main/div[1]/div[1]/div[6]/div[173]/div/div[2]/div/div/a',\n",
       " '/html/body/div[2]/div/div[1]/div/div/main/div[1]/div[1]/div[6]/div[174]/div/div[2]/div/div/a',\n",
       " '/html/body/div[2]/div/div[1]/div/div/main/div[1]/div[1]/div[6]/div[175]/div/div[2]/div/div/a',\n",
       " '/html/body/div[2]/div/div[1]/div/div/main/div[1]/div[1]/div[6]/div[176]/div/div[2]/div/div/a',\n",
       " '/html/body/div[2]/div/div[1]/div/div/main/div[1]/div[1]/div[6]/div[177]/div/div[2]/div/div/a',\n",
       " '/html/body/div[2]/div/div[1]/div/div/main/div[1]/div[1]/div[6]/div[178]/div/div[2]/div/div/a',\n",
       " '/html/body/div[2]/div/div[1]/div/div/main/div[1]/div[1]/div[6]/div[179]/div/div[2]/div/div/a',\n",
       " '/html/body/div[2]/div/div[1]/div/div/main/div[1]/div[1]/div[6]/div[180]/div/div[2]/div/div/a',\n",
       " '/html/body/div[2]/div/div[1]/div/div/main/div[1]/div[1]/div[6]/div[181]/div/div[2]/div/div/a',\n",
       " '/html/body/div[2]/div/div[1]/div/div/main/div[1]/div[1]/div[6]/div[182]/div/div[2]/div/div/a',\n",
       " '/html/body/div[2]/div/div[1]/div/div/main/div[1]/div[1]/div[6]/div[183]/div/div[2]/div/div/a',\n",
       " '/html/body/div[2]/div/div[1]/div/div/main/div[1]/div[1]/div[6]/div[184]/div/div[2]/div/div/a',\n",
       " '/html/body/div[2]/div/div[1]/div/div/main/div[1]/div[1]/div[6]/div[185]/div/div[2]/div/div/a',\n",
       " '/html/body/div[2]/div/div[1]/div/div/main/div[1]/div[1]/div[6]/div[186]/div/div[2]/div/div/a',\n",
       " '/html/body/div[2]/div/div[1]/div/div/main/div[1]/div[1]/div[6]/div[187]/div/div[2]/div/div/a',\n",
       " '/html/body/div[2]/div/div[1]/div/div/main/div[1]/div[1]/div[6]/div[188]/div/div[2]/div/div/a',\n",
       " '/html/body/div[2]/div/div[1]/div/div/main/div[1]/div[1]/div[6]/div[189]/div/div[2]/div/div/a',\n",
       " '/html/body/div[2]/div/div[1]/div/div/main/div[1]/div[1]/div[6]/div[190]/div/div[2]/div/div/a',\n",
       " '/html/body/div[2]/div/div[1]/div/div/main/div[1]/div[1]/div[6]/div[191]/div/div[2]/div/div/a',\n",
       " '/html/body/div[2]/div/div[1]/div/div/main/div[1]/div[1]/div[6]/div[192]/div/div[2]/div/div/a',\n",
       " '/html/body/div[2]/div/div[1]/div/div/main/div[1]/div[1]/div[6]/div[193]/div/div[2]/div/div/a',\n",
       " '/html/body/div[2]/div/div[1]/div/div/main/div[1]/div[1]/div[6]/div[194]/div/div[2]/div/div/a',\n",
       " '/html/body/div[2]/div/div[1]/div/div/main/div[1]/div[1]/div[6]/div[195]/div/div[2]/div/div/a',\n",
       " '/html/body/div[2]/div/div[1]/div/div/main/div[1]/div[1]/div[6]/div[196]/div/div[2]/div/div/a',\n",
       " '/html/body/div[2]/div/div[1]/div/div/main/div[1]/div[1]/div[6]/div[197]/div/div[2]/div/div/a',\n",
       " '/html/body/div[2]/div/div[1]/div/div/main/div[1]/div[1]/div[6]/div[198]/div/div[2]/div/div/a',\n",
       " '/html/body/div[2]/div/div[1]/div/div/main/div[1]/div[1]/div[6]/div[199]/div/div[2]/div/div/a',\n",
       " '/html/body/div[2]/div/div[1]/div/div/main/div[1]/div[1]/div[6]/div[200]/div/div[2]/div/div/a',\n",
       " '/html/body/div[2]/div/div[1]/div/div/main/div[1]/div[1]/div[6]/div[201]/div/div[2]/div/div/a',\n",
       " '/html/body/div[2]/div/div[1]/div/div/main/div[1]/div[1]/div[6]/div[202]/div/div[2]/div/div/a',\n",
       " '/html/body/div[2]/div/div[1]/div/div/main/div[1]/div[1]/div[6]/div[203]/div/div[2]/div/div/a',\n",
       " '/html/body/div[2]/div/div[1]/div/div/main/div[1]/div[1]/div[6]/div[204]/div/div[2]/div/div/a',\n",
       " '/html/body/div[2]/div/div[1]/div/div/main/div[1]/div[1]/div[6]/div[205]/div/div[2]/div/div/a',\n",
       " '/html/body/div[2]/div/div[1]/div/div/main/div[1]/div[1]/div[6]/div[206]/div/div[2]/div/div/a',\n",
       " '/html/body/div[2]/div/div[1]/div/div/main/div[1]/div[1]/div[6]/div[207]/div/div[2]/div/div/a',\n",
       " '/html/body/div[2]/div/div[1]/div/div/main/div[1]/div[1]/div[6]/div[208]/div/div[2]/div/div/a',\n",
       " '/html/body/div[2]/div/div[1]/div/div/main/div[1]/div[1]/div[6]/div[209]/div/div[2]/div/div/a',\n",
       " '/html/body/div[2]/div/div[1]/div/div/main/div[1]/div[1]/div[6]/div[210]/div/div[2]/div/div/a',\n",
       " '/html/body/div[2]/div/div[1]/div/div/main/div[1]/div[1]/div[6]/div[211]/div/div[2]/div/div/a',\n",
       " '/html/body/div[2]/div/div[1]/div/div/main/div[1]/div[1]/div[6]/div[212]/div/div[2]/div/div/a',\n",
       " '/html/body/div[2]/div/div[1]/div/div/main/div[1]/div[1]/div[6]/div[213]/div/div[2]/div/div/a',\n",
       " '/html/body/div[2]/div/div[1]/div/div/main/div[1]/div[1]/div[6]/div[214]/div/div[2]/div/div/a',\n",
       " '/html/body/div[2]/div/div[1]/div/div/main/div[1]/div[1]/div[6]/div[215]/div/div[2]/div/div/a',\n",
       " '/html/body/div[2]/div/div[1]/div/div/main/div[1]/div[1]/div[6]/div[216]/div/div[2]/div/div/a',\n",
       " '/html/body/div[2]/div/div[1]/div/div/main/div[1]/div[1]/div[6]/div[217]/div/div[2]/div/div/a',\n",
       " '/html/body/div[2]/div/div[1]/div/div/main/div[1]/div[1]/div[6]/div[218]/div/div[2]/div/div/a',\n",
       " '/html/body/div[2]/div/div[1]/div/div/main/div[1]/div[1]/div[6]/div[219]/div/div[2]/div/div/a',\n",
       " '/html/body/div[2]/div/div[1]/div/div/main/div[1]/div[1]/div[6]/div[220]/div/div[2]/div/div/a',\n",
       " '/html/body/div[2]/div/div[1]/div/div/main/div[1]/div[1]/div[6]/div[221]/div/div[2]/div/div/a',\n",
       " '/html/body/div[2]/div/div[1]/div/div/main/div[1]/div[1]/div[6]/div[222]/div/div[2]/div/div/a',\n",
       " '/html/body/div[2]/div/div[1]/div/div/main/div[1]/div[1]/div[6]/div[223]/div/div[2]/div/div/a',\n",
       " '/html/body/div[2]/div/div[1]/div/div/main/div[1]/div[1]/div[6]/div[224]/div/div[2]/div/div/a',\n",
       " '/html/body/div[2]/div/div[1]/div/div/main/div[1]/div[1]/div[6]/div[225]/div/div[2]/div/div/a',\n",
       " '/html/body/div[2]/div/div[1]/div/div/main/div[1]/div[1]/div[6]/div[226]/div/div[2]/div/div/a',\n",
       " '/html/body/div[2]/div/div[1]/div/div/main/div[1]/div[1]/div[6]/div[227]/div/div[2]/div/div/a',\n",
       " '/html/body/div[2]/div/div[1]/div/div/main/div[1]/div[1]/div[6]/div[228]/div/div[2]/div/div/a',\n",
       " '/html/body/div[2]/div/div[1]/div/div/main/div[1]/div[1]/div[6]/div[229]/div/div[2]/div/div/a',\n",
       " '/html/body/div[2]/div/div[1]/div/div/main/div[1]/div[1]/div[6]/div[230]/div/div[2]/div/div/a',\n",
       " '/html/body/div[2]/div/div[1]/div/div/main/div[1]/div[1]/div[6]/div[231]/div/div[2]/div/div/a',\n",
       " '/html/body/div[2]/div/div[1]/div/div/main/div[1]/div[1]/div[6]/div[232]/div/div[2]/div/div/a',\n",
       " '/html/body/div[2]/div/div[1]/div/div/main/div[1]/div[1]/div[6]/div[233]/div/div[2]/div/div/a',\n",
       " '/html/body/div[2]/div/div[1]/div/div/main/div[1]/div[1]/div[6]/div[234]/div/div[2]/div/div/a',\n",
       " '/html/body/div[2]/div/div[1]/div/div/main/div[1]/div[1]/div[6]/div[235]/div/div[2]/div/div/a',\n",
       " '/html/body/div[2]/div/div[1]/div/div/main/div[1]/div[1]/div[6]/div[236]/div/div[2]/div/div/a',\n",
       " '/html/body/div[2]/div/div[1]/div/div/main/div[1]/div[1]/div[6]/div[237]/div/div[2]/div/div/a',\n",
       " '/html/body/div[2]/div/div[1]/div/div/main/div[1]/div[1]/div[6]/div[238]/div/div[2]/div/div/a',\n",
       " '/html/body/div[2]/div/div[1]/div/div/main/div[1]/div[1]/div[6]/div[239]/div/div[2]/div/div/a',\n",
       " '/html/body/div[2]/div/div[1]/div/div/main/div[1]/div[1]/div[6]/div[240]/div/div[2]/div/div/a',\n",
       " '/html/body/div[2]/div/div[1]/div/div/main/div[1]/div[1]/div[6]/div[241]/div/div[2]/div/div/a',\n",
       " '/html/body/div[2]/div/div[1]/div/div/main/div[1]/div[1]/div[6]/div[242]/div/div[2]/div/div/a',\n",
       " '/html/body/div[2]/div/div[1]/div/div/main/div[1]/div[1]/div[6]/div[243]/div/div[2]/div/div/a',\n",
       " '/html/body/div[2]/div/div[1]/div/div/main/div[1]/div[1]/div[6]/div[244]/div/div[2]/div/div/a',\n",
       " '/html/body/div[2]/div/div[1]/div/div/main/div[1]/div[1]/div[6]/div[245]/div/div[2]/div/div/a',\n",
       " '/html/body/div[2]/div/div[1]/div/div/main/div[1]/div[1]/div[6]/div[246]/div/div[2]/div/div/a',\n",
       " '/html/body/div[2]/div/div[1]/div/div/main/div[1]/div[1]/div[6]/div[247]/div/div[2]/div/div/a',\n",
       " '/html/body/div[2]/div/div[1]/div/div/main/div[1]/div[1]/div[6]/div[248]/div/div[2]/div/div/a',\n",
       " '/html/body/div[2]/div/div[1]/div/div/main/div[1]/div[1]/div[6]/div[249]/div/div[2]/div/div/a',\n",
       " '/html/body/div[2]/div/div[1]/div/div/main/div[1]/div[1]/div[6]/div[250]/div/div[2]/div/div/a',\n",
       " '/html/body/div[2]/div/div[1]/div/div/main/div[1]/div[1]/div[6]/div[251]/div/div[2]/div/div/a',\n",
       " '/html/body/div[2]/div/div[1]/div/div/main/div[1]/div[1]/div[6]/div[252]/div/div[2]/div/div/a',\n",
       " '/html/body/div[2]/div/div[1]/div/div/main/div[1]/div[1]/div[6]/div[253]/div/div[2]/div/div/a',\n",
       " '/html/body/div[2]/div/div[1]/div/div/main/div[1]/div[1]/div[6]/div[254]/div/div[2]/div/div/a',\n",
       " '/html/body/div[2]/div/div[1]/div/div/main/div[1]/div[1]/div[6]/div[255]/div/div[2]/div/div/a',\n",
       " '/html/body/div[2]/div/div[1]/div/div/main/div[1]/div[1]/div[6]/div[256]/div/div[2]/div/div/a',\n",
       " '/html/body/div[2]/div/div[1]/div/div/main/div[1]/div[1]/div[6]/div[257]/div/div[2]/div/div/a',\n",
       " '/html/body/div[2]/div/div[1]/div/div/main/div[1]/div[1]/div[6]/div[258]/div/div[2]/div/div/a',\n",
       " '/html/body/div[2]/div/div[1]/div/div/main/div[1]/div[1]/div[6]/div[259]/div/div[2]/div/div/a',\n",
       " '/html/body/div[2]/div/div[1]/div/div/main/div[1]/div[1]/div[6]/div[260]/div/div[2]/div/div/a',\n",
       " '/html/body/div[2]/div/div[1]/div/div/main/div[1]/div[1]/div[6]/div[261]/div/div[2]/div/div/a',\n",
       " '/html/body/div[2]/div/div[1]/div/div/main/div[1]/div[1]/div[6]/div[262]/div/div[2]/div/div/a',\n",
       " '/html/body/div[2]/div/div[1]/div/div/main/div[1]/div[1]/div[6]/div[263]/div/div[2]/div/div/a',\n",
       " '/html/body/div[2]/div/div[1]/div/div/main/div[1]/div[1]/div[6]/div[264]/div/div[2]/div/div/a',\n",
       " '/html/body/div[2]/div/div[1]/div/div/main/div[1]/div[1]/div[6]/div[265]/div/div[2]/div/div/a',\n",
       " '/html/body/div[2]/div/div[1]/div/div/main/div[1]/div[1]/div[6]/div[266]/div/div[2]/div/div/a',\n",
       " '/html/body/div[2]/div/div[1]/div/div/main/div[1]/div[1]/div[6]/div[267]/div/div[2]/div/div/a',\n",
       " '/html/body/div[2]/div/div[1]/div/div/main/div[1]/div[1]/div[6]/div[268]/div/div[2]/div/div/a',\n",
       " '/html/body/div[2]/div/div[1]/div/div/main/div[1]/div[1]/div[6]/div[269]/div/div[2]/div/div/a',\n",
       " '/html/body/div[2]/div/div[1]/div/div/main/div[1]/div[1]/div[6]/div[270]/div/div[2]/div/div/a',\n",
       " '/html/body/div[2]/div/div[1]/div/div/main/div[1]/div[1]/div[6]/div[271]/div/div[2]/div/div/a',\n",
       " '/html/body/div[2]/div/div[1]/div/div/main/div[1]/div[1]/div[6]/div[272]/div/div[2]/div/div/a',\n",
       " '/html/body/div[2]/div/div[1]/div/div/main/div[1]/div[1]/div[6]/div[273]/div/div[2]/div/div/a',\n",
       " '/html/body/div[2]/div/div[1]/div/div/main/div[1]/div[1]/div[6]/div[274]/div/div[2]/div/div/a',\n",
       " '/html/body/div[2]/div/div[1]/div/div/main/div[1]/div[1]/div[6]/div[275]/div/div[2]/div/div/a',\n",
       " '/html/body/div[2]/div/div[1]/div/div/main/div[1]/div[1]/div[6]/div[276]/div/div[2]/div/div/a',\n",
       " '/html/body/div[2]/div/div[1]/div/div/main/div[1]/div[1]/div[6]/div[277]/div/div[2]/div/div/a',\n",
       " '/html/body/div[2]/div/div[1]/div/div/main/div[1]/div[1]/div[6]/div[278]/div/div[2]/div/div/a',\n",
       " '/html/body/div[2]/div/div[1]/div/div/main/div[1]/div[1]/div[6]/div[279]/div/div[2]/div/div/a',\n",
       " '/html/body/div[2]/div/div[1]/div/div/main/div[1]/div[1]/div[6]/div[280]/div/div[2]/div/div/a',\n",
       " '/html/body/div[2]/div/div[1]/div/div/main/div[1]/div[1]/div[6]/div[281]/div/div[2]/div/div/a',\n",
       " '/html/body/div[2]/div/div[1]/div/div/main/div[1]/div[1]/div[6]/div[282]/div/div[2]/div/div/a',\n",
       " '/html/body/div[2]/div/div[1]/div/div/main/div[1]/div[1]/div[6]/div[283]/div/div[2]/div/div/a',\n",
       " '/html/body/div[2]/div/div[1]/div/div/main/div[1]/div[1]/div[6]/div[284]/div/div[2]/div/div/a',\n",
       " '/html/body/div[2]/div/div[1]/div/div/main/div[1]/div[1]/div[6]/div[285]/div/div[2]/div/div/a',\n",
       " '/html/body/div[2]/div/div[1]/div/div/main/div[1]/div[1]/div[6]/div[286]/div/div[2]/div/div/a',\n",
       " '/html/body/div[2]/div/div[1]/div/div/main/div[1]/div[1]/div[6]/div[287]/div/div[2]/div/div/a',\n",
       " '/html/body/div[2]/div/div[1]/div/div/main/div[1]/div[1]/div[6]/div[288]/div/div[2]/div/div/a',\n",
       " '/html/body/div[2]/div/div[1]/div/div/main/div[1]/div[1]/div[6]/div[289]/div/div[2]/div/div/a',\n",
       " '/html/body/div[2]/div/div[1]/div/div/main/div[1]/div[1]/div[6]/div[290]/div/div[2]/div/div/a',\n",
       " '/html/body/div[2]/div/div[1]/div/div/main/div[1]/div[1]/div[6]/div[291]/div/div[2]/div/div/a',\n",
       " '/html/body/div[2]/div/div[1]/div/div/main/div[1]/div[1]/div[6]/div[292]/div/div[2]/div/div/a',\n",
       " '/html/body/div[2]/div/div[1]/div/div/main/div[1]/div[1]/div[6]/div[293]/div/div[2]/div/div/a',\n",
       " '/html/body/div[2]/div/div[1]/div/div/main/div[1]/div[1]/div[6]/div[294]/div/div[2]/div/div/a',\n",
       " '/html/body/div[2]/div/div[1]/div/div/main/div[1]/div[1]/div[6]/div[295]/div/div[2]/div/div/a',\n",
       " '/html/body/div[2]/div/div[1]/div/div/main/div[1]/div[1]/div[6]/div[296]/div/div[2]/div/div/a',\n",
       " '/html/body/div[2]/div/div[1]/div/div/main/div[1]/div[1]/div[6]/div[297]/div/div[2]/div/div/a',\n",
       " '/html/body/div[2]/div/div[1]/div/div/main/div[1]/div[1]/div[6]/div[298]/div/div[2]/div/div/a',\n",
       " '/html/body/div[2]/div/div[1]/div/div/main/div[1]/div[1]/div[6]/div[299]/div/div[2]/div/div/a',\n",
       " '/html/body/div[2]/div/div[1]/div/div/main/div[1]/div[1]/div[6]/div[300]/div/div[2]/div/div/a',\n",
       " '/html/body/div[2]/div/div[1]/div/div/main/div[1]/div[1]/div[6]/div[301]/div/div[2]/div/div/a',\n",
       " '/html/body/div[2]/div/div[1]/div/div/main/div[1]/div[1]/div[6]/div[302]/div/div[2]/div/div/a',\n",
       " '/html/body/div[2]/div/div[1]/div/div/main/div[1]/div[1]/div[6]/div[303]/div/div[2]/div/div/a',\n",
       " '/html/body/div[2]/div/div[1]/div/div/main/div[1]/div[1]/div[6]/div[304]/div/div[2]/div/div/a',\n",
       " '/html/body/div[2]/div/div[1]/div/div/main/div[1]/div[1]/div[6]/div[305]/div/div[2]/div/div/a',\n",
       " '/html/body/div[2]/div/div[1]/div/div/main/div[1]/div[1]/div[6]/div[306]/div/div[2]/div/div/a',\n",
       " '/html/body/div[2]/div/div[1]/div/div/main/div[1]/div[1]/div[6]/div[307]/div/div[2]/div/div/a',\n",
       " '/html/body/div[2]/div/div[1]/div/div/main/div[1]/div[1]/div[6]/div[308]/div/div[2]/div/div/a',\n",
       " '/html/body/div[2]/div/div[1]/div/div/main/div[1]/div[1]/div[6]/div[309]/div/div[2]/div/div/a',\n",
       " '/html/body/div[2]/div/div[1]/div/div/main/div[1]/div[1]/div[6]/div[310]/div/div[2]/div/div/a',\n",
       " '/html/body/div[2]/div/div[1]/div/div/main/div[1]/div[1]/div[6]/div[311]/div/div[2]/div/div/a',\n",
       " '/html/body/div[2]/div/div[1]/div/div/main/div[1]/div[1]/div[6]/div[312]/div/div[2]/div/div/a',\n",
       " '/html/body/div[2]/div/div[1]/div/div/main/div[1]/div[1]/div[6]/div[313]/div/div[2]/div/div/a',\n",
       " '/html/body/div[2]/div/div[1]/div/div/main/div[1]/div[1]/div[6]/div[314]/div/div[2]/div/div/a',\n",
       " '/html/body/div[2]/div/div[1]/div/div/main/div[1]/div[1]/div[6]/div[315]/div/div[2]/div/div/a',\n",
       " '/html/body/div[2]/div/div[1]/div/div/main/div[1]/div[1]/div[6]/div[316]/div/div[2]/div/div/a',\n",
       " '/html/body/div[2]/div/div[1]/div/div/main/div[1]/div[1]/div[6]/div[317]/div/div[2]/div/div/a',\n",
       " '/html/body/div[2]/div/div[1]/div/div/main/div[1]/div[1]/div[6]/div[318]/div/div[2]/div/div/a',\n",
       " '/html/body/div[2]/div/div[1]/div/div/main/div[1]/div[1]/div[6]/div[319]/div/div[2]/div/div/a',\n",
       " '/html/body/div[2]/div/div[1]/div/div/main/div[1]/div[1]/div[6]/div[320]/div/div[2]/div/div/a',\n",
       " '/html/body/div[2]/div/div[1]/div/div/main/div[1]/div[1]/div[6]/div[321]/div/div[2]/div/div/a',\n",
       " '/html/body/div[2]/div/div[1]/div/div/main/div[1]/div[1]/div[6]/div[322]/div/div[2]/div/div/a',\n",
       " '/html/body/div[2]/div/div[1]/div/div/main/div[1]/div[1]/div[6]/div[323]/div/div[2]/div/div/a',\n",
       " '/html/body/div[2]/div/div[1]/div/div/main/div[1]/div[1]/div[6]/div[324]/div/div[2]/div/div/a',\n",
       " '/html/body/div[2]/div/div[1]/div/div/main/div[1]/div[1]/div[6]/div[325]/div/div[2]/div/div/a',\n",
       " '/html/body/div[2]/div/div[1]/div/div/main/div[1]/div[1]/div[6]/div[326]/div/div[2]/div/div/a',\n",
       " '/html/body/div[2]/div/div[1]/div/div/main/div[1]/div[1]/div[6]/div[327]/div/div[2]/div/div/a',\n",
       " '/html/body/div[2]/div/div[1]/div/div/main/div[1]/div[1]/div[6]/div[328]/div/div[2]/div/div/a',\n",
       " '/html/body/div[2]/div/div[1]/div/div/main/div[1]/div[1]/div[6]/div[329]/div/div[2]/div/div/a',\n",
       " '/html/body/div[2]/div/div[1]/div/div/main/div[1]/div[1]/div[6]/div[330]/div/div[2]/div/div/a',\n",
       " '/html/body/div[2]/div/div[1]/div/div/main/div[1]/div[1]/div[6]/div[331]/div/div[2]/div/div/a',\n",
       " '/html/body/div[2]/div/div[1]/div/div/main/div[1]/div[1]/div[6]/div[332]/div/div[2]/div/div/a',\n",
       " '/html/body/div[2]/div/div[1]/div/div/main/div[1]/div[1]/div[6]/div[333]/div/div[2]/div/div/a',\n",
       " '/html/body/div[2]/div/div[1]/div/div/main/div[1]/div[1]/div[6]/div[334]/div/div[2]/div/div/a',\n",
       " '/html/body/div[2]/div/div[1]/div/div/main/div[1]/div[1]/div[6]/div[335]/div/div[2]/div/div/a',\n",
       " '/html/body/div[2]/div/div[1]/div/div/main/div[1]/div[1]/div[6]/div[336]/div/div[2]/div/div/a',\n",
       " '/html/body/div[2]/div/div[1]/div/div/main/div[1]/div[1]/div[6]/div[337]/div/div[2]/div/div/a',\n",
       " '/html/body/div[2]/div/div[1]/div/div/main/div[1]/div[1]/div[6]/div[338]/div/div[2]/div/div/a',\n",
       " '/html/body/div[2]/div/div[1]/div/div/main/div[1]/div[1]/div[6]/div[339]/div/div[2]/div/div/a',\n",
       " '/html/body/div[2]/div/div[1]/div/div/main/div[1]/div[1]/div[6]/div[340]/div/div[2]/div/div/a',\n",
       " '/html/body/div[2]/div/div[1]/div/div/main/div[1]/div[1]/div[6]/div[341]/div/div[2]/div/div/a',\n",
       " '/html/body/div[2]/div/div[1]/div/div/main/div[1]/div[1]/div[6]/div[342]/div/div[2]/div/div/a',\n",
       " '/html/body/div[2]/div/div[1]/div/div/main/div[1]/div[1]/div[6]/div[343]/div/div[2]/div/div/a',\n",
       " '/html/body/div[2]/div/div[1]/div/div/main/div[1]/div[1]/div[6]/div[344]/div/div[2]/div/div/a',\n",
       " '/html/body/div[2]/div/div[1]/div/div/main/div[1]/div[1]/div[6]/div[345]/div/div[2]/div/div/a',\n",
       " '/html/body/div[2]/div/div[1]/div/div/main/div[1]/div[1]/div[6]/div[346]/div/div[2]/div/div/a',\n",
       " '/html/body/div[2]/div/div[1]/div/div/main/div[1]/div[1]/div[6]/div[347]/div/div[2]/div/div/a',\n",
       " '/html/body/div[2]/div/div[1]/div/div/main/div[1]/div[1]/div[6]/div[348]/div/div[2]/div/div/a',\n",
       " '/html/body/div[2]/div/div[1]/div/div/main/div[1]/div[1]/div[6]/div[349]/div/div[2]/div/div/a',\n",
       " '/html/body/div[2]/div/div[1]/div/div/main/div[1]/div[1]/div[6]/div[350]/div/div[2]/div/div/a',\n",
       " '/html/body/div[2]/div/div[1]/div/div/main/div[1]/div[1]/div[6]/div[351]/div/div[2]/div/div/a',\n",
       " '/html/body/div[2]/div/div[1]/div/div/main/div[1]/div[1]/div[6]/div[352]/div/div[2]/div/div/a',\n",
       " '/html/body/div[2]/div/div[1]/div/div/main/div[1]/div[1]/div[6]/div[353]/div/div[2]/div/div/a',\n",
       " '/html/body/div[2]/div/div[1]/div/div/main/div[1]/div[1]/div[6]/div[354]/div/div[2]/div/div/a',\n",
       " '/html/body/div[2]/div/div[1]/div/div/main/div[1]/div[1]/div[6]/div[355]/div/div[2]/div/div/a',\n",
       " '/html/body/div[2]/div/div[1]/div/div/main/div[1]/div[1]/div[6]/div[356]/div/div[2]/div/div/a',\n",
       " '/html/body/div[2]/div/div[1]/div/div/main/div[1]/div[1]/div[6]/div[357]/div/div[2]/div/div/a',\n",
       " '/html/body/div[2]/div/div[1]/div/div/main/div[1]/div[1]/div[6]/div[358]/div/div[2]/div/div/a',\n",
       " '/html/body/div[2]/div/div[1]/div/div/main/div[1]/div[1]/div[6]/div[359]/div/div[2]/div/div/a',\n",
       " '/html/body/div[2]/div/div[1]/div/div/main/div[1]/div[1]/div[6]/div[360]/div/div[2]/div/div/a',\n",
       " '/html/body/div[2]/div/div[1]/div/div/main/div[1]/div[1]/div[6]/div[361]/div/div[2]/div/div/a',\n",
       " '/html/body/div[2]/div/div[1]/div/div/main/div[1]/div[1]/div[6]/div[362]/div/div[2]/div/div/a',\n",
       " '/html/body/div[2]/div/div[1]/div/div/main/div[1]/div[1]/div[6]/div[363]/div/div[2]/div/div/a',\n",
       " '/html/body/div[2]/div/div[1]/div/div/main/div[1]/div[1]/div[6]/div[364]/div/div[2]/div/div/a',\n",
       " '/html/body/div[2]/div/div[1]/div/div/main/div[1]/div[1]/div[6]/div[365]/div/div[2]/div/div/a',\n",
       " '/html/body/div[2]/div/div[1]/div/div/main/div[1]/div[1]/div[6]/div[366]/div/div[2]/div/div/a',\n",
       " '/html/body/div[2]/div/div[1]/div/div/main/div[1]/div[1]/div[6]/div[367]/div/div[2]/div/div/a',\n",
       " '/html/body/div[2]/div/div[1]/div/div/main/div[1]/div[1]/div[6]/div[368]/div/div[2]/div/div/a',\n",
       " '/html/body/div[2]/div/div[1]/div/div/main/div[1]/div[1]/div[6]/div[369]/div/div[2]/div/div/a',\n",
       " '/html/body/div[2]/div/div[1]/div/div/main/div[1]/div[1]/div[6]/div[370]/div/div[2]/div/div/a',\n",
       " '/html/body/div[2]/div/div[1]/div/div/main/div[1]/div[1]/div[6]/div[371]/div/div[2]/div/div/a',\n",
       " '/html/body/div[2]/div/div[1]/div/div/main/div[1]/div[1]/div[6]/div[372]/div/div[2]/div/div/a',\n",
       " '/html/body/div[2]/div/div[1]/div/div/main/div[1]/div[1]/div[6]/div[373]/div/div[2]/div/div/a',\n",
       " '/html/body/div[2]/div/div[1]/div/div/main/div[1]/div[1]/div[6]/div[374]/div/div[2]/div/div/a',\n",
       " '/html/body/div[2]/div/div[1]/div/div/main/div[1]/div[1]/div[6]/div[375]/div/div[2]/div/div/a',\n",
       " '/html/body/div[2]/div/div[1]/div/div/main/div[1]/div[1]/div[6]/div[376]/div/div[2]/div/div/a',\n",
       " '/html/body/div[2]/div/div[1]/div/div/main/div[1]/div[1]/div[6]/div[377]/div/div[2]/div/div/a',\n",
       " '/html/body/div[2]/div/div[1]/div/div/main/div[1]/div[1]/div[6]/div[378]/div/div[2]/div/div/a',\n",
       " '/html/body/div[2]/div/div[1]/div/div/main/div[1]/div[1]/div[6]/div[379]/div/div[2]/div/div/a',\n",
       " '/html/body/div[2]/div/div[1]/div/div/main/div[1]/div[1]/div[6]/div[380]/div/div[2]/div/div/a',\n",
       " '/html/body/div[2]/div/div[1]/div/div/main/div[1]/div[1]/div[6]/div[381]/div/div[2]/div/div/a',\n",
       " '/html/body/div[2]/div/div[1]/div/div/main/div[1]/div[1]/div[6]/div[382]/div/div[2]/div/div/a',\n",
       " '/html/body/div[2]/div/div[1]/div/div/main/div[1]/div[1]/div[6]/div[383]/div/div[2]/div/div/a',\n",
       " '/html/body/div[2]/div/div[1]/div/div/main/div[1]/div[1]/div[6]/div[384]/div/div[2]/div/div/a',\n",
       " '/html/body/div[2]/div/div[1]/div/div/main/div[1]/div[1]/div[6]/div[385]/div/div[2]/div/div/a',\n",
       " '/html/body/div[2]/div/div[1]/div/div/main/div[1]/div[1]/div[6]/div[386]/div/div[2]/div/div/a',\n",
       " '/html/body/div[2]/div/div[1]/div/div/main/div[1]/div[1]/div[6]/div[387]/div/div[2]/div/div/a',\n",
       " '/html/body/div[2]/div/div[1]/div/div/main/div[1]/div[1]/div[6]/div[388]/div/div[2]/div/div/a',\n",
       " '/html/body/div[2]/div/div[1]/div/div/main/div[1]/div[1]/div[6]/div[389]/div/div[2]/div/div/a',\n",
       " '/html/body/div[2]/div/div[1]/div/div/main/div[1]/div[1]/div[6]/div[390]/div/div[2]/div/div/a',\n",
       " '/html/body/div[2]/div/div[1]/div/div/main/div[1]/div[1]/div[6]/div[391]/div/div[2]/div/div/a',\n",
       " '/html/body/div[2]/div/div[1]/div/div/main/div[1]/div[1]/div[6]/div[392]/div/div[2]/div/div/a',\n",
       " '/html/body/div[2]/div/div[1]/div/div/main/div[1]/div[1]/div[6]/div[393]/div/div[2]/div/div/a',\n",
       " '/html/body/div[2]/div/div[1]/div/div/main/div[1]/div[1]/div[6]/div[394]/div/div[2]/div/div/a',\n",
       " '/html/body/div[2]/div/div[1]/div/div/main/div[1]/div[1]/div[6]/div[395]/div/div[2]/div/div/a',\n",
       " '/html/body/div[2]/div/div[1]/div/div/main/div[1]/div[1]/div[6]/div[396]/div/div[2]/div/div/a',\n",
       " '/html/body/div[2]/div/div[1]/div/div/main/div[1]/div[1]/div[6]/div[397]/div/div[2]/div/div/a',\n",
       " '/html/body/div[2]/div/div[1]/div/div/main/div[1]/div[1]/div[6]/div[398]/div/div[2]/div/div/a',\n",
       " '/html/body/div[2]/div/div[1]/div/div/main/div[1]/div[1]/div[6]/div[399]/div/div[2]/div/div/a',\n",
       " '/html/body/div[2]/div/div[1]/div/div/main/div[1]/div[1]/div[6]/div[400]/div/div[2]/div/div/a',\n",
       " '/html/body/div[2]/div/div[1]/div/div/main/div[1]/div[1]/div[6]/div[401]/div/div[2]/div/div/a',\n",
       " '/html/body/div[2]/div/div[1]/div/div/main/div[1]/div[1]/div[6]/div[402]/div/div[2]/div/div/a',\n",
       " '/html/body/div[2]/div/div[1]/div/div/main/div[1]/div[1]/div[6]/div[403]/div/div[2]/div/div/a',\n",
       " '/html/body/div[2]/div/div[1]/div/div/main/div[1]/div[1]/div[6]/div[404]/div/div[2]/div/div/a',\n",
       " '/html/body/div[2]/div/div[1]/div/div/main/div[1]/div[1]/div[6]/div[405]/div/div[2]/div/div/a',\n",
       " '/html/body/div[2]/div/div[1]/div/div/main/div[1]/div[1]/div[6]/div[406]/div/div[2]/div/div/a',\n",
       " '/html/body/div[2]/div/div[1]/div/div/main/div[1]/div[1]/div[6]/div[407]/div/div[2]/div/div/a',\n",
       " '/html/body/div[2]/div/div[1]/div/div/main/div[1]/div[1]/div[6]/div[408]/div/div[2]/div/div/a',\n",
       " '/html/body/div[2]/div/div[1]/div/div/main/div[1]/div[1]/div[6]/div[409]/div/div[2]/div/div/a',\n",
       " '/html/body/div[2]/div/div[1]/div/div/main/div[1]/div[1]/div[6]/div[410]/div/div[2]/div/div/a',\n",
       " '/html/body/div[2]/div/div[1]/div/div/main/div[1]/div[1]/div[6]/div[411]/div/div[2]/div/div/a',\n",
       " '/html/body/div[2]/div/div[1]/div/div/main/div[1]/div[1]/div[6]/div[412]/div/div[2]/div/div/a',\n",
       " '/html/body/div[2]/div/div[1]/div/div/main/div[1]/div[1]/div[6]/div[413]/div/div[2]/div/div/a',\n",
       " '/html/body/div[2]/div/div[1]/div/div/main/div[1]/div[1]/div[6]/div[414]/div/div[2]/div/div/a',\n",
       " '/html/body/div[2]/div/div[1]/div/div/main/div[1]/div[1]/div[6]/div[415]/div/div[2]/div/div/a',\n",
       " '/html/body/div[2]/div/div[1]/div/div/main/div[1]/div[1]/div[6]/div[416]/div/div[2]/div/div/a',\n",
       " '/html/body/div[2]/div/div[1]/div/div/main/div[1]/div[1]/div[6]/div[417]/div/div[2]/div/div/a',\n",
       " '/html/body/div[2]/div/div[1]/div/div/main/div[1]/div[1]/div[6]/div[418]/div/div[2]/div/div/a',\n",
       " '/html/body/div[2]/div/div[1]/div/div/main/div[1]/div[1]/div[6]/div[419]/div/div[2]/div/div/a',\n",
       " '/html/body/div[2]/div/div[1]/div/div/main/div[1]/div[1]/div[6]/div[420]/div/div[2]/div/div/a',\n",
       " '/html/body/div[2]/div/div[1]/div/div/main/div[1]/div[1]/div[6]/div[421]/div/div[2]/div/div/a',\n",
       " '/html/body/div[2]/div/div[1]/div/div/main/div[1]/div[1]/div[6]/div[422]/div/div[2]/div/div/a',\n",
       " '/html/body/div[2]/div/div[1]/div/div/main/div[1]/div[1]/div[6]/div[423]/div/div[2]/div/div/a',\n",
       " '/html/body/div[2]/div/div[1]/div/div/main/div[1]/div[1]/div[6]/div[424]/div/div[2]/div/div/a',\n",
       " '/html/body/div[2]/div/div[1]/div/div/main/div[1]/div[1]/div[6]/div[425]/div/div[2]/div/div/a',\n",
       " '/html/body/div[2]/div/div[1]/div/div/main/div[1]/div[1]/div[6]/div[426]/div/div[2]/div/div/a',\n",
       " '/html/body/div[2]/div/div[1]/div/div/main/div[1]/div[1]/div[6]/div[427]/div/div[2]/div/div/a',\n",
       " '/html/body/div[2]/div/div[1]/div/div/main/div[1]/div[1]/div[6]/div[428]/div/div[2]/div/div/a',\n",
       " '/html/body/div[2]/div/div[1]/div/div/main/div[1]/div[1]/div[6]/div[429]/div/div[2]/div/div/a',\n",
       " '/html/body/div[2]/div/div[1]/div/div/main/div[1]/div[1]/div[6]/div[430]/div/div[2]/div/div/a',\n",
       " '/html/body/div[2]/div/div[1]/div/div/main/div[1]/div[1]/div[6]/div[431]/div/div[2]/div/div/a',\n",
       " '/html/body/div[2]/div/div[1]/div/div/main/div[1]/div[1]/div[6]/div[432]/div/div[2]/div/div/a',\n",
       " '/html/body/div[2]/div/div[1]/div/div/main/div[1]/div[1]/div[6]/div[433]/div/div[2]/div/div/a',\n",
       " '/html/body/div[2]/div/div[1]/div/div/main/div[1]/div[1]/div[6]/div[434]/div/div[2]/div/div/a',\n",
       " '/html/body/div[2]/div/div[1]/div/div/main/div[1]/div[1]/div[6]/div[435]/div/div[2]/div/div/a',\n",
       " '/html/body/div[2]/div/div[1]/div/div/main/div[1]/div[1]/div[6]/div[436]/div/div[2]/div/div/a',\n",
       " '/html/body/div[2]/div/div[1]/div/div/main/div[1]/div[1]/div[6]/div[437]/div/div[2]/div/div/a',\n",
       " '/html/body/div[2]/div/div[1]/div/div/main/div[1]/div[1]/div[6]/div[438]/div/div[2]/div/div/a',\n",
       " '/html/body/div[2]/div/div[1]/div/div/main/div[1]/div[1]/div[6]/div[439]/div/div[2]/div/div/a',\n",
       " '/html/body/div[2]/div/div[1]/div/div/main/div[1]/div[1]/div[6]/div[440]/div/div[2]/div/div/a',\n",
       " '/html/body/div[2]/div/div[1]/div/div/main/div[1]/div[1]/div[6]/div[441]/div/div[2]/div/div/a',\n",
       " '/html/body/div[2]/div/div[1]/div/div/main/div[1]/div[1]/div[6]/div[442]/div/div[2]/div/div/a',\n",
       " '/html/body/div[2]/div/div[1]/div/div/main/div[1]/div[1]/div[6]/div[443]/div/div[2]/div/div/a',\n",
       " '/html/body/div[2]/div/div[1]/div/div/main/div[1]/div[1]/div[6]/div[444]/div/div[2]/div/div/a',\n",
       " '/html/body/div[2]/div/div[1]/div/div/main/div[1]/div[1]/div[6]/div[445]/div/div[2]/div/div/a',\n",
       " '/html/body/div[2]/div/div[1]/div/div/main/div[1]/div[1]/div[6]/div[446]/div/div[2]/div/div/a',\n",
       " '/html/body/div[2]/div/div[1]/div/div/main/div[1]/div[1]/div[6]/div[447]/div/div[2]/div/div/a',\n",
       " '/html/body/div[2]/div/div[1]/div/div/main/div[1]/div[1]/div[6]/div[448]/div/div[2]/div/div/a',\n",
       " '/html/body/div[2]/div/div[1]/div/div/main/div[1]/div[1]/div[6]/div[449]/div/div[2]/div/div/a',\n",
       " '/html/body/div[2]/div/div[1]/div/div/main/div[1]/div[1]/div[6]/div[450]/div/div[2]/div/div/a',\n",
       " '/html/body/div[2]/div/div[1]/div/div/main/div[1]/div[1]/div[6]/div[451]/div/div[2]/div/div/a',\n",
       " '/html/body/div[2]/div/div[1]/div/div/main/div[1]/div[1]/div[6]/div[452]/div/div[2]/div/div/a',\n",
       " '/html/body/div[2]/div/div[1]/div/div/main/div[1]/div[1]/div[6]/div[453]/div/div[2]/div/div/a',\n",
       " '/html/body/div[2]/div/div[1]/div/div/main/div[1]/div[1]/div[6]/div[454]/div/div[2]/div/div/a',\n",
       " '/html/body/div[2]/div/div[1]/div/div/main/div[1]/div[1]/div[6]/div[455]/div/div[2]/div/div/a',\n",
       " '/html/body/div[2]/div/div[1]/div/div/main/div[1]/div[1]/div[6]/div[456]/div/div[2]/div/div/a',\n",
       " '/html/body/div[2]/div/div[1]/div/div/main/div[1]/div[1]/div[6]/div[457]/div/div[2]/div/div/a',\n",
       " '/html/body/div[2]/div/div[1]/div/div/main/div[1]/div[1]/div[6]/div[458]/div/div[2]/div/div/a',\n",
       " '/html/body/div[2]/div/div[1]/div/div/main/div[1]/div[1]/div[6]/div[459]/div/div[2]/div/div/a',\n",
       " '/html/body/div[2]/div/div[1]/div/div/main/div[1]/div[1]/div[6]/div[460]/div/div[2]/div/div/a',\n",
       " '/html/body/div[2]/div/div[1]/div/div/main/div[1]/div[1]/div[6]/div[461]/div/div[2]/div/div/a',\n",
       " '/html/body/div[2]/div/div[1]/div/div/main/div[1]/div[1]/div[6]/div[462]/div/div[2]/div/div/a',\n",
       " '/html/body/div[2]/div/div[1]/div/div/main/div[1]/div[1]/div[6]/div[463]/div/div[2]/div/div/a',\n",
       " '/html/body/div[2]/div/div[1]/div/div/main/div[1]/div[1]/div[6]/div[464]/div/div[2]/div/div/a',\n",
       " '/html/body/div[2]/div/div[1]/div/div/main/div[1]/div[1]/div[6]/div[465]/div/div[2]/div/div/a',\n",
       " '/html/body/div[2]/div/div[1]/div/div/main/div[1]/div[1]/div[6]/div[466]/div/div[2]/div/div/a',\n",
       " '/html/body/div[2]/div/div[1]/div/div/main/div[1]/div[1]/div[6]/div[467]/div/div[2]/div/div/a',\n",
       " '/html/body/div[2]/div/div[1]/div/div/main/div[1]/div[1]/div[6]/div[468]/div/div[2]/div/div/a',\n",
       " '/html/body/div[2]/div/div[1]/div/div/main/div[1]/div[1]/div[6]/div[469]/div/div[2]/div/div/a',\n",
       " '/html/body/div[2]/div/div[1]/div/div/main/div[1]/div[1]/div[6]/div[470]/div/div[2]/div/div/a',\n",
       " '/html/body/div[2]/div/div[1]/div/div/main/div[1]/div[1]/div[6]/div[471]/div/div[2]/div/div/a',\n",
       " '/html/body/div[2]/div/div[1]/div/div/main/div[1]/div[1]/div[6]/div[472]/div/div[2]/div/div/a',\n",
       " '/html/body/div[2]/div/div[1]/div/div/main/div[1]/div[1]/div[6]/div[473]/div/div[2]/div/div/a',\n",
       " '/html/body/div[2]/div/div[1]/div/div/main/div[1]/div[1]/div[6]/div[474]/div/div[2]/div/div/a',\n",
       " '/html/body/div[2]/div/div[1]/div/div/main/div[1]/div[1]/div[6]/div[475]/div/div[2]/div/div/a',\n",
       " '/html/body/div[2]/div/div[1]/div/div/main/div[1]/div[1]/div[6]/div[476]/div/div[2]/div/div/a',\n",
       " '/html/body/div[2]/div/div[1]/div/div/main/div[1]/div[1]/div[6]/div[477]/div/div[2]/div/div/a',\n",
       " '/html/body/div[2]/div/div[1]/div/div/main/div[1]/div[1]/div[6]/div[478]/div/div[2]/div/div/a',\n",
       " '/html/body/div[2]/div/div[1]/div/div/main/div[1]/div[1]/div[6]/div[479]/div/div[2]/div/div/a',\n",
       " '/html/body/div[2]/div/div[1]/div/div/main/div[1]/div[1]/div[6]/div[480]/div/div[2]/div/div/a',\n",
       " '/html/body/div[2]/div/div[1]/div/div/main/div[1]/div[1]/div[6]/div[481]/div/div[2]/div/div/a',\n",
       " '/html/body/div[2]/div/div[1]/div/div/main/div[1]/div[1]/div[6]/div[482]/div/div[2]/div/div/a',\n",
       " '/html/body/div[2]/div/div[1]/div/div/main/div[1]/div[1]/div[6]/div[483]/div/div[2]/div/div/a',\n",
       " '/html/body/div[2]/div/div[1]/div/div/main/div[1]/div[1]/div[6]/div[484]/div/div[2]/div/div/a',\n",
       " '/html/body/div[2]/div/div[1]/div/div/main/div[1]/div[1]/div[6]/div[485]/div/div[2]/div/div/a',\n",
       " '/html/body/div[2]/div/div[1]/div/div/main/div[1]/div[1]/div[6]/div[486]/div/div[2]/div/div/a',\n",
       " '/html/body/div[2]/div/div[1]/div/div/main/div[1]/div[1]/div[6]/div[487]/div/div[2]/div/div/a',\n",
       " '/html/body/div[2]/div/div[1]/div/div/main/div[1]/div[1]/div[6]/div[488]/div/div[2]/div/div/a',\n",
       " '/html/body/div[2]/div/div[1]/div/div/main/div[1]/div[1]/div[6]/div[489]/div/div[2]/div/div/a',\n",
       " '/html/body/div[2]/div/div[1]/div/div/main/div[1]/div[1]/div[6]/div[490]/div/div[2]/div/div/a',\n",
       " '/html/body/div[2]/div/div[1]/div/div/main/div[1]/div[1]/div[6]/div[491]/div/div[2]/div/div/a',\n",
       " '/html/body/div[2]/div/div[1]/div/div/main/div[1]/div[1]/div[6]/div[492]/div/div[2]/div/div/a',\n",
       " '/html/body/div[2]/div/div[1]/div/div/main/div[1]/div[1]/div[6]/div[493]/div/div[2]/div/div/a',\n",
       " '/html/body/div[2]/div/div[1]/div/div/main/div[1]/div[1]/div[6]/div[494]/div/div[2]/div/div/a',\n",
       " '/html/body/div[2]/div/div[1]/div/div/main/div[1]/div[1]/div[6]/div[495]/div/div[2]/div/div/a',\n",
       " '/html/body/div[2]/div/div[1]/div/div/main/div[1]/div[1]/div[6]/div[496]/div/div[2]/div/div/a',\n",
       " '/html/body/div[2]/div/div[1]/div/div/main/div[1]/div[1]/div[6]/div[497]/div/div[2]/div/div/a',\n",
       " '/html/body/div[2]/div/div[1]/div/div/main/div[1]/div[1]/div[6]/div[498]/div/div[2]/div/div/a',\n",
       " '/html/body/div[2]/div/div[1]/div/div/main/div[1]/div[1]/div[6]/div[499]/div/div[2]/div/div/a',\n",
       " '/html/body/div[2]/div/div[1]/div/div/main/div[1]/div[1]/div[6]/div[500]/div/div[2]/div/div/a',\n",
       " '/html/body/div[2]/div/div[1]/div/div/main/div[1]/div[1]/div[6]/div[501]/div/div[2]/div/div/a',\n",
       " '/html/body/div[2]/div/div[1]/div/div/main/div[1]/div[1]/div[6]/div[502]/div/div[2]/div/div/a',\n",
       " '/html/body/div[2]/div/div[1]/div/div/main/div[1]/div[1]/div[6]/div[503]/div/div[2]/div/div/a',\n",
       " '/html/body/div[2]/div/div[1]/div/div/main/div[1]/div[1]/div[6]/div[504]/div/div[2]/div/div/a',\n",
       " '/html/body/div[2]/div/div[1]/div/div/main/div[1]/div[1]/div[6]/div[505]/div/div[2]/div/div/a',\n",
       " '/html/body/div[2]/div/div[1]/div/div/main/div[1]/div[1]/div[6]/div[506]/div/div[2]/div/div/a',\n",
       " '/html/body/div[2]/div/div[1]/div/div/main/div[1]/div[1]/div[6]/div[507]/div/div[2]/div/div/a',\n",
       " '/html/body/div[2]/div/div[1]/div/div/main/div[1]/div[1]/div[6]/div[508]/div/div[2]/div/div/a',\n",
       " '/html/body/div[2]/div/div[1]/div/div/main/div[1]/div[1]/div[6]/div[509]/div/div[2]/div/div/a',\n",
       " '/html/body/div[2]/div/div[1]/div/div/main/div[1]/div[1]/div[6]/div[510]/div/div[2]/div/div/a',\n",
       " '/html/body/div[2]/div/div[1]/div/div/main/div[1]/div[1]/div[6]/div[511]/div/div[2]/div/div/a',\n",
       " '/html/body/div[2]/div/div[1]/div/div/main/div[1]/div[1]/div[6]/div[512]/div/div[2]/div/div/a',\n",
       " '/html/body/div[2]/div/div[1]/div/div/main/div[1]/div[1]/div[6]/div[513]/div/div[2]/div/div/a',\n",
       " '/html/body/div[2]/div/div[1]/div/div/main/div[1]/div[1]/div[6]/div[514]/div/div[2]/div/div/a',\n",
       " '/html/body/div[2]/div/div[1]/div/div/main/div[1]/div[1]/div[6]/div[515]/div/div[2]/div/div/a',\n",
       " '/html/body/div[2]/div/div[1]/div/div/main/div[1]/div[1]/div[6]/div[516]/div/div[2]/div/div/a',\n",
       " '/html/body/div[2]/div/div[1]/div/div/main/div[1]/div[1]/div[6]/div[517]/div/div[2]/div/div/a',\n",
       " '/html/body/div[2]/div/div[1]/div/div/main/div[1]/div[1]/div[6]/div[518]/div/div[2]/div/div/a',\n",
       " '/html/body/div[2]/div/div[1]/div/div/main/div[1]/div[1]/div[6]/div[519]/div/div[2]/div/div/a',\n",
       " '/html/body/div[2]/div/div[1]/div/div/main/div[1]/div[1]/div[6]/div[520]/div/div[2]/div/div/a',\n",
       " '/html/body/div[2]/div/div[1]/div/div/main/div[1]/div[1]/div[6]/div[521]/div/div[2]/div/div/a',\n",
       " '/html/body/div[2]/div/div[1]/div/div/main/div[1]/div[1]/div[6]/div[522]/div/div[2]/div/div/a',\n",
       " '/html/body/div[2]/div/div[1]/div/div/main/div[1]/div[1]/div[6]/div[523]/div/div[2]/div/div/a',\n",
       " '/html/body/div[2]/div/div[1]/div/div/main/div[1]/div[1]/div[6]/div[524]/div/div[2]/div/div/a',\n",
       " '/html/body/div[2]/div/div[1]/div/div/main/div[1]/div[1]/div[6]/div[525]/div/div[2]/div/div/a',\n",
       " '/html/body/div[2]/div/div[1]/div/div/main/div[1]/div[1]/div[6]/div[526]/div/div[2]/div/div/a',\n",
       " '/html/body/div[2]/div/div[1]/div/div/main/div[1]/div[1]/div[6]/div[527]/div/div[2]/div/div/a',\n",
       " '/html/body/div[2]/div/div[1]/div/div/main/div[1]/div[1]/div[6]/div[528]/div/div[2]/div/div/a',\n",
       " '/html/body/div[2]/div/div[1]/div/div/main/div[1]/div[1]/div[6]/div[529]/div/div[2]/div/div/a',\n",
       " '/html/body/div[2]/div/div[1]/div/div/main/div[1]/div[1]/div[6]/div[530]/div/div[2]/div/div/a',\n",
       " '/html/body/div[2]/div/div[1]/div/div/main/div[1]/div[1]/div[6]/div[531]/div/div[2]/div/div/a',\n",
       " '/html/body/div[2]/div/div[1]/div/div/main/div[1]/div[1]/div[6]/div[532]/div/div[2]/div/div/a',\n",
       " '/html/body/div[2]/div/div[1]/div/div/main/div[1]/div[1]/div[6]/div[533]/div/div[2]/div/div/a',\n",
       " '/html/body/div[2]/div/div[1]/div/div/main/div[1]/div[1]/div[6]/div[534]/div/div[2]/div/div/a',\n",
       " '/html/body/div[2]/div/div[1]/div/div/main/div[1]/div[1]/div[6]/div[535]/div/div[2]/div/div/a',\n",
       " '/html/body/div[2]/div/div[1]/div/div/main/div[1]/div[1]/div[6]/div[536]/div/div[2]/div/div/a',\n",
       " '/html/body/div[2]/div/div[1]/div/div/main/div[1]/div[1]/div[6]/div[537]/div/div[2]/div/div/a',\n",
       " '/html/body/div[2]/div/div[1]/div/div/main/div[1]/div[1]/div[6]/div[538]/div/div[2]/div/div/a',\n",
       " '/html/body/div[2]/div/div[1]/div/div/main/div[1]/div[1]/div[6]/div[539]/div/div[2]/div/div/a',\n",
       " '/html/body/div[2]/div/div[1]/div/div/main/div[1]/div[1]/div[6]/div[540]/div/div[2]/div/div/a',\n",
       " '/html/body/div[2]/div/div[1]/div/div/main/div[1]/div[1]/div[6]/div[541]/div/div[2]/div/div/a',\n",
       " '/html/body/div[2]/div/div[1]/div/div/main/div[1]/div[1]/div[6]/div[542]/div/div[2]/div/div/a',\n",
       " '/html/body/div[2]/div/div[1]/div/div/main/div[1]/div[1]/div[6]/div[543]/div/div[2]/div/div/a',\n",
       " '/html/body/div[2]/div/div[1]/div/div/main/div[1]/div[1]/div[6]/div[544]/div/div[2]/div/div/a',\n",
       " '/html/body/div[2]/div/div[1]/div/div/main/div[1]/div[1]/div[6]/div[545]/div/div[2]/div/div/a',\n",
       " '/html/body/div[2]/div/div[1]/div/div/main/div[1]/div[1]/div[6]/div[546]/div/div[2]/div/div/a',\n",
       " '/html/body/div[2]/div/div[1]/div/div/main/div[1]/div[1]/div[6]/div[547]/div/div[2]/div/div/a',\n",
       " '/html/body/div[2]/div/div[1]/div/div/main/div[1]/div[1]/div[6]/div[548]/div/div[2]/div/div/a',\n",
       " '/html/body/div[2]/div/div[1]/div/div/main/div[1]/div[1]/div[6]/div[549]/div/div[2]/div/div/a',\n",
       " '/html/body/div[2]/div/div[1]/div/div/main/div[1]/div[1]/div[6]/div[550]/div/div[2]/div/div/a',\n",
       " '/html/body/div[2]/div/div[1]/div/div/main/div[1]/div[1]/div[6]/div[551]/div/div[2]/div/div/a',\n",
       " '/html/body/div[2]/div/div[1]/div/div/main/div[1]/div[1]/div[6]/div[552]/div/div[2]/div/div/a',\n",
       " '/html/body/div[2]/div/div[1]/div/div/main/div[1]/div[1]/div[6]/div[553]/div/div[2]/div/div/a',\n",
       " '/html/body/div[2]/div/div[1]/div/div/main/div[1]/div[1]/div[6]/div[554]/div/div[2]/div/div/a',\n",
       " '/html/body/div[2]/div/div[1]/div/div/main/div[1]/div[1]/div[6]/div[555]/div/div[2]/div/div/a',\n",
       " '/html/body/div[2]/div/div[1]/div/div/main/div[1]/div[1]/div[6]/div[556]/div/div[2]/div/div/a',\n",
       " '/html/body/div[2]/div/div[1]/div/div/main/div[1]/div[1]/div[6]/div[557]/div/div[2]/div/div/a',\n",
       " '/html/body/div[2]/div/div[1]/div/div/main/div[1]/div[1]/div[6]/div[558]/div/div[2]/div/div/a',\n",
       " '/html/body/div[2]/div/div[1]/div/div/main/div[1]/div[1]/div[6]/div[559]/div/div[2]/div/div/a',\n",
       " '/html/body/div[2]/div/div[1]/div/div/main/div[1]/div[1]/div[6]/div[560]/div/div[2]/div/div/a',\n",
       " '/html/body/div[2]/div/div[1]/div/div/main/div[1]/div[1]/div[6]/div[561]/div/div[2]/div/div/a',\n",
       " '/html/body/div[2]/div/div[1]/div/div/main/div[1]/div[1]/div[6]/div[562]/div/div[2]/div/div/a',\n",
       " '/html/body/div[2]/div/div[1]/div/div/main/div[1]/div[1]/div[6]/div[563]/div/div[2]/div/div/a',\n",
       " '/html/body/div[2]/div/div[1]/div/div/main/div[1]/div[1]/div[6]/div[564]/div/div[2]/div/div/a',\n",
       " '/html/body/div[2]/div/div[1]/div/div/main/div[1]/div[1]/div[6]/div[565]/div/div[2]/div/div/a',\n",
       " '/html/body/div[2]/div/div[1]/div/div/main/div[1]/div[1]/div[6]/div[566]/div/div[2]/div/div/a',\n",
       " '/html/body/div[2]/div/div[1]/div/div/main/div[1]/div[1]/div[6]/div[567]/div/div[2]/div/div/a',\n",
       " '/html/body/div[2]/div/div[1]/div/div/main/div[1]/div[1]/div[6]/div[568]/div/div[2]/div/div/a',\n",
       " '/html/body/div[2]/div/div[1]/div/div/main/div[1]/div[1]/div[6]/div[569]/div/div[2]/div/div/a',\n",
       " '/html/body/div[2]/div/div[1]/div/div/main/div[1]/div[1]/div[6]/div[570]/div/div[2]/div/div/a',\n",
       " '/html/body/div[2]/div/div[1]/div/div/main/div[1]/div[1]/div[6]/div[571]/div/div[2]/div/div/a',\n",
       " '/html/body/div[2]/div/div[1]/div/div/main/div[1]/div[1]/div[6]/div[572]/div/div[2]/div/div/a',\n",
       " '/html/body/div[2]/div/div[1]/div/div/main/div[1]/div[1]/div[6]/div[573]/div/div[2]/div/div/a',\n",
       " '/html/body/div[2]/div/div[1]/div/div/main/div[1]/div[1]/div[6]/div[574]/div/div[2]/div/div/a',\n",
       " '/html/body/div[2]/div/div[1]/div/div/main/div[1]/div[1]/div[6]/div[575]/div/div[2]/div/div/a',\n",
       " '/html/body/div[2]/div/div[1]/div/div/main/div[1]/div[1]/div[6]/div[576]/div/div[2]/div/div/a',\n",
       " '/html/body/div[2]/div/div[1]/div/div/main/div[1]/div[1]/div[6]/div[577]/div/div[2]/div/div/a',\n",
       " '/html/body/div[2]/div/div[1]/div/div/main/div[1]/div[1]/div[6]/div[578]/div/div[2]/div/div/a',\n",
       " '/html/body/div[2]/div/div[1]/div/div/main/div[1]/div[1]/div[6]/div[579]/div/div[2]/div/div/a',\n",
       " '/html/body/div[2]/div/div[1]/div/div/main/div[1]/div[1]/div[6]/div[580]/div/div[2]/div/div/a',\n",
       " '/html/body/div[2]/div/div[1]/div/div/main/div[1]/div[1]/div[6]/div[581]/div/div[2]/div/div/a',\n",
       " '/html/body/div[2]/div/div[1]/div/div/main/div[1]/div[1]/div[6]/div[582]/div/div[2]/div/div/a',\n",
       " '/html/body/div[2]/div/div[1]/div/div/main/div[1]/div[1]/div[6]/div[583]/div/div[2]/div/div/a',\n",
       " '/html/body/div[2]/div/div[1]/div/div/main/div[1]/div[1]/div[6]/div[584]/div/div[2]/div/div/a',\n",
       " '/html/body/div[2]/div/div[1]/div/div/main/div[1]/div[1]/div[6]/div[585]/div/div[2]/div/div/a',\n",
       " '/html/body/div[2]/div/div[1]/div/div/main/div[1]/div[1]/div[6]/div[586]/div/div[2]/div/div/a',\n",
       " '/html/body/div[2]/div/div[1]/div/div/main/div[1]/div[1]/div[6]/div[587]/div/div[2]/div/div/a',\n",
       " '/html/body/div[2]/div/div[1]/div/div/main/div[1]/div[1]/div[6]/div[588]/div/div[2]/div/div/a',\n",
       " '/html/body/div[2]/div/div[1]/div/div/main/div[1]/div[1]/div[6]/div[589]/div/div[2]/div/div/a',\n",
       " '/html/body/div[2]/div/div[1]/div/div/main/div[1]/div[1]/div[6]/div[590]/div/div[2]/div/div/a',\n",
       " '/html/body/div[2]/div/div[1]/div/div/main/div[1]/div[1]/div[6]/div[591]/div/div[2]/div/div/a',\n",
       " '/html/body/div[2]/div/div[1]/div/div/main/div[1]/div[1]/div[6]/div[592]/div/div[2]/div/div/a',\n",
       " '/html/body/div[2]/div/div[1]/div/div/main/div[1]/div[1]/div[6]/div[593]/div/div[2]/div/div/a',\n",
       " '/html/body/div[2]/div/div[1]/div/div/main/div[1]/div[1]/div[6]/div[594]/div/div[2]/div/div/a',\n",
       " '/html/body/div[2]/div/div[1]/div/div/main/div[1]/div[1]/div[6]/div[595]/div/div[2]/div/div/a',\n",
       " '/html/body/div[2]/div/div[1]/div/div/main/div[1]/div[1]/div[6]/div[596]/div/div[2]/div/div/a',\n",
       " '/html/body/div[2]/div/div[1]/div/div/main/div[1]/div[1]/div[6]/div[597]/div/div[2]/div/div/a',\n",
       " '/html/body/div[2]/div/div[1]/div/div/main/div[1]/div[1]/div[6]/div[598]/div/div[2]/div/div/a',\n",
       " '/html/body/div[2]/div/div[1]/div/div/main/div[1]/div[1]/div[6]/div[599]/div/div[2]/div/div/a',\n",
       " '/html/body/div[2]/div/div[1]/div/div/main/div[1]/div[1]/div[6]/div[600]/div/div[2]/div/div/a',\n",
       " '/html/body/div[2]/div/div[1]/div/div/main/div[1]/div[1]/div[6]/div[601]/div/div[2]/div/div/a',\n",
       " '/html/body/div[2]/div/div[1]/div/div/main/div[1]/div[1]/div[6]/div[602]/div/div[2]/div/div/a',\n",
       " '/html/body/div[2]/div/div[1]/div/div/main/div[1]/div[1]/div[6]/div[603]/div/div[2]/div/div/a',\n",
       " '/html/body/div[2]/div/div[1]/div/div/main/div[1]/div[1]/div[6]/div[604]/div/div[2]/div/div/a',\n",
       " '/html/body/div[2]/div/div[1]/div/div/main/div[1]/div[1]/div[6]/div[605]/div/div[2]/div/div/a',\n",
       " '/html/body/div[2]/div/div[1]/div/div/main/div[1]/div[1]/div[6]/div[606]/div/div[2]/div/div/a',\n",
       " '/html/body/div[2]/div/div[1]/div/div/main/div[1]/div[1]/div[6]/div[607]/div/div[2]/div/div/a',\n",
       " '/html/body/div[2]/div/div[1]/div/div/main/div[1]/div[1]/div[6]/div[608]/div/div[2]/div/div/a',\n",
       " '/html/body/div[2]/div/div[1]/div/div/main/div[1]/div[1]/div[6]/div[609]/div/div[2]/div/div/a',\n",
       " '/html/body/div[2]/div/div[1]/div/div/main/div[1]/div[1]/div[6]/div[610]/div/div[2]/div/div/a',\n",
       " '/html/body/div[2]/div/div[1]/div/div/main/div[1]/div[1]/div[6]/div[611]/div/div[2]/div/div/a',\n",
       " '/html/body/div[2]/div/div[1]/div/div/main/div[1]/div[1]/div[6]/div[612]/div/div[2]/div/div/a',\n",
       " '/html/body/div[2]/div/div[1]/div/div/main/div[1]/div[1]/div[6]/div[613]/div/div[2]/div/div/a',\n",
       " '/html/body/div[2]/div/div[1]/div/div/main/div[1]/div[1]/div[6]/div[614]/div/div[2]/div/div/a',\n",
       " '/html/body/div[2]/div/div[1]/div/div/main/div[1]/div[1]/div[6]/div[615]/div/div[2]/div/div/a',\n",
       " '/html/body/div[2]/div/div[1]/div/div/main/div[1]/div[1]/div[6]/div[616]/div/div[2]/div/div/a',\n",
       " '/html/body/div[2]/div/div[1]/div/div/main/div[1]/div[1]/div[6]/div[617]/div/div[2]/div/div/a',\n",
       " '/html/body/div[2]/div/div[1]/div/div/main/div[1]/div[1]/div[6]/div[618]/div/div[2]/div/div/a',\n",
       " '/html/body/div[2]/div/div[1]/div/div/main/div[1]/div[1]/div[6]/div[619]/div/div[2]/div/div/a',\n",
       " '/html/body/div[2]/div/div[1]/div/div/main/div[1]/div[1]/div[6]/div[620]/div/div[2]/div/div/a',\n",
       " '/html/body/div[2]/div/div[1]/div/div/main/div[1]/div[1]/div[6]/div[621]/div/div[2]/div/div/a',\n",
       " '/html/body/div[2]/div/div[1]/div/div/main/div[1]/div[1]/div[6]/div[622]/div/div[2]/div/div/a',\n",
       " '/html/body/div[2]/div/div[1]/div/div/main/div[1]/div[1]/div[6]/div[623]/div/div[2]/div/div/a',\n",
       " '/html/body/div[2]/div/div[1]/div/div/main/div[1]/div[1]/div[6]/div[624]/div/div[2]/div/div/a',\n",
       " '/html/body/div[2]/div/div[1]/div/div/main/div[1]/div[1]/div[6]/div[625]/div/div[2]/div/div/a',\n",
       " '/html/body/div[2]/div/div[1]/div/div/main/div[1]/div[1]/div[6]/div[626]/div/div[2]/div/div/a',\n",
       " '/html/body/div[2]/div/div[1]/div/div/main/div[1]/div[1]/div[6]/div[627]/div/div[2]/div/div/a',\n",
       " '/html/body/div[2]/div/div[1]/div/div/main/div[1]/div[1]/div[6]/div[628]/div/div[2]/div/div/a',\n",
       " '/html/body/div[2]/div/div[1]/div/div/main/div[1]/div[1]/div[6]/div[629]/div/div[2]/div/div/a',\n",
       " '/html/body/div[2]/div/div[1]/div/div/main/div[1]/div[1]/div[6]/div[630]/div/div[2]/div/div/a',\n",
       " '/html/body/div[2]/div/div[1]/div/div/main/div[1]/div[1]/div[6]/div[631]/div/div[2]/div/div/a',\n",
       " '/html/body/div[2]/div/div[1]/div/div/main/div[1]/div[1]/div[6]/div[632]/div/div[2]/div/div/a',\n",
       " '/html/body/div[2]/div/div[1]/div/div/main/div[1]/div[1]/div[6]/div[633]/div/div[2]/div/div/a',\n",
       " '/html/body/div[2]/div/div[1]/div/div/main/div[1]/div[1]/div[6]/div[634]/div/div[2]/div/div/a',\n",
       " '/html/body/div[2]/div/div[1]/div/div/main/div[1]/div[1]/div[6]/div[635]/div/div[2]/div/div/a',\n",
       " '/html/body/div[2]/div/div[1]/div/div/main/div[1]/div[1]/div[6]/div[636]/div/div[2]/div/div/a',\n",
       " '/html/body/div[2]/div/div[1]/div/div/main/div[1]/div[1]/div[6]/div[637]/div/div[2]/div/div/a',\n",
       " '/html/body/div[2]/div/div[1]/div/div/main/div[1]/div[1]/div[6]/div[638]/div/div[2]/div/div/a',\n",
       " '/html/body/div[2]/div/div[1]/div/div/main/div[1]/div[1]/div[6]/div[639]/div/div[2]/div/div/a',\n",
       " '/html/body/div[2]/div/div[1]/div/div/main/div[1]/div[1]/div[6]/div[640]/div/div[2]/div/div/a',\n",
       " '/html/body/div[2]/div/div[1]/div/div/main/div[1]/div[1]/div[6]/div[641]/div/div[2]/div/div/a',\n",
       " '/html/body/div[2]/div/div[1]/div/div/main/div[1]/div[1]/div[6]/div[642]/div/div[2]/div/div/a',\n",
       " '/html/body/div[2]/div/div[1]/div/div/main/div[1]/div[1]/div[6]/div[643]/div/div[2]/div/div/a',\n",
       " '/html/body/div[2]/div/div[1]/div/div/main/div[1]/div[1]/div[6]/div[644]/div/div[2]/div/div/a',\n",
       " '/html/body/div[2]/div/div[1]/div/div/main/div[1]/div[1]/div[6]/div[645]/div/div[2]/div/div/a',\n",
       " '/html/body/div[2]/div/div[1]/div/div/main/div[1]/div[1]/div[6]/div[646]/div/div[2]/div/div/a',\n",
       " '/html/body/div[2]/div/div[1]/div/div/main/div[1]/div[1]/div[6]/div[647]/div/div[2]/div/div/a',\n",
       " '/html/body/div[2]/div/div[1]/div/div/main/div[1]/div[1]/div[6]/div[648]/div/div[2]/div/div/a',\n",
       " '/html/body/div[2]/div/div[1]/div/div/main/div[1]/div[1]/div[6]/div[649]/div/div[2]/div/div/a',\n",
       " '/html/body/div[2]/div/div[1]/div/div/main/div[1]/div[1]/div[6]/div[650]/div/div[2]/div/div/a',\n",
       " '/html/body/div[2]/div/div[1]/div/div/main/div[1]/div[1]/div[6]/div[651]/div/div[2]/div/div/a',\n",
       " '/html/body/div[2]/div/div[1]/div/div/main/div[1]/div[1]/div[6]/div[652]/div/div[2]/div/div/a',\n",
       " '/html/body/div[2]/div/div[1]/div/div/main/div[1]/div[1]/div[6]/div[653]/div/div[2]/div/div/a',\n",
       " '/html/body/div[2]/div/div[1]/div/div/main/div[1]/div[1]/div[6]/div[654]/div/div[2]/div/div/a',\n",
       " '/html/body/div[2]/div/div[1]/div/div/main/div[1]/div[1]/div[6]/div[655]/div/div[2]/div/div/a',\n",
       " '/html/body/div[2]/div/div[1]/div/div/main/div[1]/div[1]/div[6]/div[656]/div/div[2]/div/div/a',\n",
       " '/html/body/div[2]/div/div[1]/div/div/main/div[1]/div[1]/div[6]/div[657]/div/div[2]/div/div/a',\n",
       " '/html/body/div[2]/div/div[1]/div/div/main/div[1]/div[1]/div[6]/div[658]/div/div[2]/div/div/a',\n",
       " '/html/body/div[2]/div/div[1]/div/div/main/div[1]/div[1]/div[6]/div[659]/div/div[2]/div/div/a',\n",
       " '/html/body/div[2]/div/div[1]/div/div/main/div[1]/div[1]/div[6]/div[660]/div/div[2]/div/div/a',\n",
       " '/html/body/div[2]/div/div[1]/div/div/main/div[1]/div[1]/div[6]/div[661]/div/div[2]/div/div/a',\n",
       " '/html/body/div[2]/div/div[1]/div/div/main/div[1]/div[1]/div[6]/div[662]/div/div[2]/div/div/a',\n",
       " '/html/body/div[2]/div/div[1]/div/div/main/div[1]/div[1]/div[6]/div[663]/div/div[2]/div/div/a',\n",
       " '/html/body/div[2]/div/div[1]/div/div/main/div[1]/div[1]/div[6]/div[664]/div/div[2]/div/div/a',\n",
       " '/html/body/div[2]/div/div[1]/div/div/main/div[1]/div[1]/div[6]/div[665]/div/div[2]/div/div/a',\n",
       " '/html/body/div[2]/div/div[1]/div/div/main/div[1]/div[1]/div[6]/div[666]/div/div[2]/div/div/a',\n",
       " '/html/body/div[2]/div/div[1]/div/div/main/div[1]/div[1]/div[6]/div[667]/div/div[2]/div/div/a',\n",
       " '/html/body/div[2]/div/div[1]/div/div/main/div[1]/div[1]/div[6]/div[668]/div/div[2]/div/div/a',\n",
       " '/html/body/div[2]/div/div[1]/div/div/main/div[1]/div[1]/div[6]/div[669]/div/div[2]/div/div/a',\n",
       " '/html/body/div[2]/div/div[1]/div/div/main/div[1]/div[1]/div[6]/div[670]/div/div[2]/div/div/a',\n",
       " '/html/body/div[2]/div/div[1]/div/div/main/div[1]/div[1]/div[6]/div[671]/div/div[2]/div/div/a',\n",
       " '/html/body/div[2]/div/div[1]/div/div/main/div[1]/div[1]/div[6]/div[672]/div/div[2]/div/div/a',\n",
       " '/html/body/div[2]/div/div[1]/div/div/main/div[1]/div[1]/div[6]/div[673]/div/div[2]/div/div/a',\n",
       " '/html/body/div[2]/div/div[1]/div/div/main/div[1]/div[1]/div[6]/div[674]/div/div[2]/div/div/a',\n",
       " '/html/body/div[2]/div/div[1]/div/div/main/div[1]/div[1]/div[6]/div[675]/div/div[2]/div/div/a',\n",
       " '/html/body/div[2]/div/div[1]/div/div/main/div[1]/div[1]/div[6]/div[676]/div/div[2]/div/div/a',\n",
       " '/html/body/div[2]/div/div[1]/div/div/main/div[1]/div[1]/div[6]/div[677]/div/div[2]/div/div/a',\n",
       " '/html/body/div[2]/div/div[1]/div/div/main/div[1]/div[1]/div[6]/div[678]/div/div[2]/div/div/a',\n",
       " '/html/body/div[2]/div/div[1]/div/div/main/div[1]/div[1]/div[6]/div[679]/div/div[2]/div/div/a',\n",
       " '/html/body/div[2]/div/div[1]/div/div/main/div[1]/div[1]/div[6]/div[680]/div/div[2]/div/div/a',\n",
       " '/html/body/div[2]/div/div[1]/div/div/main/div[1]/div[1]/div[6]/div[681]/div/div[2]/div/div/a',\n",
       " '/html/body/div[2]/div/div[1]/div/div/main/div[1]/div[1]/div[6]/div[682]/div/div[2]/div/div/a',\n",
       " '/html/body/div[2]/div/div[1]/div/div/main/div[1]/div[1]/div[6]/div[683]/div/div[2]/div/div/a',\n",
       " '/html/body/div[2]/div/div[1]/div/div/main/div[1]/div[1]/div[6]/div[684]/div/div[2]/div/div/a',\n",
       " '/html/body/div[2]/div/div[1]/div/div/main/div[1]/div[1]/div[6]/div[685]/div/div[2]/div/div/a',\n",
       " '/html/body/div[2]/div/div[1]/div/div/main/div[1]/div[1]/div[6]/div[686]/div/div[2]/div/div/a',\n",
       " '/html/body/div[2]/div/div[1]/div/div/main/div[1]/div[1]/div[6]/div[687]/div/div[2]/div/div/a',\n",
       " '/html/body/div[2]/div/div[1]/div/div/main/div[1]/div[1]/div[6]/div[688]/div/div[2]/div/div/a',\n",
       " '/html/body/div[2]/div/div[1]/div/div/main/div[1]/div[1]/div[6]/div[689]/div/div[2]/div/div/a',\n",
       " '/html/body/div[2]/div/div[1]/div/div/main/div[1]/div[1]/div[6]/div[690]/div/div[2]/div/div/a',\n",
       " '/html/body/div[2]/div/div[1]/div/div/main/div[1]/div[1]/div[6]/div[691]/div/div[2]/div/div/a',\n",
       " '/html/body/div[2]/div/div[1]/div/div/main/div[1]/div[1]/div[6]/div[692]/div/div[2]/div/div/a',\n",
       " '/html/body/div[2]/div/div[1]/div/div/main/div[1]/div[1]/div[6]/div[693]/div/div[2]/div/div/a',\n",
       " '/html/body/div[2]/div/div[1]/div/div/main/div[1]/div[1]/div[6]/div[694]/div/div[2]/div/div/a',\n",
       " '/html/body/div[2]/div/div[1]/div/div/main/div[1]/div[1]/div[6]/div[695]/div/div[2]/div/div/a',\n",
       " '/html/body/div[2]/div/div[1]/div/div/main/div[1]/div[1]/div[6]/div[696]/div/div[2]/div/div/a',\n",
       " '/html/body/div[2]/div/div[1]/div/div/main/div[1]/div[1]/div[6]/div[697]/div/div[2]/div/div/a',\n",
       " '/html/body/div[2]/div/div[1]/div/div/main/div[1]/div[1]/div[6]/div[698]/div/div[2]/div/div/a',\n",
       " '/html/body/div[2]/div/div[1]/div/div/main/div[1]/div[1]/div[6]/div[699]/div/div[2]/div/div/a',\n",
       " '/html/body/div[2]/div/div[1]/div/div/main/div[1]/div[1]/div[6]/div[700]/div/div[2]/div/div/a',\n",
       " '/html/body/div[2]/div/div[1]/div/div/main/div[1]/div[1]/div[6]/div[701]/div/div[2]/div/div/a',\n",
       " '/html/body/div[2]/div/div[1]/div/div/main/div[1]/div[1]/div[6]/div[702]/div/div[2]/div/div/a',\n",
       " '/html/body/div[2]/div/div[1]/div/div/main/div[1]/div[1]/div[6]/div[703]/div/div[2]/div/div/a',\n",
       " '/html/body/div[2]/div/div[1]/div/div/main/div[1]/div[1]/div[6]/div[704]/div/div[2]/div/div/a',\n",
       " '/html/body/div[2]/div/div[1]/div/div/main/div[1]/div[1]/div[6]/div[705]/div/div[2]/div/div/a',\n",
       " '/html/body/div[2]/div/div[1]/div/div/main/div[1]/div[1]/div[6]/div[706]/div/div[2]/div/div/a',\n",
       " '/html/body/div[2]/div/div[1]/div/div/main/div[1]/div[1]/div[6]/div[707]/div/div[2]/div/div/a',\n",
       " '/html/body/div[2]/div/div[1]/div/div/main/div[1]/div[1]/div[6]/div[708]/div/div[2]/div/div/a',\n",
       " '/html/body/div[2]/div/div[1]/div/div/main/div[1]/div[1]/div[6]/div[709]/div/div[2]/div/div/a',\n",
       " '/html/body/div[2]/div/div[1]/div/div/main/div[1]/div[1]/div[6]/div[710]/div/div[2]/div/div/a',\n",
       " '/html/body/div[2]/div/div[1]/div/div/main/div[1]/div[1]/div[6]/div[711]/div/div[2]/div/div/a',\n",
       " '/html/body/div[2]/div/div[1]/div/div/main/div[1]/div[1]/div[6]/div[712]/div/div[2]/div/div/a',\n",
       " '/html/body/div[2]/div/div[1]/div/div/main/div[1]/div[1]/div[6]/div[713]/div/div[2]/div/div/a',\n",
       " '/html/body/div[2]/div/div[1]/div/div/main/div[1]/div[1]/div[6]/div[714]/div/div[2]/div/div/a',\n",
       " '/html/body/div[2]/div/div[1]/div/div/main/div[1]/div[1]/div[6]/div[715]/div/div[2]/div/div/a',\n",
       " '/html/body/div[2]/div/div[1]/div/div/main/div[1]/div[1]/div[6]/div[716]/div/div[2]/div/div/a',\n",
       " '/html/body/div[2]/div/div[1]/div/div/main/div[1]/div[1]/div[6]/div[717]/div/div[2]/div/div/a',\n",
       " '/html/body/div[2]/div/div[1]/div/div/main/div[1]/div[1]/div[6]/div[718]/div/div[2]/div/div/a',\n",
       " '/html/body/div[2]/div/div[1]/div/div/main/div[1]/div[1]/div[6]/div[719]/div/div[2]/div/div/a',\n",
       " '/html/body/div[2]/div/div[1]/div/div/main/div[1]/div[1]/div[6]/div[720]/div/div[2]/div/div/a',\n",
       " '/html/body/div[2]/div/div[1]/div/div/main/div[1]/div[1]/div[6]/div[721]/div/div[2]/div/div/a',\n",
       " '/html/body/div[2]/div/div[1]/div/div/main/div[1]/div[1]/div[6]/div[722]/div/div[2]/div/div/a',\n",
       " '/html/body/div[2]/div/div[1]/div/div/main/div[1]/div[1]/div[6]/div[723]/div/div[2]/div/div/a',\n",
       " '/html/body/div[2]/div/div[1]/div/div/main/div[1]/div[1]/div[6]/div[724]/div/div[2]/div/div/a',\n",
       " '/html/body/div[2]/div/div[1]/div/div/main/div[1]/div[1]/div[6]/div[725]/div/div[2]/div/div/a',\n",
       " '/html/body/div[2]/div/div[1]/div/div/main/div[1]/div[1]/div[6]/div[726]/div/div[2]/div/div/a',\n",
       " '/html/body/div[2]/div/div[1]/div/div/main/div[1]/div[1]/div[6]/div[727]/div/div[2]/div/div/a',\n",
       " '/html/body/div[2]/div/div[1]/div/div/main/div[1]/div[1]/div[6]/div[728]/div/div[2]/div/div/a',\n",
       " '/html/body/div[2]/div/div[1]/div/div/main/div[1]/div[1]/div[6]/div[729]/div/div[2]/div/div/a',\n",
       " '/html/body/div[2]/div/div[1]/div/div/main/div[1]/div[1]/div[6]/div[730]/div/div[2]/div/div/a',\n",
       " '/html/body/div[2]/div/div[1]/div/div/main/div[1]/div[1]/div[6]/div[731]/div/div[2]/div/div/a',\n",
       " '/html/body/div[2]/div/div[1]/div/div/main/div[1]/div[1]/div[6]/div[732]/div/div[2]/div/div/a',\n",
       " '/html/body/div[2]/div/div[1]/div/div/main/div[1]/div[1]/div[6]/div[733]/div/div[2]/div/div/a',\n",
       " '/html/body/div[2]/div/div[1]/div/div/main/div[1]/div[1]/div[6]/div[734]/div/div[2]/div/div/a',\n",
       " '/html/body/div[2]/div/div[1]/div/div/main/div[1]/div[1]/div[6]/div[735]/div/div[2]/div/div/a',\n",
       " '/html/body/div[2]/div/div[1]/div/div/main/div[1]/div[1]/div[6]/div[736]/div/div[2]/div/div/a',\n",
       " '/html/body/div[2]/div/div[1]/div/div/main/div[1]/div[1]/div[6]/div[737]/div/div[2]/div/div/a',\n",
       " '/html/body/div[2]/div/div[1]/div/div/main/div[1]/div[1]/div[6]/div[738]/div/div[2]/div/div/a',\n",
       " '/html/body/div[2]/div/div[1]/div/div/main/div[1]/div[1]/div[6]/div[739]/div/div[2]/div/div/a',\n",
       " '/html/body/div[2]/div/div[1]/div/div/main/div[1]/div[1]/div[6]/div[740]/div/div[2]/div/div/a',\n",
       " '/html/body/div[2]/div/div[1]/div/div/main/div[1]/div[1]/div[6]/div[741]/div/div[2]/div/div/a',\n",
       " '/html/body/div[2]/div/div[1]/div/div/main/div[1]/div[1]/div[6]/div[742]/div/div[2]/div/div/a',\n",
       " '/html/body/div[2]/div/div[1]/div/div/main/div[1]/div[1]/div[6]/div[743]/div/div[2]/div/div/a',\n",
       " '/html/body/div[2]/div/div[1]/div/div/main/div[1]/div[1]/div[6]/div[744]/div/div[2]/div/div/a',\n",
       " '/html/body/div[2]/div/div[1]/div/div/main/div[1]/div[1]/div[6]/div[745]/div/div[2]/div/div/a',\n",
       " '/html/body/div[2]/div/div[1]/div/div/main/div[1]/div[1]/div[6]/div[746]/div/div[2]/div/div/a',\n",
       " '/html/body/div[2]/div/div[1]/div/div/main/div[1]/div[1]/div[6]/div[747]/div/div[2]/div/div/a',\n",
       " '/html/body/div[2]/div/div[1]/div/div/main/div[1]/div[1]/div[6]/div[748]/div/div[2]/div/div/a',\n",
       " '/html/body/div[2]/div/div[1]/div/div/main/div[1]/div[1]/div[6]/div[749]/div/div[2]/div/div/a',\n",
       " '/html/body/div[2]/div/div[1]/div/div/main/div[1]/div[1]/div[6]/div[750]/div/div[2]/div/div/a',\n",
       " '/html/body/div[2]/div/div[1]/div/div/main/div[1]/div[1]/div[6]/div[751]/div/div[2]/div/div/a',\n",
       " '/html/body/div[2]/div/div[1]/div/div/main/div[1]/div[1]/div[6]/div[752]/div/div[2]/div/div/a',\n",
       " '/html/body/div[2]/div/div[1]/div/div/main/div[1]/div[1]/div[6]/div[753]/div/div[2]/div/div/a',\n",
       " '/html/body/div[2]/div/div[1]/div/div/main/div[1]/div[1]/div[6]/div[754]/div/div[2]/div/div/a',\n",
       " '/html/body/div[2]/div/div[1]/div/div/main/div[1]/div[1]/div[6]/div[755]/div/div[2]/div/div/a',\n",
       " '/html/body/div[2]/div/div[1]/div/div/main/div[1]/div[1]/div[6]/div[756]/div/div[2]/div/div/a',\n",
       " '/html/body/div[2]/div/div[1]/div/div/main/div[1]/div[1]/div[6]/div[757]/div/div[2]/div/div/a',\n",
       " '/html/body/div[2]/div/div[1]/div/div/main/div[1]/div[1]/div[6]/div[758]/div/div[2]/div/div/a',\n",
       " '/html/body/div[2]/div/div[1]/div/div/main/div[1]/div[1]/div[6]/div[759]/div/div[2]/div/div/a',\n",
       " '/html/body/div[2]/div/div[1]/div/div/main/div[1]/div[1]/div[6]/div[760]/div/div[2]/div/div/a',\n",
       " '/html/body/div[2]/div/div[1]/div/div/main/div[1]/div[1]/div[6]/div[761]/div/div[2]/div/div/a',\n",
       " '/html/body/div[2]/div/div[1]/div/div/main/div[1]/div[1]/div[6]/div[762]/div/div[2]/div/div/a',\n",
       " '/html/body/div[2]/div/div[1]/div/div/main/div[1]/div[1]/div[6]/div[763]/div/div[2]/div/div/a',\n",
       " '/html/body/div[2]/div/div[1]/div/div/main/div[1]/div[1]/div[6]/div[764]/div/div[2]/div/div/a',\n",
       " '/html/body/div[2]/div/div[1]/div/div/main/div[1]/div[1]/div[6]/div[765]/div/div[2]/div/div/a',\n",
       " '/html/body/div[2]/div/div[1]/div/div/main/div[1]/div[1]/div[6]/div[766]/div/div[2]/div/div/a',\n",
       " '/html/body/div[2]/div/div[1]/div/div/main/div[1]/div[1]/div[6]/div[767]/div/div[2]/div/div/a',\n",
       " '/html/body/div[2]/div/div[1]/div/div/main/div[1]/div[1]/div[6]/div[768]/div/div[2]/div/div/a',\n",
       " '/html/body/div[2]/div/div[1]/div/div/main/div[1]/div[1]/div[6]/div[769]/div/div[2]/div/div/a',\n",
       " '/html/body/div[2]/div/div[1]/div/div/main/div[1]/div[1]/div[6]/div[770]/div/div[2]/div/div/a',\n",
       " '/html/body/div[2]/div/div[1]/div/div/main/div[1]/div[1]/div[6]/div[771]/div/div[2]/div/div/a',\n",
       " '/html/body/div[2]/div/div[1]/div/div/main/div[1]/div[1]/div[6]/div[772]/div/div[2]/div/div/a',\n",
       " '/html/body/div[2]/div/div[1]/div/div/main/div[1]/div[1]/div[6]/div[773]/div/div[2]/div/div/a',\n",
       " '/html/body/div[2]/div/div[1]/div/div/main/div[1]/div[1]/div[6]/div[774]/div/div[2]/div/div/a',\n",
       " '/html/body/div[2]/div/div[1]/div/div/main/div[1]/div[1]/div[6]/div[775]/div/div[2]/div/div/a',\n",
       " '/html/body/div[2]/div/div[1]/div/div/main/div[1]/div[1]/div[6]/div[776]/div/div[2]/div/div/a',\n",
       " '/html/body/div[2]/div/div[1]/div/div/main/div[1]/div[1]/div[6]/div[777]/div/div[2]/div/div/a',\n",
       " '/html/body/div[2]/div/div[1]/div/div/main/div[1]/div[1]/div[6]/div[778]/div/div[2]/div/div/a',\n",
       " '/html/body/div[2]/div/div[1]/div/div/main/div[1]/div[1]/div[6]/div[779]/div/div[2]/div/div/a',\n",
       " '/html/body/div[2]/div/div[1]/div/div/main/div[1]/div[1]/div[6]/div[780]/div/div[2]/div/div/a',\n",
       " '/html/body/div[2]/div/div[1]/div/div/main/div[1]/div[1]/div[6]/div[781]/div/div[2]/div/div/a',\n",
       " '/html/body/div[2]/div/div[1]/div/div/main/div[1]/div[1]/div[6]/div[782]/div/div[2]/div/div/a',\n",
       " '/html/body/div[2]/div/div[1]/div/div/main/div[1]/div[1]/div[6]/div[783]/div/div[2]/div/div/a',\n",
       " '/html/body/div[2]/div/div[1]/div/div/main/div[1]/div[1]/div[6]/div[784]/div/div[2]/div/div/a',\n",
       " '/html/body/div[2]/div/div[1]/div/div/main/div[1]/div[1]/div[6]/div[akash]/div/div[2]/div/div/a']"
      ]
     },
     "execution_count": 70,
     "metadata": {},
     "output_type": "execute_result"
    }
   ],
   "source": [
    "xpath"
   ]
  },
  {
   "cell_type": "code",
   "execution_count": null,
   "id": "22de04aa",
   "metadata": {},
   "outputs": [],
   "source": []
  },
  {
   "cell_type": "code",
   "execution_count": null,
   "id": "0e6cd422",
   "metadata": {},
   "outputs": [],
   "source": []
  },
  {
   "cell_type": "code",
   "execution_count": null,
   "id": "4bffbb97",
   "metadata": {},
   "outputs": [],
   "source": []
  }
 ],
 "metadata": {
  "kernelspec": {
   "display_name": "Python 3 (ipykernel)",
   "language": "python",
   "name": "python3"
  },
  "language_info": {
   "codemirror_mode": {
    "name": "ipython",
    "version": 3
   },
   "file_extension": ".py",
   "mimetype": "text/x-python",
   "name": "python",
   "nbconvert_exporter": "python",
   "pygments_lexer": "ipython3",
   "version": "3.9.7"
  }
 },
 "nbformat": 4,
 "nbformat_minor": 5
}
