{
 "cells": [
  {
   "cell_type": "markdown",
   "id": "37d5e111",
   "metadata": {},
   "source": [
    "## Model Building Phase\n",
    "We have done with the collection of used car data in data collection file, here we are going to build a machine learning model.Before making the pandas data frame we will have to load the data which we had saved through joblib lib."
   ]
  },
  {
   "cell_type": "code",
   "execution_count": 124,
   "id": "bd23c49d",
   "metadata": {},
   "outputs": [],
   "source": [
    "import joblib"
   ]
  },
  {
   "cell_type": "code",
   "execution_count": 125,
   "id": "4f5d32cd",
   "metadata": {},
   "outputs": [],
   "source": [
    "Car_name=joblib.load(\"Car_name.pkl\")\n",
    "Fuel_type=joblib.load(\"Fuel_type.pkl\")\n",
    "History=joblib.load(\"History.pkl\")\n",
    "Kilometers_Driven=joblib.load(\"Kilometers_Driven.pkl\")\n",
    "Owner=joblib.load(\"Owner.pkl\")\n",
    "Transmission=joblib.load(\"Transmission.pkl\")\n",
    "Year_of_purches=joblib.load(\"Year_of_purches.pkl\")\n",
    "Price=joblib.load(\"Price.pkl\")"
   ]
  },
  {
   "cell_type": "markdown",
   "id": "8374919e",
   "metadata": {},
   "source": [
    "### Importing the lib."
   ]
  },
  {
   "cell_type": "code",
   "execution_count": 126,
   "id": "80708327",
   "metadata": {},
   "outputs": [],
   "source": [
    "import pandas as pd\n",
    "import numpy as np\n",
    "import matplotlib.pyplot as plt\n",
    "import seaborn as sns\n",
    "import warnings\n",
    "warnings.filterwarnings(\"ignore\")\n",
    "import scipy"
   ]
  },
  {
   "cell_type": "code",
   "execution_count": 127,
   "id": "15104ebc",
   "metadata": {},
   "outputs": [],
   "source": [
    "data=pd.DataFrame({\"car name\":Car_name,'year of purches':Year_of_purches,'Kilometers_Driven':Kilometers_Driven,\n",
    "                  'Owner':Owner,'Fuel_type':Fuel_type,'Transmission':Transmission,'Price':Price})"
   ]
  },
  {
   "cell_type": "code",
   "execution_count": 128,
   "id": "a799aba4",
   "metadata": {},
   "outputs": [
    {
     "data": {
      "text/html": [
       "<div>\n",
       "<style scoped>\n",
       "    .dataframe tbody tr th:only-of-type {\n",
       "        vertical-align: middle;\n",
       "    }\n",
       "\n",
       "    .dataframe tbody tr th {\n",
       "        vertical-align: top;\n",
       "    }\n",
       "\n",
       "    .dataframe thead th {\n",
       "        text-align: right;\n",
       "    }\n",
       "</style>\n",
       "<table border=\"1\" class=\"dataframe\">\n",
       "  <thead>\n",
       "    <tr style=\"text-align: right;\">\n",
       "      <th></th>\n",
       "      <th>car name</th>\n",
       "      <th>year of purches</th>\n",
       "      <th>Kilometers_Driven</th>\n",
       "      <th>Owner</th>\n",
       "      <th>Fuel_type</th>\n",
       "      <th>Transmission</th>\n",
       "      <th>Price</th>\n",
       "    </tr>\n",
       "  </thead>\n",
       "  <tbody>\n",
       "    <tr>\n",
       "      <th>0</th>\n",
       "      <td>2014 Mercedes Benz C Class C 200 AVANTGARDE AU...</td>\n",
       "      <td>January 2014</td>\n",
       "      <td>36,806 km</td>\n",
       "      <td>1st Owner</td>\n",
       "      <td>Petrol</td>\n",
       "      <td>AUTOMATIC</td>\n",
       "      <td>₹ 21,33,299</td>\n",
       "    </tr>\n",
       "    <tr>\n",
       "      <th>1</th>\n",
       "      <td>2009 Maruti Wagon R LXI MINOR MANUAL</td>\n",
       "      <td>October 2009</td>\n",
       "      <td>57,473 km</td>\n",
       "      <td>1st Owner</td>\n",
       "      <td>Petrol</td>\n",
       "      <td>MANUAL</td>\n",
       "      <td>₹ 1,56,599</td>\n",
       "    </tr>\n",
       "    <tr>\n",
       "      <th>2</th>\n",
       "      <td>2020 KIA SELTOS GTX + AT PETROL AUTOMATIC</td>\n",
       "      <td>September 2020</td>\n",
       "      <td>7,568 km</td>\n",
       "      <td>1st Owner</td>\n",
       "      <td>Petrol</td>\n",
       "      <td>AUTOMATIC</td>\n",
       "      <td>₹ 17,41,799</td>\n",
       "    </tr>\n",
       "    <tr>\n",
       "      <th>3</th>\n",
       "      <td>2019 Honda Amaze 1.2 EMT I VTEC MANUAL</td>\n",
       "      <td>June 2019</td>\n",
       "      <td>15,973 km</td>\n",
       "      <td>1st Owner</td>\n",
       "      <td>Petrol</td>\n",
       "      <td>MANUAL</td>\n",
       "      <td>₹ 5,72,399</td>\n",
       "    </tr>\n",
       "    <tr>\n",
       "      <th>4</th>\n",
       "      <td>2021 Renault Kiger RXZ 1.0 Easy R Petrol</td>\n",
       "      <td>February 2021</td>\n",
       "      <td>2,747 km</td>\n",
       "      <td>1st Owner</td>\n",
       "      <td>Petrol</td>\n",
       "      <td>NA</td>\n",
       "      <td>₹ 8,56,699</td>\n",
       "    </tr>\n",
       "  </tbody>\n",
       "</table>\n",
       "</div>"
      ],
      "text/plain": [
       "                                            car name year of purches  \\\n",
       "0  2014 Mercedes Benz C Class C 200 AVANTGARDE AU...    January 2014   \n",
       "1               2009 Maruti Wagon R LXI MINOR MANUAL    October 2009   \n",
       "2          2020 KIA SELTOS GTX + AT PETROL AUTOMATIC  September 2020   \n",
       "3             2019 Honda Amaze 1.2 EMT I VTEC MANUAL       June 2019   \n",
       "4           2021 Renault Kiger RXZ 1.0 Easy R Petrol   February 2021   \n",
       "\n",
       "  Kilometers_Driven      Owner Fuel_type Transmission        Price  \n",
       "0         36,806 km  1st Owner    Petrol    AUTOMATIC  ₹ 21,33,299  \n",
       "1         57,473 km  1st Owner    Petrol       MANUAL   ₹ 1,56,599  \n",
       "2          7,568 km  1st Owner    Petrol    AUTOMATIC  ₹ 17,41,799  \n",
       "3         15,973 km  1st Owner    Petrol       MANUAL   ₹ 5,72,399  \n",
       "4          2,747 km  1st Owner    Petrol           NA   ₹ 8,56,699  "
      ]
     },
     "execution_count": 128,
     "metadata": {},
     "output_type": "execute_result"
    }
   ],
   "source": [
    "data.head()"
   ]
  },
  {
   "cell_type": "code",
   "execution_count": 129,
   "id": "9e4dc6c9",
   "metadata": {},
   "outputs": [
    {
     "data": {
      "text/plain": [
       "(5104, 7)"
      ]
     },
     "execution_count": 129,
     "metadata": {},
     "output_type": "execute_result"
    }
   ],
   "source": [
    "data.shape"
   ]
  },
  {
   "cell_type": "code",
   "execution_count": 130,
   "id": "be213ec8",
   "metadata": {},
   "outputs": [
    {
     "name": "stdout",
     "output_type": "stream",
     "text": [
      "<class 'pandas.core.frame.DataFrame'>\n",
      "RangeIndex: 5104 entries, 0 to 5103\n",
      "Data columns (total 7 columns):\n",
      " #   Column             Non-Null Count  Dtype \n",
      "---  ------             --------------  ----- \n",
      " 0   car name           5104 non-null   object\n",
      " 1   year of purches    5104 non-null   object\n",
      " 2   Kilometers_Driven  5104 non-null   object\n",
      " 3   Owner              5104 non-null   object\n",
      " 4   Fuel_type          5104 non-null   object\n",
      " 5   Transmission       5104 non-null   object\n",
      " 6   Price              5104 non-null   object\n",
      "dtypes: object(7)\n",
      "memory usage: 279.2+ KB\n"
     ]
    }
   ],
   "source": [
    "data.info()"
   ]
  },
  {
   "cell_type": "code",
   "execution_count": 131,
   "id": "b8e2b6df",
   "metadata": {},
   "outputs": [
    {
     "data": {
      "image/png": "[encoded data removed]",
      "text/plain": [
       "<Figure size 936x576 with 2 Axes>"
      ]
     },
     "metadata": {
      "needs_background": "light"
     },
     "output_type": "display_data"
    }
   ],
   "source": [
    "plt.figure(figsize=[13,8])\n",
    "sns.heatmap(data.isnull(),cmap='ocean')\n",
    "plt.show()"
   ]
  },
  {
   "cell_type": "markdown",
   "id": "dcb5ac65",
   "metadata": {},
   "source": [
    "### Observation-1\n",
    "In the above dataset :\n",
    "\n",
    "1) The size of table is 5104*7 i.e. no. of rows are 5100 and no. of columns are 7(including target).\n",
    "\n",
    "2) Out of 7 columns 2 columns are continuous in nature and rest 5 are object type.\n",
    "\n",
    "3) Null values are not present in the data set as we can see in ths seaborn heatmap, so there is no need to adopt imputation techniuqe.\n",
    "\n",
    "4) In case of object data type, we will apply the encoding technique to convert the values in the numeric format."
   ]
  },
  {
   "cell_type": "markdown",
   "id": "1ff44bc1",
   "metadata": {},
   "source": [
    "### Data cleaning"
   ]
  },
  {
   "cell_type": "code",
   "execution_count": 132,
   "id": "93f70716",
   "metadata": {},
   "outputs": [],
   "source": [
    "backup=data.copy()"
   ]
  },
  {
   "cell_type": "code",
   "execution_count": 133,
   "id": "791516bc",
   "metadata": {},
   "outputs": [],
   "source": [
    "data['car name']=data['car name'].str.split(\" \").str.slice(1,4).str.join(\" \")"
   ]
  },
  {
   "cell_type": "code",
   "execution_count": 134,
   "id": "be5d534a",
   "metadata": {},
   "outputs": [],
   "source": [
    "data['company']=data['car name'].str.split(\" \").str.slice(0,1).str.join(\" \")"
   ]
  },
  {
   "cell_type": "code",
   "execution_count": 135,
   "id": "9750632c",
   "metadata": {},
   "outputs": [],
   "source": [
    "data[\"year of purches\"]=data['year of purches'].str.split(\" \").str.slice(1).str.join(\" \")"
   ]
  },
  {
   "cell_type": "code",
   "execution_count": 136,
   "id": "28ffa5cb",
   "metadata": {},
   "outputs": [],
   "source": [
    "data=data[data['year of purches']!=\"\"]"
   ]
  },
  {
   "cell_type": "code",
   "execution_count": 137,
   "id": "2dd1351b",
   "metadata": {},
   "outputs": [],
   "source": [
    "data['year of purches']=data['year of purches'].astype(int)"
   ]
  },
  {
   "cell_type": "code",
   "execution_count": 138,
   "id": "e6b9ee9d",
   "metadata": {},
   "outputs": [
    {
     "data": {
      "text/html": [
       "<div>\n",
       "<style scoped>\n",
       "    .dataframe tbody tr th:only-of-type {\n",
       "        vertical-align: middle;\n",
       "    }\n",
       "\n",
       "    .dataframe tbody tr th {\n",
       "        vertical-align: top;\n",
       "    }\n",
       "\n",
       "    .dataframe thead th {\n",
       "        text-align: right;\n",
       "    }\n",
       "</style>\n",
       "<table border=\"1\" class=\"dataframe\">\n",
       "  <thead>\n",
       "    <tr style=\"text-align: right;\">\n",
       "      <th></th>\n",
       "      <th>car name</th>\n",
       "      <th>year of purches</th>\n",
       "      <th>Kilometers_Driven</th>\n",
       "      <th>Owner</th>\n",
       "      <th>Fuel_type</th>\n",
       "      <th>Transmission</th>\n",
       "      <th>Price</th>\n",
       "      <th>company</th>\n",
       "    </tr>\n",
       "  </thead>\n",
       "  <tbody>\n",
       "    <tr>\n",
       "      <th>0</th>\n",
       "      <td>Mercedes Benz C</td>\n",
       "      <td>2014</td>\n",
       "      <td>36,806 km</td>\n",
       "      <td>1st Owner</td>\n",
       "      <td>Petrol</td>\n",
       "      <td>AUTOMATIC</td>\n",
       "      <td>₹ 21,33,299</td>\n",
       "      <td>Mercedes</td>\n",
       "    </tr>\n",
       "    <tr>\n",
       "      <th>1</th>\n",
       "      <td>Maruti Wagon R</td>\n",
       "      <td>2009</td>\n",
       "      <td>57,473 km</td>\n",
       "      <td>1st Owner</td>\n",
       "      <td>Petrol</td>\n",
       "      <td>MANUAL</td>\n",
       "      <td>₹ 1,56,599</td>\n",
       "      <td>Maruti</td>\n",
       "    </tr>\n",
       "    <tr>\n",
       "      <th>2</th>\n",
       "      <td>KIA SELTOS GTX</td>\n",
       "      <td>2020</td>\n",
       "      <td>7,568 km</td>\n",
       "      <td>1st Owner</td>\n",
       "      <td>Petrol</td>\n",
       "      <td>AUTOMATIC</td>\n",
       "      <td>₹ 17,41,799</td>\n",
       "      <td>KIA</td>\n",
       "    </tr>\n",
       "    <tr>\n",
       "      <th>3</th>\n",
       "      <td>Honda Amaze 1.2</td>\n",
       "      <td>2019</td>\n",
       "      <td>15,973 km</td>\n",
       "      <td>1st Owner</td>\n",
       "      <td>Petrol</td>\n",
       "      <td>MANUAL</td>\n",
       "      <td>₹ 5,72,399</td>\n",
       "      <td>Honda</td>\n",
       "    </tr>\n",
       "    <tr>\n",
       "      <th>4</th>\n",
       "      <td>Renault Kiger RXZ</td>\n",
       "      <td>2021</td>\n",
       "      <td>2,747 km</td>\n",
       "      <td>1st Owner</td>\n",
       "      <td>Petrol</td>\n",
       "      <td>NA</td>\n",
       "      <td>₹ 8,56,699</td>\n",
       "      <td>Renault</td>\n",
       "    </tr>\n",
       "  </tbody>\n",
       "</table>\n",
       "</div>"
      ],
      "text/plain": [
       "            car name  year of purches Kilometers_Driven      Owner Fuel_type  \\\n",
       "0    Mercedes Benz C             2014         36,806 km  1st Owner    Petrol   \n",
       "1     Maruti Wagon R             2009         57,473 km  1st Owner    Petrol   \n",
       "2     KIA SELTOS GTX             2020          7,568 km  1st Owner    Petrol   \n",
       "3    Honda Amaze 1.2             2019         15,973 km  1st Owner    Petrol   \n",
       "4  Renault Kiger RXZ             2021          2,747 km  1st Owner    Petrol   \n",
       "\n",
       "  Transmission        Price   company  \n",
       "0    AUTOMATIC  ₹ 21,33,299  Mercedes  \n",
       "1       MANUAL   ₹ 1,56,599    Maruti  \n",
       "2    AUTOMATIC  ₹ 17,41,799       KIA  \n",
       "3       MANUAL   ₹ 5,72,399     Honda  \n",
       "4           NA   ₹ 8,56,699   Renault  "
      ]
     },
     "execution_count": 138,
     "metadata": {},
     "output_type": "execute_result"
    }
   ],
   "source": [
    "data.head()"
   ]
  },
  {
   "cell_type": "code",
   "execution_count": 139,
   "id": "f0fd8f1e",
   "metadata": {},
   "outputs": [],
   "source": [
    "data=data[data['Kilometers_Driven']!=\"---\"]"
   ]
  },
  {
   "cell_type": "code",
   "execution_count": 140,
   "id": "d6d7bf36",
   "metadata": {},
   "outputs": [],
   "source": [
    "data['Kilometers_Driven']=data['Kilometers_Driven'].str.split(\" \").str.slice(0,1).str.join(\" \")"
   ]
  },
  {
   "cell_type": "code",
   "execution_count": 141,
   "id": "bf6228bd",
   "metadata": {},
   "outputs": [],
   "source": [
    "data['Kilometers_Driven']=data['Kilometers_Driven'].str.replace(\",\",\"\").astype(int)"
   ]
  },
  {
   "cell_type": "code",
   "execution_count": 142,
   "id": "b8a5b2fe",
   "metadata": {},
   "outputs": [],
   "source": [
    "data['Price']=data['Price'].str.split(\" \").str.slice(1).str.join(\"\").str.replace(\",\",\"\").astype(int)"
   ]
  },
  {
   "cell_type": "code",
   "execution_count": 143,
   "id": "cac75230",
   "metadata": {},
   "outputs": [],
   "source": [
    "data=data[data['Price']!=\"---\"]"
   ]
  },
  {
   "cell_type": "code",
   "execution_count": 144,
   "id": "d25f7923",
   "metadata": {},
   "outputs": [],
   "source": [
    "data=data[data['Transmission']!='NA']"
   ]
  },
  {
   "cell_type": "code",
   "execution_count": 145,
   "id": "06d28b30",
   "metadata": {},
   "outputs": [
    {
     "data": {
      "text/html": [
       "<div>\n",
       "<style scoped>\n",
       "    .dataframe tbody tr th:only-of-type {\n",
       "        vertical-align: middle;\n",
       "    }\n",
       "\n",
       "    .dataframe tbody tr th {\n",
       "        vertical-align: top;\n",
       "    }\n",
       "\n",
       "    .dataframe thead th {\n",
       "        text-align: right;\n",
       "    }\n",
       "</style>\n",
       "<table border=\"1\" class=\"dataframe\">\n",
       "  <thead>\n",
       "    <tr style=\"text-align: right;\">\n",
       "      <th></th>\n",
       "      <th>car name</th>\n",
       "      <th>year of purches</th>\n",
       "      <th>Kilometers_Driven</th>\n",
       "      <th>Owner</th>\n",
       "      <th>Fuel_type</th>\n",
       "      <th>Transmission</th>\n",
       "      <th>Price</th>\n",
       "      <th>company</th>\n",
       "    </tr>\n",
       "  </thead>\n",
       "  <tbody>\n",
       "    <tr>\n",
       "      <th>0</th>\n",
       "      <td>Mercedes Benz C</td>\n",
       "      <td>2014</td>\n",
       "      <td>36806</td>\n",
       "      <td>1st Owner</td>\n",
       "      <td>Petrol</td>\n",
       "      <td>AUTOMATIC</td>\n",
       "      <td>2133299</td>\n",
       "      <td>Mercedes</td>\n",
       "    </tr>\n",
       "    <tr>\n",
       "      <th>1</th>\n",
       "      <td>Maruti Wagon R</td>\n",
       "      <td>2009</td>\n",
       "      <td>57473</td>\n",
       "      <td>1st Owner</td>\n",
       "      <td>Petrol</td>\n",
       "      <td>MANUAL</td>\n",
       "      <td>156599</td>\n",
       "      <td>Maruti</td>\n",
       "    </tr>\n",
       "    <tr>\n",
       "      <th>2</th>\n",
       "      <td>KIA SELTOS GTX</td>\n",
       "      <td>2020</td>\n",
       "      <td>7568</td>\n",
       "      <td>1st Owner</td>\n",
       "      <td>Petrol</td>\n",
       "      <td>AUTOMATIC</td>\n",
       "      <td>1741799</td>\n",
       "      <td>KIA</td>\n",
       "    </tr>\n",
       "    <tr>\n",
       "      <th>3</th>\n",
       "      <td>Honda Amaze 1.2</td>\n",
       "      <td>2019</td>\n",
       "      <td>15973</td>\n",
       "      <td>1st Owner</td>\n",
       "      <td>Petrol</td>\n",
       "      <td>MANUAL</td>\n",
       "      <td>572399</td>\n",
       "      <td>Honda</td>\n",
       "    </tr>\n",
       "    <tr>\n",
       "      <th>5</th>\n",
       "      <td>Honda WR-V 1.2</td>\n",
       "      <td>2017</td>\n",
       "      <td>17117</td>\n",
       "      <td>1st Owner</td>\n",
       "      <td>Petrol</td>\n",
       "      <td>MANUAL</td>\n",
       "      <td>779899</td>\n",
       "      <td>Honda</td>\n",
       "    </tr>\n",
       "    <tr>\n",
       "      <th>...</th>\n",
       "      <td>...</td>\n",
       "      <td>...</td>\n",
       "      <td>...</td>\n",
       "      <td>...</td>\n",
       "      <td>...</td>\n",
       "      <td>...</td>\n",
       "      <td>...</td>\n",
       "      <td>...</td>\n",
       "    </tr>\n",
       "    <tr>\n",
       "      <th>5099</th>\n",
       "      <td>Hyundai Eon ERA</td>\n",
       "      <td>2014</td>\n",
       "      <td>78809</td>\n",
       "      <td>1st Owner</td>\n",
       "      <td>Petrol</td>\n",
       "      <td>MANUAL</td>\n",
       "      <td>227399</td>\n",
       "      <td>Hyundai</td>\n",
       "    </tr>\n",
       "    <tr>\n",
       "      <th>5100</th>\n",
       "      <td>Hyundai Eon ERA</td>\n",
       "      <td>2018</td>\n",
       "      <td>29491</td>\n",
       "      <td>2nd Owner</td>\n",
       "      <td>Petrol</td>\n",
       "      <td>MANUAL</td>\n",
       "      <td>290299</td>\n",
       "      <td>Hyundai</td>\n",
       "    </tr>\n",
       "    <tr>\n",
       "      <th>5101</th>\n",
       "      <td>Hyundai Eon MAGNA</td>\n",
       "      <td>2017</td>\n",
       "      <td>48085</td>\n",
       "      <td>1st Owner</td>\n",
       "      <td>Petrol</td>\n",
       "      <td>MANUAL</td>\n",
       "      <td>300699</td>\n",
       "      <td>Hyundai</td>\n",
       "    </tr>\n",
       "    <tr>\n",
       "      <th>5102</th>\n",
       "      <td>Hyundai Grand i10</td>\n",
       "      <td>2014</td>\n",
       "      <td>95913</td>\n",
       "      <td>3rd Owner</td>\n",
       "      <td>Petrol</td>\n",
       "      <td>AUTOMATIC</td>\n",
       "      <td>421499</td>\n",
       "      <td>Hyundai</td>\n",
       "    </tr>\n",
       "    <tr>\n",
       "      <th>5103</th>\n",
       "      <td>Maruti Eeco 5</td>\n",
       "      <td>2018</td>\n",
       "      <td>29596</td>\n",
       "      <td>2nd Owner</td>\n",
       "      <td>Petrol</td>\n",
       "      <td>MANUAL</td>\n",
       "      <td>423899</td>\n",
       "      <td>Maruti</td>\n",
       "    </tr>\n",
       "  </tbody>\n",
       "</table>\n",
       "<p>5017 rows × 8 columns</p>\n",
       "</div>"
      ],
      "text/plain": [
       "               car name  year of purches  Kilometers_Driven      Owner  \\\n",
       "0       Mercedes Benz C             2014              36806  1st Owner   \n",
       "1        Maruti Wagon R             2009              57473  1st Owner   \n",
       "2        KIA SELTOS GTX             2020               7568  1st Owner   \n",
       "3       Honda Amaze 1.2             2019              15973  1st Owner   \n",
       "5        Honda WR-V 1.2             2017              17117  1st Owner   \n",
       "...                 ...              ...                ...        ...   \n",
       "5099    Hyundai Eon ERA             2014              78809  1st Owner   \n",
       "5100    Hyundai Eon ERA             2018              29491  2nd Owner   \n",
       "5101  Hyundai Eon MAGNA             2017              48085  1st Owner   \n",
       "5102  Hyundai Grand i10             2014              95913  3rd Owner   \n",
       "5103      Maruti Eeco 5             2018              29596  2nd Owner   \n",
       "\n",
       "     Fuel_type Transmission    Price   company  \n",
       "0       Petrol    AUTOMATIC  2133299  Mercedes  \n",
       "1       Petrol       MANUAL   156599    Maruti  \n",
       "2       Petrol    AUTOMATIC  1741799       KIA  \n",
       "3       Petrol       MANUAL   572399     Honda  \n",
       "5       Petrol       MANUAL   779899     Honda  \n",
       "...        ...          ...      ...       ...  \n",
       "5099    Petrol       MANUAL   227399   Hyundai  \n",
       "5100    Petrol       MANUAL   290299   Hyundai  \n",
       "5101    Petrol       MANUAL   300699   Hyundai  \n",
       "5102    Petrol    AUTOMATIC   421499   Hyundai  \n",
       "5103    Petrol       MANUAL   423899    Maruti  \n",
       "\n",
       "[5017 rows x 8 columns]"
      ]
     },
     "execution_count": 145,
     "metadata": {},
     "output_type": "execute_result"
    }
   ],
   "source": [
    "data"
   ]
  },
  {
   "cell_type": "markdown",
   "id": "c9cc2a41",
   "metadata": {},
   "source": [
    "### Observation-2\n",
    "\n",
    "In order to scrape the data we got some garbage data as well like:\n",
    "\n",
    "* car name column had many unusefull information.\n",
    "* year of purches and Kilometers_Driven columns had present in the form fo object datatype.\n",
    "* In every row of price column and Kilometers_Driven column comma(,) was present.\n",
    "* we had some empty space in between the columns.\n",
    "* We seperate the car's company names and created one new column name called company.\n",
    "\n",
    "All the above garbage data we removed from the dataset with the help of pandas functions."
   ]
  },
  {
   "cell_type": "markdown",
   "id": "d913492d",
   "metadata": {},
   "source": [
    "# EDA\n",
    "###### Exploratory Data Analysis (EDA): \n",
    "    EDA process will give us the batter understanding towards the pattern of Dataset"
   ]
  },
  {
   "cell_type": "code",
   "execution_count": 146,
   "id": "38b7bfc7",
   "metadata": {},
   "outputs": [
    {
     "name": "stdout",
     "output_type": "stream",
     "text": [
      "Petrol          3535\n",
      "Diesel          1439\n",
      "Petrol + CNG      43\n",
      "Name: Fuel_type, dtype: int64\n",
      "/n\n"
     ]
    },
    {
     "data": {
      "image/png": "[encoded data removed]",
      "text/plain": [
       "<Figure size 576x432 with 1 Axes>"
      ]
     },
     "metadata": {
      "needs_background": "light"
     },
     "output_type": "display_data"
    }
   ],
   "source": [
    "print(data['Fuel_type'].value_counts())\n",
    "print(\"/n\")\n",
    "plt.figure(figsize=[8,6])\n",
    "sns.countplot(data['Fuel_type'],palette='rocket')\n",
    "plt.show()"
   ]
  },
  {
   "cell_type": "code",
   "execution_count": 147,
   "id": "1586a15d",
   "metadata": {},
   "outputs": [
    {
     "name": "stdout",
     "output_type": "stream",
     "text": [
      "1st Owner    3978\n",
      "2nd Owner     948\n",
      "3rd Owner      86\n",
      "4th Owner       5\n",
      "Name: Owner, dtype: int64\n",
      "/n\n"
     ]
    },
    {
     "data": {
      "image/png": "[encoded data removed]",
      "text/plain": [
       "<Figure size 576x432 with 1 Axes>"
      ]
     },
     "metadata": {
      "needs_background": "light"
     },
     "output_type": "display_data"
    }
   ],
   "source": [
    "print(data['Owner'].value_counts())\n",
    "print(\"/n\")\n",
    "plt.figure(figsize=[8,6])\n",
    "sns.countplot(data['Owner'],palette='tab20')\n",
    "plt.show()"
   ]
  },
  {
   "cell_type": "code",
   "execution_count": 148,
   "id": "8166da16",
   "metadata": {},
   "outputs": [
    {
     "name": "stdout",
     "output_type": "stream",
     "text": [
      "MANUAL       4268\n",
      "AUTOMATIC     749\n",
      "Name: Transmission, dtype: int64\n",
      "/n\n"
     ]
    },
    {
     "data": {
      "image/png": "[encoded data removed]",
      "text/plain": [
       "<Figure size 576x432 with 1 Axes>"
      ]
     },
     "metadata": {
      "needs_background": "light"
     },
     "output_type": "display_data"
    }
   ],
   "source": [
    "print(data['Transmission'].value_counts())\n",
    "print(\"/n\")\n",
    "plt.figure(figsize=[8,6])\n",
    "sns.countplot(data['Transmission'],palette='plasma')\n",
    "plt.show()"
   ]
  },
  {
   "cell_type": "code",
   "execution_count": 149,
   "id": "d1aa7697",
   "metadata": {},
   "outputs": [
    {
     "name": "stdout",
     "output_type": "stream",
     "text": [
      "2017    835\n",
      "2018    818\n",
      "2019    731\n",
      "2016    582\n",
      "2020    490\n",
      "2015    449\n",
      "2014    420\n",
      "2021    255\n",
      "2013    238\n",
      "2012     68\n",
      "2011     60\n",
      "2010     30\n",
      "2009     25\n",
      "2022     13\n",
      "2008      3\n",
      "Name: year of purches, dtype: int64\n",
      "/n\n"
     ]
    },
    {
     "data": {
      "image/png": "[encoded data removed]",
      "text/plain": [
       "<Figure size 576x720 with 1 Axes>"
      ]
     },
     "metadata": {
      "needs_background": "light"
     },
     "output_type": "display_data"
    }
   ],
   "source": [
    "print(data['year of purches'].value_counts())\n",
    "print(\"/n\")\n",
    "plt.figure(figsize=[8,10])\n",
    "sns.countplot(y=data['year of purches'],palette='Set2')\n",
    "plt.show()"
   ]
  },
  {
   "cell_type": "code",
   "execution_count": 150,
   "id": "db570f38",
   "metadata": {},
   "outputs": [
    {
     "data": {
      "text/plain": [
       "<AxesSubplot:xlabel='Fuel_type', ylabel='count'>"
      ]
     },
     "execution_count": 150,
     "metadata": {},
     "output_type": "execute_result"
    },
    {
     "data": {
      "image/png": "[encoded data removed]",
      "text/plain": [
       "<Figure size 720x432 with 1 Axes>"
      ]
     },
     "metadata": {
      "needs_background": "light"
     },
     "output_type": "display_data"
    }
   ],
   "source": [
    "plt.figure(figsize=[10,6])\n",
    "sns.countplot(data[\"Fuel_type\"], hue=data[\"Owner\"])"
   ]
  },
  {
   "cell_type": "code",
   "execution_count": 151,
   "id": "93f60a79",
   "metadata": {},
   "outputs": [
    {
     "data": {
      "text/plain": [
       "<AxesSubplot:xlabel='Fuel_type', ylabel='count'>"
      ]
     },
     "execution_count": 151,
     "metadata": {},
     "output_type": "execute_result"
    },
    {
     "data": {
      "image/png": "[encoded data removed]",
      "text/plain": [
       "<Figure size 720x432 with 1 Axes>"
      ]
     },
     "metadata": {
      "needs_background": "light"
     },
     "output_type": "display_data"
    }
   ],
   "source": [
    "plt.figure(figsize=[10,6])\n",
    "sns.countplot(data[\"Fuel_type\"], hue=data[\"year of purches\"])"
   ]
  },
  {
   "cell_type": "code",
   "execution_count": 152,
   "id": "4ba817c3",
   "metadata": {},
   "outputs": [
    {
     "data": {
      "text/plain": [
       "<AxesSubplot:xlabel='Fuel_type', ylabel='count'>"
      ]
     },
     "execution_count": 152,
     "metadata": {},
     "output_type": "execute_result"
    },
    {
     "data": {
      "image/png": "[encoded data removed]",
      "text/plain": [
       "<Figure size 720x432 with 1 Axes>"
      ]
     },
     "metadata": {
      "needs_background": "light"
     },
     "output_type": "display_data"
    }
   ],
   "source": [
    "plt.figure(figsize=[10,6])\n",
    "sns.countplot(data[\"Fuel_type\"], hue=data[\"Transmission\"])"
   ]
  },
  {
   "cell_type": "markdown",
   "id": "0ebe86dd",
   "metadata": {},
   "source": [
    "### Observation-3\n",
    "\n",
    "From the above graphs we can conclude that:\n",
    "\n",
    "* In our collected dataset, The number of petrol cars are higher(3535), Diesel cars are also being used in a good amount of number(1439), CNG based cars are fewer in number(43).\n",
    "\n",
    "\n",
    "* Most of the used cars are being sold by the 1st owner, So the chances of price will be increased. Less cars are avilable in the section of 2nd owner and 3rd owner.The count of 4th owner cars are negligible.\n",
    "\n",
    "\n",
    "* When we see the used car's tranmission, The number of automatic transmission cars is very high and automatic transmission cars  are less.\n",
    "\n",
    "\n",
    "* It is important to know the year of purches, when you go for buying a used car, here we can see that most of the cars are purchesed in the 2013 to 2017.Some cars are avilable in our dataset which had been bought in 2008 to 2012.\n"
   ]
  },
  {
   "cell_type": "markdown",
   "id": "48c2d0cd",
   "metadata": {},
   "source": [
    "### Checking Outliers"
   ]
  },
  {
   "cell_type": "code",
   "execution_count": 153,
   "id": "4910e711",
   "metadata": {},
   "outputs": [
    {
     "data": {
      "text/html": [
       "<div>\n",
       "<style scoped>\n",
       "    .dataframe tbody tr th:only-of-type {\n",
       "        vertical-align: middle;\n",
       "    }\n",
       "\n",
       "    .dataframe tbody tr th {\n",
       "        vertical-align: top;\n",
       "    }\n",
       "\n",
       "    .dataframe thead th {\n",
       "        text-align: right;\n",
       "    }\n",
       "</style>\n",
       "<table border=\"1\" class=\"dataframe\">\n",
       "  <thead>\n",
       "    <tr style=\"text-align: right;\">\n",
       "      <th></th>\n",
       "      <th>year of purches</th>\n",
       "      <th>Kilometers_Driven</th>\n",
       "      <th>Price</th>\n",
       "    </tr>\n",
       "  </thead>\n",
       "  <tbody>\n",
       "    <tr>\n",
       "      <th>count</th>\n",
       "      <td>5017.000000</td>\n",
       "      <td>5017.000000</td>\n",
       "      <td>5.017000e+03</td>\n",
       "    </tr>\n",
       "    <tr>\n",
       "      <th>mean</th>\n",
       "      <td>2017.001196</td>\n",
       "      <td>44586.900339</td>\n",
       "      <td>6.459337e+05</td>\n",
       "    </tr>\n",
       "    <tr>\n",
       "      <th>std</th>\n",
       "      <td>2.433157</td>\n",
       "      <td>31501.419306</td>\n",
       "      <td>3.455050e+05</td>\n",
       "    </tr>\n",
       "    <tr>\n",
       "      <th>min</th>\n",
       "      <td>2008.000000</td>\n",
       "      <td>1.000000</td>\n",
       "      <td>1.465990e+05</td>\n",
       "    </tr>\n",
       "    <tr>\n",
       "      <th>25%</th>\n",
       "      <td>2015.000000</td>\n",
       "      <td>21907.000000</td>\n",
       "      <td>4.197990e+05</td>\n",
       "    </tr>\n",
       "    <tr>\n",
       "      <th>50%</th>\n",
       "      <td>2017.000000</td>\n",
       "      <td>39364.000000</td>\n",
       "      <td>5.480990e+05</td>\n",
       "    </tr>\n",
       "    <tr>\n",
       "      <th>75%</th>\n",
       "      <td>2019.000000</td>\n",
       "      <td>61862.000000</td>\n",
       "      <td>7.536990e+05</td>\n",
       "    </tr>\n",
       "    <tr>\n",
       "      <th>max</th>\n",
       "      <td>2022.000000</td>\n",
       "      <td>400055.000000</td>\n",
       "      <td>3.287199e+06</td>\n",
       "    </tr>\n",
       "  </tbody>\n",
       "</table>\n",
       "</div>"
      ],
      "text/plain": [
       "       year of purches  Kilometers_Driven         Price\n",
       "count      5017.000000        5017.000000  5.017000e+03\n",
       "mean       2017.001196       44586.900339  6.459337e+05\n",
       "std           2.433157       31501.419306  3.455050e+05\n",
       "min        2008.000000           1.000000  1.465990e+05\n",
       "25%        2015.000000       21907.000000  4.197990e+05\n",
       "50%        2017.000000       39364.000000  5.480990e+05\n",
       "75%        2019.000000       61862.000000  7.536990e+05\n",
       "max        2022.000000      400055.000000  3.287199e+06"
      ]
     },
     "execution_count": 153,
     "metadata": {},
     "output_type": "execute_result"
    }
   ],
   "source": [
    "data.describe()"
   ]
  },
  {
   "cell_type": "code",
   "execution_count": 154,
   "id": "f86d0e43",
   "metadata": {},
   "outputs": [
    {
     "data": {
      "text/plain": [
       "year of purches         AxesSubplot(0.125,0.657941;0.227941x0.222059)\n",
       "Kilometers_Driven    AxesSubplot(0.398529,0.657941;0.227941x0.222059)\n",
       "Price                AxesSubplot(0.672059,0.657941;0.227941x0.222059)\n",
       "dtype: object"
      ]
     },
     "execution_count": 154,
     "metadata": {},
     "output_type": "execute_result"
    },
    {
     "data": {
      "image/png": "[encoded data removed]",
      "text/plain": [
       "<Figure size 1296x720 with 9 Axes>"
      ]
     },
     "metadata": {
      "needs_background": "light"
     },
     "output_type": "display_data"
    }
   ],
   "source": [
    "data.plot(kind='box',subplots=True,figsize=[18,10],layout=(3,3))"
   ]
  },
  {
   "cell_type": "code",
   "execution_count": 155,
   "id": "aaf9d01f",
   "metadata": {},
   "outputs": [],
   "source": [
    "from scipy.stats import skew"
   ]
  },
  {
   "cell_type": "code",
   "execution_count": 156,
   "id": "f81a81c7",
   "metadata": {},
   "outputs": [
    {
     "data": {
      "text/plain": [
       "year of purches     -0.550334\n",
       "Kilometers_Driven    2.214225\n",
       "Price                1.813675\n",
       "dtype: float64"
      ]
     },
     "execution_count": 156,
     "metadata": {},
     "output_type": "execute_result"
    }
   ],
   "source": [
    "data.skew()"
   ]
  },
  {
   "cell_type": "code",
   "execution_count": 157,
   "id": "ec8f0484",
   "metadata": {},
   "outputs": [],
   "source": [
    "ske=['year of purches','Kilometers_Driven','Price']"
   ]
  },
  {
   "cell_type": "code",
   "execution_count": 158,
   "id": "6975547b",
   "metadata": {},
   "outputs": [
    {
     "name": "stdout",
     "output_type": "stream",
     "text": [
      "year of purches\n",
      "-0.550169478815106\n"
     ]
    },
    {
     "data": {
      "image/png": "[encoded data removed]",
      "text/plain": [
       "<Figure size 648x504 with 1 Axes>"
      ]
     },
     "metadata": {
      "needs_background": "light"
     },
     "output_type": "display_data"
    },
    {
     "name": "stdout",
     "output_type": "stream",
     "text": [
      "Kilometers_Driven\n",
      "2.2135633317839476\n"
     ]
    },
    {
     "data": {
      "image/png": "[encoded data removed]",
      "text/plain": [
       "<Figure size 648x504 with 1 Axes>"
      ]
     },
     "metadata": {
      "needs_background": "light"
     },
     "output_type": "display_data"
    },
    {
     "name": "stdout",
     "output_type": "stream",
     "text": [
      "Price\n",
      "1.813132923957288\n"
     ]
    },
    {
     "data": {
      "image/png": "[encoded data removed]",
      "text/plain": [
       "<Figure size 648x504 with 1 Axes>"
      ]
     },
     "metadata": {
      "needs_background": "light"
     },
     "output_type": "display_data"
    }
   ],
   "source": [
    "for i in ske:\n",
    "    print(i)\n",
    "    print(skew(data[i]))\n",
    "    \n",
    "    plt.figure(figsize=[9,7])\n",
    "    sns.distplot(data[i])\n",
    "    plt.show()"
   ]
  },
  {
   "cell_type": "markdown",
   "id": "b7023b39",
   "metadata": {},
   "source": [
    "### Observation-4\n",
    "\n",
    "* In our dataset only 3 columns are showing some outliers that is price, year of purches and kilometers driven. Because the mean is 44586 and standard daviation is 31501 and maximum max values is 400055 which is very higher and reason of outliers.\n",
    "\n",
    "* High Skewness is present in the kilometers driven column(2.21), shown that data data are not equally distributed."
   ]
  },
  {
   "cell_type": "markdown",
   "id": "07d128b6",
   "metadata": {},
   "source": [
    "### Checking Relations"
   ]
  },
  {
   "cell_type": "code",
   "execution_count": 159,
   "id": "60072692",
   "metadata": {},
   "outputs": [
    {
     "data": {
      "image/png": "[encoded data removed]",
      "text/plain": [
       "<Figure size 936x504 with 1 Axes>"
      ]
     },
     "metadata": {
      "needs_background": "light"
     },
     "output_type": "display_data"
    }
   ],
   "source": [
    "plt.figure(figsize=[13,7])\n",
    "sns.scatterplot(data=data,y='Price',x='year of purches',color='r')\n",
    "plt.show()"
   ]
  },
  {
   "cell_type": "code",
   "execution_count": 160,
   "id": "1621667e",
   "metadata": {},
   "outputs": [
    {
     "data": {
      "image/png": "[encoded data removed]",
      "text/plain": [
       "<Figure size 936x504 with 1 Axes>"
      ]
     },
     "metadata": {
      "needs_background": "light"
     },
     "output_type": "display_data"
    }
   ],
   "source": [
    "plt.figure(figsize=[13,7])\n",
    "sns.scatterplot(data=data,y='Price',x='Transmission',color='purple')\n",
    "plt.show()"
   ]
  },
  {
   "cell_type": "code",
   "execution_count": 161,
   "id": "c647608f",
   "metadata": {},
   "outputs": [
    {
     "data": {
      "image/png": "[encoded data removed]",
      "text/plain": [
       "<Figure size 936x504 with 1 Axes>"
      ]
     },
     "metadata": {
      "needs_background": "light"
     },
     "output_type": "display_data"
    }
   ],
   "source": [
    "plt.figure(figsize=[13,7])\n",
    "sns.scatterplot(data=data,y='Price',x='Owner',color='g')\n",
    "plt.show()"
   ]
  },
  {
   "cell_type": "code",
   "execution_count": 162,
   "id": "0c03b24f",
   "metadata": {},
   "outputs": [
    {
     "data": {
      "image/png": "[encoded data removed]",
      "text/plain": [
       "<Figure size 936x504 with 1 Axes>"
      ]
     },
     "metadata": {
      "needs_background": "light"
     },
     "output_type": "display_data"
    }
   ],
   "source": [
    "plt.figure(figsize=[13,7])\n",
    "sns.scatterplot(data=data,y='Price',x='Fuel_type',color='b')\n",
    "plt.show()"
   ]
  },
  {
   "cell_type": "code",
   "execution_count": 163,
   "id": "75ea3ab2",
   "metadata": {},
   "outputs": [
    {
     "data": {
      "image/png": "[encoded data removed]",
      "text/plain": [
       "<Figure size 936x504 with 1 Axes>"
      ]
     },
     "metadata": {
      "needs_background": "light"
     },
     "output_type": "display_data"
    }
   ],
   "source": [
    "plt.figure(figsize=[13,7])\n",
    "sns.scatterplot(data=data,x='year of purches',y='Owner',color='r')\n",
    "plt.show()"
   ]
  },
  {
   "cell_type": "markdown",
   "id": "a6197e97",
   "metadata": {},
   "source": [
    "### Encoding the data"
   ]
  },
  {
   "cell_type": "code",
   "execution_count": 164,
   "id": "94caf75f",
   "metadata": {},
   "outputs": [],
   "source": [
    "from sklearn.preprocessing import LabelEncoder"
   ]
  },
  {
   "cell_type": "code",
   "execution_count": 165,
   "id": "c3c549bc",
   "metadata": {},
   "outputs": [],
   "source": [
    "le=LabelEncoder()"
   ]
  },
  {
   "cell_type": "code",
   "execution_count": 166,
   "id": "9c5168b2",
   "metadata": {},
   "outputs": [],
   "source": [
    "enc=['car name','Owner','Fuel_type','Transmission','company']"
   ]
  },
  {
   "cell_type": "code",
   "execution_count": 167,
   "id": "a3eb95cd",
   "metadata": {},
   "outputs": [],
   "source": [
    "for i in enc:\n",
    "    data[i]=le.fit_transform(data[i])"
   ]
  },
  {
   "cell_type": "code",
   "execution_count": 168,
   "id": "4c7a1356",
   "metadata": {},
   "outputs": [
    {
     "data": {
      "text/html": [
       "<div>\n",
       "<style scoped>\n",
       "    .dataframe tbody tr th:only-of-type {\n",
       "        vertical-align: middle;\n",
       "    }\n",
       "\n",
       "    .dataframe tbody tr th {\n",
       "        vertical-align: top;\n",
       "    }\n",
       "\n",
       "    .dataframe thead th {\n",
       "        text-align: right;\n",
       "    }\n",
       "</style>\n",
       "<table border=\"1\" class=\"dataframe\">\n",
       "  <thead>\n",
       "    <tr style=\"text-align: right;\">\n",
       "      <th></th>\n",
       "      <th>car name</th>\n",
       "      <th>year of purches</th>\n",
       "      <th>Kilometers_Driven</th>\n",
       "      <th>Owner</th>\n",
       "      <th>Fuel_type</th>\n",
       "      <th>Transmission</th>\n",
       "      <th>Price</th>\n",
       "      <th>company</th>\n",
       "    </tr>\n",
       "  </thead>\n",
       "  <tbody>\n",
       "    <tr>\n",
       "      <th>0</th>\n",
       "      <td>198</td>\n",
       "      <td>2014</td>\n",
       "      <td>36806</td>\n",
       "      <td>0</td>\n",
       "      <td>1</td>\n",
       "      <td>0</td>\n",
       "      <td>2133299</td>\n",
       "      <td>12</td>\n",
       "    </tr>\n",
       "    <tr>\n",
       "      <th>1</th>\n",
       "      <td>193</td>\n",
       "      <td>2009</td>\n",
       "      <td>57473</td>\n",
       "      <td>0</td>\n",
       "      <td>1</td>\n",
       "      <td>1</td>\n",
       "      <td>156599</td>\n",
       "      <td>11</td>\n",
       "    </tr>\n",
       "    <tr>\n",
       "      <th>2</th>\n",
       "      <td>104</td>\n",
       "      <td>2020</td>\n",
       "      <td>7568</td>\n",
       "      <td>0</td>\n",
       "      <td>1</td>\n",
       "      <td>0</td>\n",
       "      <td>1741799</td>\n",
       "      <td>8</td>\n",
       "    </tr>\n",
       "    <tr>\n",
       "      <th>3</th>\n",
       "      <td>31</td>\n",
       "      <td>2019</td>\n",
       "      <td>15973</td>\n",
       "      <td>0</td>\n",
       "      <td>1</td>\n",
       "      <td>1</td>\n",
       "      <td>572399</td>\n",
       "      <td>4</td>\n",
       "    </tr>\n",
       "    <tr>\n",
       "      <th>5</th>\n",
       "      <td>49</td>\n",
       "      <td>2017</td>\n",
       "      <td>17117</td>\n",
       "      <td>0</td>\n",
       "      <td>1</td>\n",
       "      <td>1</td>\n",
       "      <td>779899</td>\n",
       "      <td>4</td>\n",
       "    </tr>\n",
       "  </tbody>\n",
       "</table>\n",
       "</div>"
      ],
      "text/plain": [
       "   car name  year of purches  Kilometers_Driven  Owner  Fuel_type  \\\n",
       "0       198             2014              36806      0          1   \n",
       "1       193             2009              57473      0          1   \n",
       "2       104             2020               7568      0          1   \n",
       "3        31             2019              15973      0          1   \n",
       "5        49             2017              17117      0          1   \n",
       "\n",
       "   Transmission    Price  company  \n",
       "0             0  2133299       12  \n",
       "1             1   156599       11  \n",
       "2             0  1741799        8  \n",
       "3             1   572399        4  \n",
       "5             1   779899        4  "
      ]
     },
     "execution_count": 168,
     "metadata": {},
     "output_type": "execute_result"
    }
   ],
   "source": [
    "data.head()"
   ]
  },
  {
   "cell_type": "markdown",
   "id": "99c4ec31",
   "metadata": {},
   "source": [
    "### Checking Correlation"
   ]
  },
  {
   "cell_type": "code",
   "execution_count": 169,
   "id": "c2cb6837",
   "metadata": {},
   "outputs": [
    {
     "data": {
      "text/plain": [
       "car name            -0.112760\n",
       "year of purches      0.357737\n",
       "Kilometers_Driven   -0.099637\n",
       "Owner               -0.066603\n",
       "Fuel_type           -0.269089\n",
       "Transmission        -0.447382\n",
       "Price                1.000000\n",
       "company             -0.110577\n",
       "Name: Price, dtype: float64"
      ]
     },
     "execution_count": 169,
     "metadata": {},
     "output_type": "execute_result"
    }
   ],
   "source": [
    "data.corr()['Price']"
   ]
  },
  {
   "cell_type": "code",
   "execution_count": 170,
   "id": "131a2813",
   "metadata": {},
   "outputs": [
    {
     "data": {
      "image/png": "[encoded data removed]",
      "text/plain": [
       "<Figure size 1080x576 with 2 Axes>"
      ]
     },
     "metadata": {
      "needs_background": "light"
     },
     "output_type": "display_data"
    }
   ],
   "source": [
    "plt.figure(figsize=[15,8])\n",
    "sns.heatmap(data.corr(),annot=True,cmap='Blues')\n",
    "plt.show()"
   ]
  },
  {
   "cell_type": "code",
   "execution_count": 171,
   "id": "a58932ea",
   "metadata": {},
   "outputs": [
    {
     "data": {
      "image/png": "[encoded data removed]",
      "text/plain": [
       "<Figure size 1080x504 with 1 Axes>"
      ]
     },
     "metadata": {
      "needs_background": "light"
     },
     "output_type": "display_data"
    }
   ],
   "source": [
    "plt.figure(figsize=[15,7])\n",
    "data.corr()['Price'].sort_values().drop(['Price']).plot(kind='bar',color='r')\n",
    "plt.show()"
   ]
  },
  {
   "cell_type": "markdown",
   "id": "d28562c4",
   "metadata": {},
   "source": [
    "### Observation-5\n",
    "\n",
    "Above results shows that:\n",
    "\n",
    "* year of purches column making positive correlation with the target column.\n",
    "\n",
    "* transmission, fule_type, car name, company, owner and kilometers driven column are making negative correlation with the target column.\n",
    "\n",
    "* car name and company columns making a strong correlation with each other, means one will increase another will also increase.\n",
    "\n",
    "* Those car prices are high which have been purchesed from the year 2014 to 2021.\n",
    "\n",
    "* The prices are high when someone is going to buy automatic transmission car.\n",
    "\n",
    "* The car prices are high when the car owner stats is 1st owner and 2nd owner as compare to others.\n"
   ]
  },
  {
   "cell_type": "markdown",
   "id": "37a391e7",
   "metadata": {},
   "source": [
    "## Data preprocessing"
   ]
  },
  {
   "cell_type": "code",
   "execution_count": 172,
   "id": "8163089b",
   "metadata": {},
   "outputs": [],
   "source": [
    "y=data['Price']"
   ]
  },
  {
   "cell_type": "code",
   "execution_count": 173,
   "id": "252a2efe",
   "metadata": {},
   "outputs": [],
   "source": [
    "data.drop(['Price'],axis=1,inplace=True)"
   ]
  },
  {
   "cell_type": "code",
   "execution_count": 174,
   "id": "fd48e6a3",
   "metadata": {},
   "outputs": [],
   "source": [
    "x=data"
   ]
  },
  {
   "cell_type": "code",
   "execution_count": 175,
   "id": "08f531b9",
   "metadata": {},
   "outputs": [
    {
     "data": {
      "text/plain": [
       "(5017, 7)"
      ]
     },
     "execution_count": 175,
     "metadata": {},
     "output_type": "execute_result"
    }
   ],
   "source": [
    "x.shape"
   ]
  },
  {
   "cell_type": "code",
   "execution_count": 176,
   "id": "1bb8b3a8",
   "metadata": {},
   "outputs": [
    {
     "data": {
      "text/plain": [
       "(5017,)"
      ]
     },
     "execution_count": 176,
     "metadata": {},
     "output_type": "execute_result"
    }
   ],
   "source": [
    "y.shape"
   ]
  },
  {
   "cell_type": "markdown",
   "id": "84051751",
   "metadata": {},
   "source": [
    "### Removing Outliers"
   ]
  },
  {
   "cell_type": "code",
   "execution_count": 177,
   "id": "8e925c28",
   "metadata": {},
   "outputs": [],
   "source": [
    "ske=['year of purches','Kilometers_Driven']"
   ]
  },
  {
   "cell_type": "code",
   "execution_count": 178,
   "id": "6793c344",
   "metadata": {},
   "outputs": [],
   "source": [
    "from scipy.stats import zscore"
   ]
  },
  {
   "cell_type": "code",
   "execution_count": 179,
   "id": "6052f52c",
   "metadata": {},
   "outputs": [],
   "source": [
    "z=np.abs(zscore(x[ske]))"
   ]
  },
  {
   "cell_type": "code",
   "execution_count": 180,
   "id": "1babb42c",
   "metadata": {},
   "outputs": [
    {
     "data": {
      "text/plain": [
       "(5017, 2)"
      ]
     },
     "execution_count": 180,
     "metadata": {},
     "output_type": "execute_result"
    }
   ],
   "source": [
    "z.shape"
   ]
  },
  {
   "cell_type": "code",
   "execution_count": 181,
   "id": "880610d4",
   "metadata": {},
   "outputs": [
    {
     "name": "stdout",
     "output_type": "stream",
     "text": [
      "(array([   1,    5,    8,   58,  212,  237,  239,  291,  328,  405,  486,\n",
      "        534,  605,  633,  828,  960, 1058, 1172, 1177, 1181, 1185, 1192,\n",
      "       1298, 1310, 1435, 1597, 1613, 1767, 1972, 1974, 2053, 2057, 2269,\n",
      "       2472, 2517, 2540, 2555, 2564, 2722, 2847, 2924, 2929, 2930, 3005,\n",
      "       3075, 3117, 3152, 3174, 3183, 3241, 3384, 3443, 3488, 3531, 3562,\n",
      "       3567, 3568, 3643, 3746, 3833, 3838, 3861, 3879, 3939, 4027, 4087,\n",
      "       4131, 4169, 4175, 4217, 4223, 4231, 4240, 4302, 4313, 4372, 4395,\n",
      "       4480, 4528, 4538, 4546, 4605, 4732, 4777, 4800, 4815, 4824, 4982],\n",
      "      dtype=int64), array([0, 0, 0, 1, 1, 1, 1, 0, 1, 1, 1, 0, 1, 0, 1, 1, 1, 1, 1, 1, 1, 1,\n",
      "       1, 1, 1, 1, 1, 1, 0, 0, 1, 1, 1, 1, 0, 0, 0, 0, 1, 1, 0, 0, 0, 1,\n",
      "       1, 1, 1, 0, 1, 1, 1, 0, 1, 0, 0, 0, 0, 1, 1, 1, 1, 1, 0, 1, 1, 0,\n",
      "       1, 0, 1, 1, 1, 1, 1, 1, 1, 1, 1, 1, 1, 1, 1, 1, 1, 0, 0, 0, 0, 1],\n",
      "      dtype=int64))\n"
     ]
    }
   ],
   "source": [
    "threshold=3\n",
    "print(np.where(z>3))"
   ]
  },
  {
   "cell_type": "code",
   "execution_count": 182,
   "id": "7ecf2232",
   "metadata": {},
   "outputs": [],
   "source": [
    "x=x[(z<3).all(axis=1)]"
   ]
  },
  {
   "cell_type": "code",
   "execution_count": 183,
   "id": "91098078",
   "metadata": {},
   "outputs": [],
   "source": [
    "y=y[(z<3).all(axis=1)]"
   ]
  },
  {
   "cell_type": "code",
   "execution_count": 184,
   "id": "4dfcd72d",
   "metadata": {},
   "outputs": [
    {
     "data": {
      "text/plain": [
       "(4929, 7)"
      ]
     },
     "execution_count": 184,
     "metadata": {},
     "output_type": "execute_result"
    }
   ],
   "source": [
    "x.shape"
   ]
  },
  {
   "cell_type": "code",
   "execution_count": 185,
   "id": "340f5d02",
   "metadata": {},
   "outputs": [
    {
     "data": {
      "text/plain": [
       "(4929,)"
      ]
     },
     "execution_count": 185,
     "metadata": {},
     "output_type": "execute_result"
    }
   ],
   "source": [
    "y.shape"
   ]
  },
  {
   "cell_type": "code",
   "execution_count": 186,
   "id": "b9433a77",
   "metadata": {},
   "outputs": [],
   "source": [
    "data_loss=((5017-4929)/5017)*100"
   ]
  },
  {
   "cell_type": "code",
   "execution_count": 187,
   "id": "af202fdf",
   "metadata": {},
   "outputs": [
    {
     "name": "stdout",
     "output_type": "stream",
     "text": [
      "data loss is 1.754036276659358\n"
     ]
    }
   ],
   "source": [
    "print(\"data loss is\",data_loss)"
   ]
  },
  {
   "cell_type": "markdown",
   "id": "435e83f2",
   "metadata": {},
   "source": [
    "### Skewness removing"
   ]
  },
  {
   "cell_type": "code",
   "execution_count": 188,
   "id": "15b10a22",
   "metadata": {},
   "outputs": [],
   "source": [
    "col=x.columns"
   ]
  },
  {
   "cell_type": "code",
   "execution_count": 189,
   "id": "d0fc10f6",
   "metadata": {},
   "outputs": [],
   "source": [
    "x['Kilometers_Driven']=np.sqrt(x['Kilometers_Driven'])"
   ]
  },
  {
   "cell_type": "code",
   "execution_count": 190,
   "id": "841a084e",
   "metadata": {},
   "outputs": [],
   "source": [
    "x['year of purches']=np.sqrt(x['year of purches'])"
   ]
  },
  {
   "cell_type": "code",
   "execution_count": 191,
   "id": "a3eaf56d",
   "metadata": {},
   "outputs": [
    {
     "data": {
      "text/plain": [
       "<AxesSubplot:xlabel='year of purches', ylabel='Density'>"
      ]
     },
     "execution_count": 191,
     "metadata": {},
     "output_type": "execute_result"
    },
    {
     "data": {
      "image/png": "[encoded data removed]",
      "text/plain": [
       "<Figure size 432x288 with 1 Axes>"
      ]
     },
     "metadata": {
      "needs_background": "light"
     },
     "output_type": "display_data"
    }
   ],
   "source": [
    "sns.distplot(x['year of purches'])"
   ]
  },
  {
   "cell_type": "code",
   "execution_count": 193,
   "id": "9d786931",
   "metadata": {},
   "outputs": [
    {
     "data": {
      "text/html": [
       "<div>\n",
       "<style scoped>\n",
       "    .dataframe tbody tr th:only-of-type {\n",
       "        vertical-align: middle;\n",
       "    }\n",
       "\n",
       "    .dataframe tbody tr th {\n",
       "        vertical-align: top;\n",
       "    }\n",
       "\n",
       "    .dataframe thead th {\n",
       "        text-align: right;\n",
       "    }\n",
       "</style>\n",
       "<table border=\"1\" class=\"dataframe\">\n",
       "  <thead>\n",
       "    <tr style=\"text-align: right;\">\n",
       "      <th></th>\n",
       "      <th>car name</th>\n",
       "      <th>year of purches</th>\n",
       "      <th>Kilometers_Driven</th>\n",
       "      <th>Owner</th>\n",
       "      <th>Fuel_type</th>\n",
       "      <th>Transmission</th>\n",
       "      <th>company</th>\n",
       "    </tr>\n",
       "  </thead>\n",
       "  <tbody>\n",
       "    <tr>\n",
       "      <th>0</th>\n",
       "      <td>198</td>\n",
       "      <td>44.877611</td>\n",
       "      <td>191.848899</td>\n",
       "      <td>0</td>\n",
       "      <td>1</td>\n",
       "      <td>0</td>\n",
       "      <td>12</td>\n",
       "    </tr>\n",
       "    <tr>\n",
       "      <th>2</th>\n",
       "      <td>104</td>\n",
       "      <td>44.944410</td>\n",
       "      <td>86.994253</td>\n",
       "      <td>0</td>\n",
       "      <td>1</td>\n",
       "      <td>0</td>\n",
       "      <td>8</td>\n",
       "    </tr>\n",
       "    <tr>\n",
       "      <th>3</th>\n",
       "      <td>31</td>\n",
       "      <td>44.933284</td>\n",
       "      <td>126.384334</td>\n",
       "      <td>0</td>\n",
       "      <td>1</td>\n",
       "      <td>1</td>\n",
       "      <td>4</td>\n",
       "    </tr>\n",
       "    <tr>\n",
       "      <th>5</th>\n",
       "      <td>49</td>\n",
       "      <td>44.911023</td>\n",
       "      <td>130.831953</td>\n",
       "      <td>0</td>\n",
       "      <td>1</td>\n",
       "      <td>1</td>\n",
       "      <td>4</td>\n",
       "    </tr>\n",
       "    <tr>\n",
       "      <th>7</th>\n",
       "      <td>97</td>\n",
       "      <td>44.866469</td>\n",
       "      <td>168.193341</td>\n",
       "      <td>1</td>\n",
       "      <td>0</td>\n",
       "      <td>0</td>\n",
       "      <td>6</td>\n",
       "    </tr>\n",
       "  </tbody>\n",
       "</table>\n",
       "</div>"
      ],
      "text/plain": [
       "   car name  year of purches  Kilometers_Driven  Owner  Fuel_type  \\\n",
       "0       198        44.877611         191.848899      0          1   \n",
       "2       104        44.944410          86.994253      0          1   \n",
       "3        31        44.933284         126.384334      0          1   \n",
       "5        49        44.911023         130.831953      0          1   \n",
       "7        97        44.866469         168.193341      1          0   \n",
       "\n",
       "   Transmission  company  \n",
       "0             0       12  \n",
       "2             0        8  \n",
       "3             1        4  \n",
       "5             1        4  \n",
       "7             0        6  "
      ]
     },
     "execution_count": 193,
     "metadata": {},
     "output_type": "execute_result"
    }
   ],
   "source": [
    "x.head()"
   ]
  },
  {
   "cell_type": "markdown",
   "id": "5cac89c9",
   "metadata": {},
   "source": [
    "### Scaling tha data"
   ]
  },
  {
   "cell_type": "code",
   "execution_count": 194,
   "id": "77ae3d2a",
   "metadata": {},
   "outputs": [],
   "source": [
    "from sklearn.preprocessing import StandardScaler"
   ]
  },
  {
   "cell_type": "code",
   "execution_count": 195,
   "id": "7373e56f",
   "metadata": {},
   "outputs": [],
   "source": [
    "st=StandardScaler()"
   ]
  },
  {
   "cell_type": "code",
   "execution_count": 196,
   "id": "2ca00af9",
   "metadata": {},
   "outputs": [],
   "source": [
    "x=st.fit_transform(x)"
   ]
  },
  {
   "cell_type": "code",
   "execution_count": 197,
   "id": "956d1b78",
   "metadata": {},
   "outputs": [],
   "source": [
    "x=pd.DataFrame(x,columns=col)"
   ]
  },
  {
   "cell_type": "code",
   "execution_count": 198,
   "id": "eba85ac0",
   "metadata": {},
   "outputs": [
    {
     "data": {
      "text/html": [
       "<div>\n",
       "<style scoped>\n",
       "    .dataframe tbody tr th:only-of-type {\n",
       "        vertical-align: middle;\n",
       "    }\n",
       "\n",
       "    .dataframe tbody tr th {\n",
       "        vertical-align: top;\n",
       "    }\n",
       "\n",
       "    .dataframe thead th {\n",
       "        text-align: right;\n",
       "    }\n",
       "</style>\n",
       "<table border=\"1\" class=\"dataframe\">\n",
       "  <thead>\n",
       "    <tr style=\"text-align: right;\">\n",
       "      <th></th>\n",
       "      <th>car name</th>\n",
       "      <th>year of purches</th>\n",
       "      <th>Kilometers_Driven</th>\n",
       "      <th>Owner</th>\n",
       "      <th>Fuel_type</th>\n",
       "      <th>Transmission</th>\n",
       "      <th>company</th>\n",
       "    </tr>\n",
       "  </thead>\n",
       "  <tbody>\n",
       "    <tr>\n",
       "      <th>0</th>\n",
       "      <td>0.985187</td>\n",
       "      <td>-1.307065</td>\n",
       "      <td>-0.058532</td>\n",
       "      <td>-0.488409</td>\n",
       "      <td>0.586076</td>\n",
       "      <td>-2.375470</td>\n",
       "      <td>0.782612</td>\n",
       "    </tr>\n",
       "    <tr>\n",
       "      <th>1</th>\n",
       "      <td>-0.365786</td>\n",
       "      <td>1.240880</td>\n",
       "      <td>-1.620250</td>\n",
       "      <td>-0.488409</td>\n",
       "      <td>0.586076</td>\n",
       "      <td>-2.375470</td>\n",
       "      <td>-0.222402</td>\n",
       "    </tr>\n",
       "    <tr>\n",
       "      <th>2</th>\n",
       "      <td>-1.414947</td>\n",
       "      <td>0.816485</td>\n",
       "      <td>-1.033569</td>\n",
       "      <td>-0.488409</td>\n",
       "      <td>0.586076</td>\n",
       "      <td>0.420969</td>\n",
       "      <td>-1.227416</td>\n",
       "    </tr>\n",
       "    <tr>\n",
       "      <th>3</th>\n",
       "      <td>-1.156250</td>\n",
       "      <td>-0.032619</td>\n",
       "      <td>-0.967326</td>\n",
       "      <td>-0.488409</td>\n",
       "      <td>0.586076</td>\n",
       "      <td>0.420969</td>\n",
       "      <td>-1.227416</td>\n",
       "    </tr>\n",
       "    <tr>\n",
       "      <th>4</th>\n",
       "      <td>-0.466391</td>\n",
       "      <td>-1.732092</td>\n",
       "      <td>-0.410861</td>\n",
       "      <td>1.662949</td>\n",
       "      <td>-1.568113</td>\n",
       "      <td>-2.375470</td>\n",
       "      <td>-0.724909</td>\n",
       "    </tr>\n",
       "    <tr>\n",
       "      <th>...</th>\n",
       "      <td>...</td>\n",
       "      <td>...</td>\n",
       "      <td>...</td>\n",
       "      <td>...</td>\n",
       "      <td>...</td>\n",
       "      <td>...</td>\n",
       "      <td>...</td>\n",
       "    </tr>\n",
       "    <tr>\n",
       "      <th>4924</th>\n",
       "      <td>-0.969413</td>\n",
       "      <td>-1.307065</td>\n",
       "      <td>1.265266</td>\n",
       "      <td>-0.488409</td>\n",
       "      <td>0.586076</td>\n",
       "      <td>0.420969</td>\n",
       "      <td>-0.976163</td>\n",
       "    </tr>\n",
       "    <tr>\n",
       "      <th>4925</th>\n",
       "      <td>-0.969413</td>\n",
       "      <td>0.391986</td>\n",
       "      <td>-0.358194</td>\n",
       "      <td>1.662949</td>\n",
       "      <td>0.586076</td>\n",
       "      <td>0.420969</td>\n",
       "      <td>-0.976163</td>\n",
       "    </tr>\n",
       "    <tr>\n",
       "      <th>4926</th>\n",
       "      <td>-0.955041</td>\n",
       "      <td>-0.032619</td>\n",
       "      <td>0.350074</td>\n",
       "      <td>-0.488409</td>\n",
       "      <td>0.586076</td>\n",
       "      <td>0.420969</td>\n",
       "      <td>-0.976163</td>\n",
       "    </tr>\n",
       "    <tr>\n",
       "      <th>4927</th>\n",
       "      <td>-0.911925</td>\n",
       "      <td>-1.307065</td>\n",
       "      <td>1.696731</td>\n",
       "      <td>3.814307</td>\n",
       "      <td>0.586076</td>\n",
       "      <td>-2.375470</td>\n",
       "      <td>-0.976163</td>\n",
       "    </tr>\n",
       "    <tr>\n",
       "      <th>4928</th>\n",
       "      <td>0.539653</td>\n",
       "      <td>0.391986</td>\n",
       "      <td>-0.353644</td>\n",
       "      <td>1.662949</td>\n",
       "      <td>0.586076</td>\n",
       "      <td>0.420969</td>\n",
       "      <td>0.531359</td>\n",
       "    </tr>\n",
       "  </tbody>\n",
       "</table>\n",
       "<p>4929 rows × 7 columns</p>\n",
       "</div>"
      ],
      "text/plain": [
       "      car name  year of purches  Kilometers_Driven     Owner  Fuel_type  \\\n",
       "0     0.985187        -1.307065          -0.058532 -0.488409   0.586076   \n",
       "1    -0.365786         1.240880          -1.620250 -0.488409   0.586076   \n",
       "2    -1.414947         0.816485          -1.033569 -0.488409   0.586076   \n",
       "3    -1.156250        -0.032619          -0.967326 -0.488409   0.586076   \n",
       "4    -0.466391        -1.732092          -0.410861  1.662949  -1.568113   \n",
       "...        ...              ...                ...       ...        ...   \n",
       "4924 -0.969413        -1.307065           1.265266 -0.488409   0.586076   \n",
       "4925 -0.969413         0.391986          -0.358194  1.662949   0.586076   \n",
       "4926 -0.955041        -0.032619           0.350074 -0.488409   0.586076   \n",
       "4927 -0.911925        -1.307065           1.696731  3.814307   0.586076   \n",
       "4928  0.539653         0.391986          -0.353644  1.662949   0.586076   \n",
       "\n",
       "      Transmission   company  \n",
       "0        -2.375470  0.782612  \n",
       "1        -2.375470 -0.222402  \n",
       "2         0.420969 -1.227416  \n",
       "3         0.420969 -1.227416  \n",
       "4        -2.375470 -0.724909  \n",
       "...            ...       ...  \n",
       "4924      0.420969 -0.976163  \n",
       "4925      0.420969 -0.976163  \n",
       "4926      0.420969 -0.976163  \n",
       "4927     -2.375470 -0.976163  \n",
       "4928      0.420969  0.531359  \n",
       "\n",
       "[4929 rows x 7 columns]"
      ]
     },
     "execution_count": 198,
     "metadata": {},
     "output_type": "execute_result"
    }
   ],
   "source": [
    "x"
   ]
  },
  {
   "cell_type": "markdown",
   "id": "6a05c7e0",
   "metadata": {},
   "source": [
    "# Model learning phase"
   ]
  },
  {
   "cell_type": "markdown",
   "id": "9a1e7c0e",
   "metadata": {},
   "source": [
    "So basically it will become important to know which type of machine learning model we are going to construct.It depends on the target.\n",
    "Here we are going to use Regression model because our target column is numeric in nature.\n",
    "\n",
    "For Regression model, Some matrix we are going to find like:\n",
    "\n",
    "1. R2 score.\n",
    "2. Mean absolute error.\n",
    "3. Mean squared error.\n",
    "4. Root mean squared error.\n",
    "\n",
    "\n",
    "#### Models\n",
    "\n",
    "1. Decision Tree Regressor\n",
    "2. KNeighbors Regressor\n",
    "3. Decision Tree regressor\n",
    "4. RandomForestRegressor \n",
    "5. AdaBoostRegressor\n",
    "6. GradientBoostingRegressor\n",
    "7. XGboost regressor"
   ]
  },
  {
   "cell_type": "code",
   "execution_count": 199,
   "id": "b340497d",
   "metadata": {},
   "outputs": [],
   "source": [
    "import sklearn\n",
    "from sklearn.linear_model import LinearRegression,Lasso,Ridge,ElasticNet\n",
    "from sklearn.model_selection import train_test_split,GridSearchCV,cross_val_score\n",
    "from sklearn.tree import DecisionTreeRegressor\n",
    "from sklearn.svm import SVR\n",
    "from sklearn.neighbors import KNeighborsRegressor\n",
    "from sklearn.ensemble import RandomForestRegressor,AdaBoostRegressor,GradientBoostingRegressor\n",
    "import xgboost as xg\n",
    "from sklearn.metrics import mean_squared_error,mean_absolute_error,r2_score"
   ]
  },
  {
   "cell_type": "code",
   "execution_count": 200,
   "id": "c143429a",
   "metadata": {},
   "outputs": [],
   "source": [
    "def model_select(model):\n",
    "    max_score=0\n",
    "    max_state=0\n",
    "    for i in range(0,50):\n",
    "        x_train,x_test,y_train,y_test=train_test_split(x,y,random_state=i,test_size=.22)\n",
    "        md=model()\n",
    "        md.fit(x_train,y_train)\n",
    "        predict=md.predict(x_test)\n",
    "        r2score=r2_score(y_test,predict)\n",
    "        if r2score > max_score:\n",
    "            max_score=r2score\n",
    "            max_state=i\n",
    "    print('max score is {} at random state {}'.format(max_score,max_state)) "
   ]
  },
  {
   "cell_type": "markdown",
   "id": "cf0a9813",
   "metadata": {},
   "source": [
    "## Linear Regression\n",
    "Finding best random state by calling model_select function"
   ]
  },
  {
   "cell_type": "code",
   "execution_count": 201,
   "id": "2a3df18d",
   "metadata": {},
   "outputs": [
    {
     "name": "stdout",
     "output_type": "stream",
     "text": [
      "max score is 0.47614781536471773 at random state 8\n"
     ]
    }
   ],
   "source": [
    "model_select(LinearRegression)"
   ]
  },
  {
   "cell_type": "code",
   "execution_count": 202,
   "id": "f649aad5",
   "metadata": {},
   "outputs": [],
   "source": [
    "x_train,x_test,y_train,y_test=train_test_split(x,y,test_size=0.22,random_state=8)"
   ]
  },
  {
   "cell_type": "code",
   "execution_count": 203,
   "id": "779c7e77",
   "metadata": {},
   "outputs": [
    {
     "name": "stdout",
     "output_type": "stream",
     "text": [
      "Mean_squared error: 61097998365.33467\n",
      "Mean absolute error: 186134.02436226993\n",
      "r2_score: -0.1594610419611764\n",
      "Root mean squared error: 247180.09297946037\n"
     ]
    }
   ],
   "source": [
    "LR=LinearRegression()\n",
    "LR.fit(x_train,y_train)\n",
    "pred=LR.predict(x_test)\n",
    "\n",
    "print('Mean_squared error:',mean_squared_error(pred,y_test))\n",
    "print('Mean absolute error:',mean_absolute_error(pred,y_test))\n",
    "print('r2_score:',r2_score(pred,y_test))\n",
    "print('Root mean squared error:',np.sqrt(mean_squared_error(pred,y_test)))"
   ]
  },
  {
   "cell_type": "code",
   "execution_count": 204,
   "id": "72637faa",
   "metadata": {},
   "outputs": [
    {
     "name": "stdout",
     "output_type": "stream",
     "text": [
      "cross validation score when cv is 9 = 0.38021102793820916\n",
      "cross validation score when cv is 10 = 0.38964611289842066\n",
      "cross validation score when cv is 11 = 0.37708300046640164\n",
      "cross validation score when cv is 12 = 0.3744014522013146\n",
      "cross validation score when cv is 13 = 0.3613338473993593\n",
      "cross validation score when cv is 14 = 0.33208062981626046\n",
      "cross validation score when cv is 15 = 0.3518439621910035\n"
     ]
    }
   ],
   "source": [
    "for i in range(9,16):\n",
    "    cvs=cross_val_score(LR,x,y,cv=i)\n",
    "    print(\"cross validation score when cv is\",i,'=',cvs.mean())"
   ]
  },
  {
   "cell_type": "markdown",
   "id": "b058ccc2",
   "metadata": {},
   "source": [
    "## Decision tree regressor"
   ]
  },
  {
   "cell_type": "markdown",
   "id": "00c61d03",
   "metadata": {},
   "source": [
    "Finding best random state by calling model_select function"
   ]
  },
  {
   "cell_type": "code",
   "execution_count": 205,
   "id": "cc0ce405",
   "metadata": {},
   "outputs": [
    {
     "name": "stdout",
     "output_type": "stream",
     "text": [
      "max score is 0.9318122090274361 at random state 40\n"
     ]
    }
   ],
   "source": [
    "model_select(DecisionTreeRegressor)"
   ]
  },
  {
   "cell_type": "code",
   "execution_count": 206,
   "id": "e8e9ea38",
   "metadata": {},
   "outputs": [],
   "source": [
    "x_train,x_test,y_train,y_test=train_test_split(x,y,test_size=0.22,random_state=40)"
   ]
  },
  {
   "cell_type": "code",
   "execution_count": 207,
   "id": "1f3258e0",
   "metadata": {},
   "outputs": [
    {
     "name": "stdout",
     "output_type": "stream",
     "text": [
      "r2 score :  0.9240270691094222\n",
      "Mean absoluate error : 39102.69216589862\n",
      "Means squred error: 9884841369.949308\n",
      "Root mean squred error:  99422.5395468719\n"
     ]
    }
   ],
   "source": [
    "Dt=DecisionTreeRegressor()\n",
    "Dt.fit(x_train,y_train)\n",
    "pred=Dt.predict(x_test)\n",
    "print(\"r2 score : \",r2_score(y_test,pred))\n",
    "print(\"Mean absoluate error :\",mean_absolute_error(y_test,pred))\n",
    "print(\"Means squred error:\" ,mean_squared_error(y_test,pred))\n",
    "print(\"Root mean squred error: \",np.sqrt(mean_squared_error(y_test,pred)))"
   ]
  },
  {
   "cell_type": "code",
   "execution_count": 208,
   "id": "504ea485",
   "metadata": {},
   "outputs": [
    {
     "name": "stdout",
     "output_type": "stream",
     "text": [
      "cross validation score when cv is 9 = 0.8737534355480465\n",
      "cross validation score when cv is 10 = 0.8774894943520433\n",
      "cross validation score when cv is 11 = 0.8790108911836382\n",
      "cross validation score when cv is 12 = 0.878210852490395\n",
      "cross validation score when cv is 13 = 0.8880938339355364\n",
      "cross validation score when cv is 14 = 0.8802303124229143\n",
      "cross validation score when cv is 15 = 0.886715155854144\n"
     ]
    }
   ],
   "source": [
    "for i in range(9,16):\n",
    "    cvs=cross_val_score(Dt,x,y,cv=i)\n",
    "    print(\"cross validation score when cv is\",i,'=',cvs.mean())"
   ]
  },
  {
   "cell_type": "code",
   "execution_count": 209,
   "id": "c0da2589",
   "metadata": {},
   "outputs": [],
   "source": [
    "r2dt=92.40\n",
    "cvdt=88.80\n",
    "ddt=r2dt-cvdt"
   ]
  },
  {
   "cell_type": "markdown",
   "id": "e5050dd6",
   "metadata": {},
   "source": [
    "## KNeighbor regressor\n",
    "\n",
    "Finding best random state by calling model_select function"
   ]
  },
  {
   "cell_type": "code",
   "execution_count": 210,
   "id": "3ccc97a6",
   "metadata": {},
   "outputs": [
    {
     "name": "stdout",
     "output_type": "stream",
     "text": [
      "max score is 0.7746623508395747 at random state 4\n"
     ]
    }
   ],
   "source": [
    "model_select(KNeighborsRegressor)"
   ]
  },
  {
   "cell_type": "code",
   "execution_count": 211,
   "id": "882e708d",
   "metadata": {},
   "outputs": [],
   "source": [
    "x_train,x_test,y_train,y_test=train_test_split(x,y,test_size=0.22,random_state=4)"
   ]
  },
  {
   "cell_type": "code",
   "execution_count": 212,
   "id": "846dece6",
   "metadata": {},
   "outputs": [
    {
     "name": "stdout",
     "output_type": "stream",
     "text": [
      "r2 score : 0.7746623508395747\n",
      "Mean absolute error: 108523.79834101383\n",
      "Mean squred error : 25996739622.171795\n",
      "Root mean squred error: 161235.04464654016\n"
     ]
    }
   ],
   "source": [
    "knn=KNeighborsRegressor()\n",
    "knn.fit(x_train,y_train)\n",
    "pred=knn.predict(x_test)\n",
    "print(\"r2 score :\",r2_score(y_test,pred))\n",
    "print(\"Mean absolute error:\",mean_absolute_error(y_test,pred))\n",
    "print(\"Mean squred error :\",mean_squared_error(y_test,pred))\n",
    "print(\"Root mean squred error:\",np.sqrt(mean_squared_error(y_test,pred)))"
   ]
  },
  {
   "cell_type": "code",
   "execution_count": 213,
   "id": "b4eda545",
   "metadata": {},
   "outputs": [
    {
     "name": "stdout",
     "output_type": "stream",
     "text": [
      "cross validation score when cv is 9 = 0.6939160931405133\n",
      "cross validation score when cv is 10 = 0.7053130206353337\n",
      "cross validation score when cv is 11 = 0.6963700949872088\n",
      "cross validation score when cv is 12 = 0.687198259015671\n",
      "cross validation score when cv is 13 = 0.6929133786261492\n",
      "cross validation score when cv is 14 = 0.6695171571954432\n",
      "cross validation score when cv is 15 = 0.6911772994148347\n"
     ]
    }
   ],
   "source": [
    "for i in range(9,16):\n",
    "    cvs=cross_val_score(knn,x,y,cv=i)\n",
    "    print(\"cross validation score when cv is\",i,'=',cvs.mean())"
   ]
  },
  {
   "cell_type": "code",
   "execution_count": 214,
   "id": "58c9f40e",
   "metadata": {},
   "outputs": [],
   "source": [
    "r2knn=77.46\n",
    "cvknn=70.53\n",
    "dknn=r2knn-cvknn"
   ]
  },
  {
   "cell_type": "markdown",
   "id": "a2124643",
   "metadata": {},
   "source": [
    "## Lasso Regressor"
   ]
  },
  {
   "cell_type": "code",
   "execution_count": 215,
   "id": "c9d1e7c0",
   "metadata": {},
   "outputs": [
    {
     "name": "stdout",
     "output_type": "stream",
     "text": [
      "max score is 0.4761475245809321 at random state 8\n"
     ]
    }
   ],
   "source": [
    "model_select(Lasso)"
   ]
  },
  {
   "cell_type": "code",
   "execution_count": 217,
   "id": "589f4d3b",
   "metadata": {},
   "outputs": [],
   "source": [
    "x_train,x_test,y_train,y_test=train_test_split(x,y,test_size=0.22,random_state=8)"
   ]
  },
  {
   "cell_type": "code",
   "execution_count": 218,
   "id": "8fabb136",
   "metadata": {},
   "outputs": [
    {
     "name": "stdout",
     "output_type": "stream",
     "text": [
      "r2 score : 0.4761475245809321\n",
      "Mean absolute error: 186133.75797305064\n",
      "Mean squred error : 61098032280.06821\n",
      "Root mean squred error: 247180.16158273746\n"
     ]
    }
   ],
   "source": [
    "lss=Lasso()\n",
    "lss.fit(x_train,y_train)\n",
    "pred=lss.predict(x_test)\n",
    "print(\"r2 score :\",r2_score(y_test,pred))\n",
    "print(\"Mean absolute error:\",mean_absolute_error(y_test,pred))\n",
    "print(\"Mean squred error :\",mean_squared_error(y_test,pred))\n",
    "print(\"Root mean squred error:\",np.sqrt(mean_squared_error(y_test,pred)))"
   ]
  },
  {
   "cell_type": "code",
   "execution_count": 219,
   "id": "a5ee2cc2",
   "metadata": {},
   "outputs": [
    {
     "name": "stdout",
     "output_type": "stream",
     "text": [
      "cross validation score when cv is 9 = 0.38021111635703975\n",
      "cross validation score when cv is 10 = 0.3896461500238937\n",
      "cross validation score when cv is 11 = 0.3770830325569065\n",
      "cross validation score when cv is 12 = 0.3744015914243806\n",
      "cross validation score when cv is 13 = 0.3613341051245819\n",
      "cross validation score when cv is 14 = 0.3320809298942883\n",
      "cross validation score when cv is 15 = 0.3518442000536705\n"
     ]
    }
   ],
   "source": [
    "for i in range(9,16):\n",
    "    cvs=cross_val_score(lss,x,y,cv=i)\n",
    "    print(\"cross validation score when cv is\",i,'=',cvs.mean())"
   ]
  },
  {
   "cell_type": "code",
   "execution_count": 220,
   "id": "4c422308",
   "metadata": {},
   "outputs": [],
   "source": [
    "r2lss=47.61\n",
    "cvlss=38.96\n",
    "dlss=47.61-38.96"
   ]
  },
  {
   "cell_type": "markdown",
   "id": "30b00206",
   "metadata": {},
   "source": [
    "## Ridge Regressor"
   ]
  },
  {
   "cell_type": "code",
   "execution_count": 221,
   "id": "18eea2cb",
   "metadata": {},
   "outputs": [
    {
     "name": "stdout",
     "output_type": "stream",
     "text": [
      "max score is 0.4761421697439796 at random state 8\n"
     ]
    }
   ],
   "source": [
    "model_select(Ridge)"
   ]
  },
  {
   "cell_type": "code",
   "execution_count": 222,
   "id": "68b21ec6",
   "metadata": {},
   "outputs": [],
   "source": [
    "x_train,x_test,y_train,y_test=train_test_split(x,y,test_size=0.22,random_state=8)"
   ]
  },
  {
   "cell_type": "code",
   "execution_count": 223,
   "id": "bcc4c6af",
   "metadata": {},
   "outputs": [
    {
     "name": "stdout",
     "output_type": "stream",
     "text": [
      "r2 score : 0.4761421697439796\n",
      "Mean absolute error: 186124.41299492292\n",
      "Mean squred error : 61098656826.13095\n",
      "Root mean squred error: 247181.4249213135\n"
     ]
    }
   ],
   "source": [
    "ri=Ridge()\n",
    "ri.fit(x_train,y_train)\n",
    "pred=ri.predict(x_test)\n",
    "print(\"r2 score :\",r2_score(y_test,pred))\n",
    "print(\"Mean absolute error:\",mean_absolute_error(y_test,pred))\n",
    "print(\"Mean squred error :\",mean_squared_error(y_test,pred))\n",
    "print(\"Root mean squred error:\",np.sqrt(mean_squared_error(y_test,pred)))"
   ]
  },
  {
   "cell_type": "code",
   "execution_count": 224,
   "id": "460d188a",
   "metadata": {},
   "outputs": [
    {
     "name": "stdout",
     "output_type": "stream",
     "text": [
      "cross validation score when cv is 9 = 0.38022341152678973\n",
      "cross validation score when cv is 10 = 0.38965574414198856\n",
      "cross validation score when cv is 11 = 0.37709463228244466\n",
      "cross validation score when cv is 12 = 0.3744098760315173\n",
      "cross validation score when cv is 13 = 0.361348031625079\n",
      "cross validation score when cv is 14 = 0.3320952648445492\n",
      "cross validation score when cv is 15 = 0.3518590500538946\n"
     ]
    }
   ],
   "source": [
    "for i in range(9,16):\n",
    "    cvs=cross_val_score(ri,x,y,cv=i)\n",
    "    print(\"cross validation score when cv is\",i,'=',cvs.mean())"
   ]
  },
  {
   "cell_type": "code",
   "execution_count": 225,
   "id": "dba6d2b7",
   "metadata": {},
   "outputs": [],
   "source": [
    "r2ri=47.61\n",
    "cvri=38.96\n",
    "dri=47.61-38.96"
   ]
  },
  {
   "cell_type": "markdown",
   "id": "80f1aefd",
   "metadata": {},
   "source": [
    "## Random forest classifier\n",
    "Finding best random state by calling model_select function"
   ]
  },
  {
   "cell_type": "code",
   "execution_count": 226,
   "id": "887ff534",
   "metadata": {},
   "outputs": [
    {
     "name": "stdout",
     "output_type": "stream",
     "text": [
      "max score is 0.9499188456474392 at random state 4\n"
     ]
    }
   ],
   "source": [
    "model_select(RandomForestRegressor)"
   ]
  },
  {
   "cell_type": "code",
   "execution_count": 227,
   "id": "d6c77949",
   "metadata": {},
   "outputs": [],
   "source": [
    "x_train,x_test,y_train,y_test=train_test_split(x,y,test_size=0.22,random_state=4)"
   ]
  },
  {
   "cell_type": "code",
   "execution_count": 228,
   "id": "05a0bdb7",
   "metadata": {},
   "outputs": [
    {
     "name": "stdout",
     "output_type": "stream",
     "text": [
      "r2 score: 0.9518885457124674\n",
      "Mean absolute error 39346.301963133636\n",
      "Mean squared error: 5550519208.028845\n",
      "Root mean squared error: 74501.80674338606\n"
     ]
    }
   ],
   "source": [
    "rfr=RandomForestRegressor()\n",
    "rfr.fit(x_train,y_train)\n",
    "pred=rfr.predict(x_test)\n",
    "print(\"r2 score:\",r2_score(y_test,pred))\n",
    "print(\"Mean absolute error\",mean_absolute_error(y_test,pred))\n",
    "print(\"Mean squared error:\",mean_squared_error(y_test,pred))\n",
    "print(\"Root mean squared error:\",np.sqrt(mean_squared_error(y_test,pred)))"
   ]
  },
  {
   "cell_type": "code",
   "execution_count": 229,
   "id": "e90afe4a",
   "metadata": {},
   "outputs": [
    {
     "name": "stdout",
     "output_type": "stream",
     "text": [
      "cross validation score when cv is 9 = 0.9128902596960202\n",
      "cross validation score when cv is 10 = 0.9145716490225946\n",
      "cross validation score when cv is 11 = 0.9176763355672928\n",
      "cross validation score when cv is 12 = 0.9185819855644238\n",
      "cross validation score when cv is 13 = 0.9173015920666102\n",
      "cross validation score when cv is 14 = 0.9189365036579983\n",
      "cross validation score when cv is 15 = 0.9208354214215075\n"
     ]
    }
   ],
   "source": [
    "for i in range(9,16):\n",
    "    cvs=cross_val_score(rfr,x,y,cv=i)\n",
    "    print(\"cross validation score when cv is\",i,'=',cvs.mean())"
   ]
  },
  {
   "cell_type": "code",
   "execution_count": 247,
   "id": "da7966a0",
   "metadata": {},
   "outputs": [],
   "source": [
    "r2rfr=95.18\n",
    "cvrfr=92.08\n",
    "drfr=r2rfr-cvrfr"
   ]
  },
  {
   "cell_type": "markdown",
   "id": "15eec349",
   "metadata": {},
   "source": [
    "## AdaBoostRegressor\n",
    "Finding best random state by calling model_select function"
   ]
  },
  {
   "cell_type": "code",
   "execution_count": 231,
   "id": "1e4ed29a",
   "metadata": {},
   "outputs": [
    {
     "name": "stdout",
     "output_type": "stream",
     "text": [
      "max score is 0.5423343888743941 at random state 40\n"
     ]
    }
   ],
   "source": [
    "model_select(AdaBoostRegressor)"
   ]
  },
  {
   "cell_type": "code",
   "execution_count": 232,
   "id": "28881a4b",
   "metadata": {},
   "outputs": [],
   "source": [
    "x_train,x_test,y_train,y_test=train_test_split(x,y,test_size=0.20,random_state=40)"
   ]
  },
  {
   "cell_type": "code",
   "execution_count": 233,
   "id": "50adf870",
   "metadata": {},
   "outputs": [
    {
     "name": "stdout",
     "output_type": "stream",
     "text": [
      "r2 score: 0.4622011704761785\n",
      "Mean absolute error: 220360.6355038466\n",
      "Mean squared error: 70221103821.96092\n",
      "Root mean squared error: 264992.6486187134\n"
     ]
    }
   ],
   "source": [
    "ada=AdaBoostRegressor()\n",
    "ada.fit(x_train,y_train)\n",
    "pred=ada.predict(x_test)\n",
    "print(\"r2 score:\",r2_score(y_test,pred))\n",
    "print(\"Mean absolute error:\",mean_absolute_error(y_test,pred))\n",
    "print(\"Mean squared error:\",mean_squared_error(y_test,pred))\n",
    "print(\"Root mean squared error:\",np.sqrt(mean_squared_error(y_test,pred)))"
   ]
  },
  {
   "cell_type": "code",
   "execution_count": 234,
   "id": "0740671a",
   "metadata": {},
   "outputs": [
    {
     "name": "stdout",
     "output_type": "stream",
     "text": [
      "cross validation score when cv is 9 = 0.3014646443843787\n",
      "cross validation score when cv is 10 = 0.302750477844152\n",
      "cross validation score when cv is 11 = 0.24307785784428193\n",
      "cross validation score when cv is 12 = 0.2433367872581751\n",
      "cross validation score when cv is 13 = 0.22894441640405344\n",
      "cross validation score when cv is 14 = 0.13614655034812312\n",
      "cross validation score when cv is 15 = 0.20020940389422137\n"
     ]
    }
   ],
   "source": [
    "for i in range(9,16):\n",
    "    cvs=cross_val_score(ada,x,y,cv=i)\n",
    "    print(\"cross validation score when cv is\",i,'=',cvs.mean())"
   ]
  },
  {
   "cell_type": "code",
   "execution_count": 249,
   "id": "0e21284c",
   "metadata": {},
   "outputs": [],
   "source": [
    "r2ada=46.22\n",
    "cvada=30.27\n",
    "dada=r2ada-cvada"
   ]
  },
  {
   "cell_type": "markdown",
   "id": "aa603a0a",
   "metadata": {},
   "source": [
    "## GradientBoostingRegressor\n",
    "Finding best random state by calling model_select function"
   ]
  },
  {
   "cell_type": "code",
   "execution_count": 235,
   "id": "0922c1ac",
   "metadata": {},
   "outputs": [
    {
     "name": "stdout",
     "output_type": "stream",
     "text": [
      "max score is 0.8620729666427605 at random state 4\n"
     ]
    }
   ],
   "source": [
    "model_select(GradientBoostingRegressor)"
   ]
  },
  {
   "cell_type": "code",
   "execution_count": 237,
   "id": "d3b2e3c4",
   "metadata": {},
   "outputs": [],
   "source": [
    "x_train,x_test,y_train,y_test=train_test_split(x,y,test_size=0.20,random_state=4)"
   ]
  },
  {
   "cell_type": "code",
   "execution_count": 238,
   "id": "f0f7c412",
   "metadata": {},
   "outputs": [
    {
     "name": "stdout",
     "output_type": "stream",
     "text": [
      "r2 score: 0.8649191622997077\n",
      "Mean absolute error: 88206.18895553515\n",
      "Mean squared error: 15783180176.931759\n",
      "Root mean squared error: 125631.12742044369\n"
     ]
    }
   ],
   "source": [
    "gbr=GradientBoostingRegressor()\n",
    "gbr.fit(x_train,y_train)\n",
    "pred=gbr.predict(x_test)\n",
    "print(\"r2 score:\",r2_score(y_test,pred))\n",
    "print(\"Mean absolute error:\",mean_absolute_error(y_test,pred))\n",
    "print(\"Mean squared error:\",mean_squared_error(y_test,pred))\n",
    "print(\"Root mean squared error:\",np.sqrt(mean_squared_error(y_test,pred)))"
   ]
  },
  {
   "cell_type": "code",
   "execution_count": 239,
   "id": "f334cb20",
   "metadata": {},
   "outputs": [
    {
     "name": "stdout",
     "output_type": "stream",
     "text": [
      "cross validation score when cv is 9 = 0.8119233492839667\n",
      "cross validation score when cv is 10 = 0.8174850150755348\n",
      "cross validation score when cv is 11 = 0.8134095106786415\n",
      "cross validation score when cv is 12 = 0.8127054209685873\n",
      "cross validation score when cv is 13 = 0.81123831477024\n",
      "cross validation score when cv is 14 = 0.7923510287990877\n",
      "cross validation score when cv is 15 = 0.803158279707409\n"
     ]
    }
   ],
   "source": [
    "for i in range(9,16):\n",
    "    cvs=cross_val_score(gbr,x,y,cv=i)\n",
    "    print(\"cross validation score when cv is\",i,'=',cvs.mean())"
   ]
  },
  {
   "cell_type": "code",
   "execution_count": 240,
   "id": "5c18695e",
   "metadata": {},
   "outputs": [],
   "source": [
    "r2gbr=86.49\n",
    "cvgbr=81.19\n",
    "dgbr=r2gbr-cvgbr"
   ]
  },
  {
   "cell_type": "markdown",
   "id": "186f3653",
   "metadata": {},
   "source": [
    "## Xg Boost regressor"
   ]
  },
  {
   "cell_type": "code",
   "execution_count": 241,
   "id": "b4c495d0",
   "metadata": {},
   "outputs": [
    {
     "name": "stdout",
     "output_type": "stream",
     "text": [
      "max score is 0.9601971740286308 at random state 40\n"
     ]
    }
   ],
   "source": [
    "model_select(xg.XGBRegressor)"
   ]
  },
  {
   "cell_type": "code",
   "execution_count": 242,
   "id": "bbdf4931",
   "metadata": {},
   "outputs": [],
   "source": [
    "x_train,x_test,y_train,y_test=train_test_split(x,y,test_size=0.22,random_state=49)"
   ]
  },
  {
   "cell_type": "code",
   "execution_count": 243,
   "id": "edbfcc28",
   "metadata": {},
   "outputs": [
    {
     "name": "stdout",
     "output_type": "stream",
     "text": [
      "r2 score: 0.9560834702248259\n",
      "Mean absolute error: 42211.923415898615\n",
      "Mean squared error: 5581440859.501381\n",
      "Root mean squared error: 74709.0413504375\n"
     ]
    }
   ],
   "source": [
    "XG=xg.XGBRegressor()\n",
    "XG.fit(x_train,y_train)\n",
    "pred=XG.predict(x_test)\n",
    "print(\"r2 score:\",r2_score(y_test,pred))\n",
    "print(\"Mean absolute error:\",mean_absolute_error(y_test,pred))\n",
    "print(\"Mean squared error:\",mean_squared_error(y_test,pred))\n",
    "print(\"Root mean squared error:\",np.sqrt(mean_squared_error(y_test,pred)))"
   ]
  },
  {
   "cell_type": "code",
   "execution_count": 245,
   "id": "90433917",
   "metadata": {},
   "outputs": [
    {
     "name": "stdout",
     "output_type": "stream",
     "text": [
      "cross validation score when cv is 9 = 0.9340325327546434\n",
      "cross validation score when cv is 10 = 0.9347756270713969\n",
      "cross validation score when cv is 11 = 0.93495383568659\n",
      "cross validation score when cv is 12 = 0.9380816737548193\n",
      "cross validation score when cv is 13 = 0.9380585866314224\n",
      "cross validation score when cv is 14 = 0.9394404393418794\n",
      "cross validation score when cv is 15 = 0.9397877482419211\n"
     ]
    }
   ],
   "source": [
    "for i in range(9,16):\n",
    "    cvs=cross_val_score(XG,x,y,cv=i)\n",
    "    print(\"cross validation score when cv is\",i,'=',cvs.mean())"
   ]
  },
  {
   "cell_type": "code",
   "execution_count": 246,
   "id": "aab87641",
   "metadata": {},
   "outputs": [],
   "source": [
    "r2xg=95.60\n",
    "cvxg=93.97\n",
    "dxg=r2xg-cvxg"
   ]
  },
  {
   "cell_type": "markdown",
   "id": "c6dafe31",
   "metadata": {},
   "source": [
    "## Comparison of all the models"
   ]
  },
  {
   "cell_type": "code",
   "execution_count": 253,
   "id": "5e5e81fd",
   "metadata": {},
   "outputs": [],
   "source": [
    "jj=({'R2 score':[r2dt,r2knn,r2lss,r2ri,r2rfr,r2gbr,r2xg,r2ada],\n",
    "    'Cross val score':[cvdt,cvknn,cvlss,cvri,cvrfr,cvgbr,cvxg,cvada],\n",
    "    'Diffrence':[ddt,dknn,dlss,dri,drfr,dgbr,dxg,dada]})"
   ]
  },
  {
   "cell_type": "code",
   "execution_count": 254,
   "id": "750367cc",
   "metadata": {},
   "outputs": [],
   "source": [
    "result=pd.DataFrame(jj,index=['Decision tree','kneighbour','Lasso','Ridge',\n",
    "                              'Random forest','GredientBoosting','XGBoost','Adaboost'])"
   ]
  },
  {
   "cell_type": "code",
   "execution_count": 255,
   "id": "c2abec39",
   "metadata": {},
   "outputs": [
    {
     "data": {
      "text/html": [
       "<div>\n",
       "<style scoped>\n",
       "    .dataframe tbody tr th:only-of-type {\n",
       "        vertical-align: middle;\n",
       "    }\n",
       "\n",
       "    .dataframe tbody tr th {\n",
       "        vertical-align: top;\n",
       "    }\n",
       "\n",
       "    .dataframe thead th {\n",
       "        text-align: right;\n",
       "    }\n",
       "</style>\n",
       "<table border=\"1\" class=\"dataframe\">\n",
       "  <thead>\n",
       "    <tr style=\"text-align: right;\">\n",
       "      <th></th>\n",
       "      <th>R2 score</th>\n",
       "      <th>Cross val score</th>\n",
       "      <th>Diffrence</th>\n",
       "    </tr>\n",
       "  </thead>\n",
       "  <tbody>\n",
       "    <tr>\n",
       "      <th>Decision tree</th>\n",
       "      <td>92.40</td>\n",
       "      <td>88.80</td>\n",
       "      <td>3.60</td>\n",
       "    </tr>\n",
       "    <tr>\n",
       "      <th>kneighbour</th>\n",
       "      <td>77.46</td>\n",
       "      <td>70.53</td>\n",
       "      <td>6.93</td>\n",
       "    </tr>\n",
       "    <tr>\n",
       "      <th>Lasso</th>\n",
       "      <td>47.61</td>\n",
       "      <td>38.96</td>\n",
       "      <td>8.65</td>\n",
       "    </tr>\n",
       "    <tr>\n",
       "      <th>Ridge</th>\n",
       "      <td>47.61</td>\n",
       "      <td>38.96</td>\n",
       "      <td>8.65</td>\n",
       "    </tr>\n",
       "    <tr>\n",
       "      <th>Random forest</th>\n",
       "      <td>95.18</td>\n",
       "      <td>92.08</td>\n",
       "      <td>3.10</td>\n",
       "    </tr>\n",
       "    <tr>\n",
       "      <th>GredientBoosting</th>\n",
       "      <td>86.49</td>\n",
       "      <td>81.19</td>\n",
       "      <td>5.30</td>\n",
       "    </tr>\n",
       "    <tr>\n",
       "      <th>XGBoost</th>\n",
       "      <td>95.60</td>\n",
       "      <td>93.97</td>\n",
       "      <td>1.63</td>\n",
       "    </tr>\n",
       "    <tr>\n",
       "      <th>Adaboost</th>\n",
       "      <td>46.22</td>\n",
       "      <td>30.27</td>\n",
       "      <td>15.95</td>\n",
       "    </tr>\n",
       "  </tbody>\n",
       "</table>\n",
       "</div>"
      ],
      "text/plain": [
       "                  R2 score  Cross val score  Diffrence\n",
       "Decision tree        92.40            88.80       3.60\n",
       "kneighbour           77.46            70.53       6.93\n",
       "Lasso                47.61            38.96       8.65\n",
       "Ridge                47.61            38.96       8.65\n",
       "Random forest        95.18            92.08       3.10\n",
       "GredientBoosting     86.49            81.19       5.30\n",
       "XGBoost              95.60            93.97       1.63\n",
       "Adaboost             46.22            30.27      15.95"
      ]
     },
     "execution_count": 255,
     "metadata": {},
     "output_type": "execute_result"
    }
   ],
   "source": [
    "result"
   ]
  },
  {
   "cell_type": "code",
   "execution_count": 256,
   "id": "e4d393f5",
   "metadata": {},
   "outputs": [],
   "source": [
    "aa=list(result['Cross val score'])"
   ]
  },
  {
   "cell_type": "code",
   "execution_count": 257,
   "id": "fb7f2b51",
   "metadata": {},
   "outputs": [],
   "source": [
    "bb=list(result.index)"
   ]
  },
  {
   "cell_type": "code",
   "execution_count": 258,
   "id": "86049828",
   "metadata": {},
   "outputs": [],
   "source": [
    "kk=pd.DataFrame({'Model':bb,'Score':aa},index=[1,2,3,4,5,6,7,8])"
   ]
  },
  {
   "cell_type": "code",
   "execution_count": 259,
   "id": "41e7ba1e",
   "metadata": {},
   "outputs": [
    {
     "data": {
      "text/html": [
       "<div>\n",
       "<style scoped>\n",
       "    .dataframe tbody tr th:only-of-type {\n",
       "        vertical-align: middle;\n",
       "    }\n",
       "\n",
       "    .dataframe tbody tr th {\n",
       "        vertical-align: top;\n",
       "    }\n",
       "\n",
       "    .dataframe thead th {\n",
       "        text-align: right;\n",
       "    }\n",
       "</style>\n",
       "<table border=\"1\" class=\"dataframe\">\n",
       "  <thead>\n",
       "    <tr style=\"text-align: right;\">\n",
       "      <th></th>\n",
       "      <th>Model</th>\n",
       "      <th>Score</th>\n",
       "    </tr>\n",
       "  </thead>\n",
       "  <tbody>\n",
       "    <tr>\n",
       "      <th>1</th>\n",
       "      <td>Decision tree</td>\n",
       "      <td>88.80</td>\n",
       "    </tr>\n",
       "    <tr>\n",
       "      <th>2</th>\n",
       "      <td>kneighbour</td>\n",
       "      <td>70.53</td>\n",
       "    </tr>\n",
       "    <tr>\n",
       "      <th>3</th>\n",
       "      <td>Lasso</td>\n",
       "      <td>38.96</td>\n",
       "    </tr>\n",
       "    <tr>\n",
       "      <th>4</th>\n",
       "      <td>Ridge</td>\n",
       "      <td>38.96</td>\n",
       "    </tr>\n",
       "    <tr>\n",
       "      <th>5</th>\n",
       "      <td>Random forest</td>\n",
       "      <td>92.08</td>\n",
       "    </tr>\n",
       "    <tr>\n",
       "      <th>6</th>\n",
       "      <td>GredientBoosting</td>\n",
       "      <td>81.19</td>\n",
       "    </tr>\n",
       "    <tr>\n",
       "      <th>7</th>\n",
       "      <td>XGBoost</td>\n",
       "      <td>93.97</td>\n",
       "    </tr>\n",
       "    <tr>\n",
       "      <th>8</th>\n",
       "      <td>Adaboost</td>\n",
       "      <td>30.27</td>\n",
       "    </tr>\n",
       "  </tbody>\n",
       "</table>\n",
       "</div>"
      ],
      "text/plain": [
       "              Model  Score\n",
       "1     Decision tree  88.80\n",
       "2        kneighbour  70.53\n",
       "3             Lasso  38.96\n",
       "4             Ridge  38.96\n",
       "5     Random forest  92.08\n",
       "6  GredientBoosting  81.19\n",
       "7           XGBoost  93.97\n",
       "8          Adaboost  30.27"
      ]
     },
     "execution_count": 259,
     "metadata": {},
     "output_type": "execute_result"
    }
   ],
   "source": [
    "kk"
   ]
  },
  {
   "cell_type": "code",
   "execution_count": 260,
   "id": "3d676327",
   "metadata": {},
   "outputs": [
    {
     "data": {
      "image/png": "[encoded data removed]",
      "text/plain": [
       "<Figure size 1296x576 with 1 Axes>"
      ]
     },
     "metadata": {
      "needs_background": "light"
     },
     "output_type": "display_data"
    }
   ],
   "source": [
    "plt.figure(figsize=[18,8])\n",
    "sns.barplot(data=kk,y='Model',x='Score')\n",
    "plt.title(\"Model name and model accuracy\",fontsize=20)\n",
    "plt.show()"
   ]
  },
  {
   "cell_type": "markdown",
   "id": "064fc125",
   "metadata": {},
   "source": [
    "## Best Model\n",
    "### We are chosing XG boost regressor as a best model, Because this model has least diffrence between model acuracy score and cross validation score and also its accuracy is highest as compare to others.That is why we are choosing XGR\n",
    "### Model accuracy is : 95.60\n",
    "### Cross_validation score : 93.97\t\n",
    "### Diffrence : 1.63"
   ]
  },
  {
   "cell_type": "code",
   "execution_count": 266,
   "id": "c5d4759a",
   "metadata": {},
   "outputs": [],
   "source": [
    "parameter={'n_estimators':[25,50,75,125],\n",
    "           'max_depth':[5,7,9,11],\n",
    "           'learning_rate':[0.01,0.001,0.1,1]}"
   ]
  },
  {
   "cell_type": "code",
   "execution_count": 267,
   "id": "077fddcc",
   "metadata": {},
   "outputs": [
    {
     "data": {
      "text/plain": [
       "{'learning_rate': 0.1, 'max_depth': 7, 'n_estimators': 125}"
      ]
     },
     "execution_count": 267,
     "metadata": {},
     "output_type": "execute_result"
    }
   ],
   "source": [
    "new_XG=GridSearchCV(XG,parameter,cv=19)\n",
    "new_XG.fit(x_train,y_train)\n",
    "new_XG.best_params_"
   ]
  },
  {
   "cell_type": "code",
   "execution_count": 271,
   "id": "b3bdebf1",
   "metadata": {},
   "outputs": [
    {
     "data": {
      "text/html": [
       "<style>#sk-container-id-2 {color: black;background-color: white;}#sk-container-id-2 pre{padding: 0;}#sk-container-id-2 div.sk-toggleable {background-color: white;}#sk-container-id-2 label.sk-toggleable__label {cursor: pointer;display: block;width: 100%;margin-bottom: 0;padding: 0.3em;box-sizing: border-box;text-align: center;}#sk-container-id-2 label.sk-toggleable__label-arrow:before {content: \"▸\";float: left;margin-right: 0.25em;color: #696969;}#sk-container-id-2 label.sk-toggleable__label-arrow:hover:before {color: black;}#sk-container-id-2 div.sk-estimator:hover label.sk-toggleable__label-arrow:before {color: black;}#sk-container-id-2 div.sk-toggleable__content {max-height: 0;max-width: 0;overflow: hidden;text-align: left;background-color: #f0f8ff;}#sk-container-id-2 div.sk-toggleable__content pre {margin: 0.2em;color: black;border-radius: 0.25em;background-color: #f0f8ff;}#sk-container-id-2 input.sk-toggleable__control:checked~div.sk-toggleable__content {max-height: 200px;max-width: 100%;overflow: auto;}#sk-container-id-2 input.sk-toggleable__control:checked~label.sk-toggleable__label-arrow:before {content: \"▾\";}#sk-container-id-2 div.sk-estimator input.sk-toggleable__control:checked~label.sk-toggleable__label {background-color: #d4ebff;}#sk-container-id-2 div.sk-label input.sk-toggleable__control:checked~label.sk-toggleable__label {background-color: #d4ebff;}#sk-container-id-2 input.sk-hidden--visually {border: 0;clip: rect(1px 1px 1px 1px);clip: rect(1px, 1px, 1px, 1px);height: 1px;margin: -1px;overflow: hidden;padding: 0;position: absolute;width: 1px;}#sk-container-id-2 div.sk-estimator {font-family: monospace;background-color: #f0f8ff;border: 1px dotted black;border-radius: 0.25em;box-sizing: border-box;margin-bottom: 0.5em;}#sk-container-id-2 div.sk-estimator:hover {background-color: #d4ebff;}#sk-container-id-2 div.sk-parallel-item::after {content: \"\";width: 100%;border-bottom: 1px solid gray;flex-grow: 1;}#sk-container-id-2 div.sk-label:hover label.sk-toggleable__label {background-color: #d4ebff;}#sk-container-id-2 div.sk-serial::before {content: \"\";position: absolute;border-left: 1px solid gray;box-sizing: border-box;top: 0;bottom: 0;left: 50%;z-index: 0;}#sk-container-id-2 div.sk-serial {display: flex;flex-direction: column;align-items: center;background-color: white;padding-right: 0.2em;padding-left: 0.2em;position: relative;}#sk-container-id-2 div.sk-item {position: relative;z-index: 1;}#sk-container-id-2 div.sk-parallel {display: flex;align-items: stretch;justify-content: center;background-color: white;position: relative;}#sk-container-id-2 div.sk-item::before, #sk-container-id-2 div.sk-parallel-item::before {content: \"\";position: absolute;border-left: 1px solid gray;box-sizing: border-box;top: 0;bottom: 0;left: 50%;z-index: -1;}#sk-container-id-2 div.sk-parallel-item {display: flex;flex-direction: column;z-index: 1;position: relative;background-color: white;}#sk-container-id-2 div.sk-parallel-item:first-child::after {align-self: flex-end;width: 50%;}#sk-container-id-2 div.sk-parallel-item:last-child::after {align-self: flex-start;width: 50%;}#sk-container-id-2 div.sk-parallel-item:only-child::after {width: 0;}#sk-container-id-2 div.sk-dashed-wrapped {border: 1px dashed gray;margin: 0 0.4em 0.5em 0.4em;box-sizing: border-box;padding-bottom: 0.4em;background-color: white;}#sk-container-id-2 div.sk-label label {font-family: monospace;font-weight: bold;display: inline-block;line-height: 1.2em;}#sk-container-id-2 div.sk-label-container {text-align: center;}#sk-container-id-2 div.sk-container {/* jupyter's `normalize.less` sets `[hidden] { display: none; }` but bootstrap.min.css set `[hidden] { display: none !important; }` so we also need the `!important` here to be able to override the default hidden behavior on the sphinx rendered scikit-learn.org. See: https://github.com/scikit-learn/scikit-learn/issues/21755 */display: inline-block !important;position: relative;}#sk-container-id-2 div.sk-text-repr-fallback {display: none;}</style><div id=\"sk-container-id-2\" class=\"sk-top-container\"><div class=\"sk-text-repr-fallback\"><pre>XGBRegressor(base_score=0.5, booster=&#x27;gbtree&#x27;, callbacks=None,\n",
       "             colsample_bylevel=1, colsample_bynode=1, colsample_bytree=1,\n",
       "             early_stopping_rounds=None, enable_categorical=False,\n",
       "             eval_metric=None, gamma=0, gpu_id=-1, grow_policy=&#x27;depthwise&#x27;,\n",
       "             importance_type=None, interaction_constraints=&#x27;&#x27;,\n",
       "             learning_rate=0.1, max_bin=256, max_cat_to_onehot=4,\n",
       "             max_delta_step=0, max_depth=7, max_leaves=0, min_child_weight=1,\n",
       "             missing=nan, monotone_constraints=&#x27;()&#x27;, n_estimators=125, n_jobs=0,\n",
       "             num_parallel_tree=1, predictor=&#x27;auto&#x27;, random_state=0, reg_alpha=0,\n",
       "             reg_lambda=1, ...)</pre><b>In a Jupyter environment, please rerun this cell to show the HTML representation or trust the notebook. <br />On GitHub, the HTML representation is unable to render, please try loading this page with nbviewer.org.</b></div><div class=\"sk-container\" hidden><div class=\"sk-item\"><div class=\"sk-estimator sk-toggleable\"><input class=\"sk-toggleable__control sk-hidden--visually\" id=\"sk-estimator-id-2\" type=\"checkbox\" checked><label for=\"sk-estimator-id-2\" class=\"sk-toggleable__label sk-toggleable__label-arrow\">XGBRegressor</label><div class=\"sk-toggleable__content\"><pre>XGBRegressor(base_score=0.5, booster=&#x27;gbtree&#x27;, callbacks=None,\n",
       "             colsample_bylevel=1, colsample_bynode=1, colsample_bytree=1,\n",
       "             early_stopping_rounds=None, enable_categorical=False,\n",
       "             eval_metric=None, gamma=0, gpu_id=-1, grow_policy=&#x27;depthwise&#x27;,\n",
       "             importance_type=None, interaction_constraints=&#x27;&#x27;,\n",
       "             learning_rate=0.1, max_bin=256, max_cat_to_onehot=4,\n",
       "             max_delta_step=0, max_depth=7, max_leaves=0, min_child_weight=1,\n",
       "             missing=nan, monotone_constraints=&#x27;()&#x27;, n_estimators=125, n_jobs=0,\n",
       "             num_parallel_tree=1, predictor=&#x27;auto&#x27;, random_state=0, reg_alpha=0,\n",
       "             reg_lambda=1, ...)</pre></div></div></div></div></div>"
      ],
      "text/plain": [
       "XGBRegressor(base_score=0.5, booster='gbtree', callbacks=None,\n",
       "             colsample_bylevel=1, colsample_bynode=1, colsample_bytree=1,\n",
       "             early_stopping_rounds=None, enable_categorical=False,\n",
       "             eval_metric=None, gamma=0, gpu_id=-1, grow_policy='depthwise',\n",
       "             importance_type=None, interaction_constraints='',\n",
       "             learning_rate=0.1, max_bin=256, max_cat_to_onehot=4,\n",
       "             max_delta_step=0, max_depth=7, max_leaves=0, min_child_weight=1,\n",
       "             missing=nan, monotone_constraints='()', n_estimators=125, n_jobs=0,\n",
       "             num_parallel_tree=1, predictor='auto', random_state=0, reg_alpha=0,\n",
       "             reg_lambda=1, ...)"
      ]
     },
     "execution_count": 271,
     "metadata": {},
     "output_type": "execute_result"
    }
   ],
   "source": [
    "new_XG.best_estimator_"
   ]
  },
  {
   "cell_type": "code",
   "execution_count": 274,
   "id": "fc046c66",
   "metadata": {},
   "outputs": [
    {
     "data": {
      "text/plain": [
       "0.9483553673965043"
      ]
     },
     "execution_count": 274,
     "metadata": {},
     "output_type": "execute_result"
    }
   ],
   "source": [
    "new_XG_pred=new_XG.best_estimator_.predict(x_test)\n",
    "r2_score(y_test,new_XG_pred)"
   ]
  },
  {
   "cell_type": "code",
   "execution_count": 275,
   "id": "8c8f0ae1",
   "metadata": {},
   "outputs": [
    {
     "name": "stdout",
     "output_type": "stream",
     "text": [
      "r2 score: 0.9560834702248259\n",
      "Mean absolute error: 42211.923415898615\n",
      "Mean squared error: 5581440859.501381\n",
      "Root mean squared error: 74709.0413504375\n"
     ]
    }
   ],
   "source": [
    "new_xg=xg.XGBRegressor()\n",
    "new_xg.fit(x_train,y_train)\n",
    "pred=new_xg.predict(x_test)\n",
    "print(\"r2 score:\",r2_score(y_test,pred))\n",
    "print(\"Mean absolute error:\",mean_absolute_error(y_test,pred))\n",
    "print(\"Mean squared error:\",mean_squared_error(y_test,pred))\n",
    "print(\"Root mean squared error:\",np.sqrt(mean_squared_error(y_test,pred)))"
   ]
  },
  {
   "cell_type": "markdown",
   "id": "00aa2ae9",
   "metadata": {},
   "source": [
    "## Model- XG Boost Regressor\n",
    "## R2 Score- 95.60 %"
   ]
  },
  {
   "cell_type": "code",
   "execution_count": 276,
   "id": "9d9b209f",
   "metadata": {},
   "outputs": [],
   "source": [
    "pred=new_xg.predict(x_test)"
   ]
  },
  {
   "cell_type": "code",
   "execution_count": 277,
   "id": "4d1049f8",
   "metadata": {},
   "outputs": [
    {
     "data": {
      "image/png": "[encoded data removed]",
      "text/plain": [
       "<Figure size 936x576 with 1 Axes>"
      ]
     },
     "metadata": {
      "needs_background": "light"
     },
     "output_type": "display_data"
    }
   ],
   "source": [
    "plt.figure(figsize=[13,8])\n",
    "sns.distplot(y_test-pred)\n",
    "plt.show()"
   ]
  },
  {
   "cell_type": "code",
   "execution_count": 278,
   "id": "e716d1c7",
   "metadata": {},
   "outputs": [
    {
     "data": {
      "image/png": "[encoded data removed]",
      "text/plain": [
       "<Figure size 936x576 with 1 Axes>"
      ]
     },
     "metadata": {
      "needs_background": "light"
     },
     "output_type": "display_data"
    }
   ],
   "source": [
    "plt.figure(figsize=[13,8])\n",
    "plt.scatter(pred,y_test)\n",
    "plt.plot(y_test,y_test,linewidth=4,color='r')\n",
    "plt.show()"
   ]
  },
  {
   "cell_type": "code",
   "execution_count": 279,
   "id": "21c3b0ee",
   "metadata": {},
   "outputs": [],
   "source": [
    "final=pd.DataFrame([pred[:],y_test[:]],index=['Predict','Original'])"
   ]
  },
  {
   "cell_type": "code",
   "execution_count": 280,
   "id": "ea6c0c08",
   "metadata": {},
   "outputs": [
    {
     "data": {
      "text/html": [
       "<div>\n",
       "<style scoped>\n",
       "    .dataframe tbody tr th:only-of-type {\n",
       "        vertical-align: middle;\n",
       "    }\n",
       "\n",
       "    .dataframe tbody tr th {\n",
       "        vertical-align: top;\n",
       "    }\n",
       "\n",
       "    .dataframe thead th {\n",
       "        text-align: right;\n",
       "    }\n",
       "</style>\n",
       "<table border=\"1\" class=\"dataframe\">\n",
       "  <thead>\n",
       "    <tr style=\"text-align: right;\">\n",
       "      <th></th>\n",
       "      <th>0</th>\n",
       "      <th>1</th>\n",
       "      <th>2</th>\n",
       "      <th>3</th>\n",
       "      <th>4</th>\n",
       "      <th>5</th>\n",
       "      <th>6</th>\n",
       "      <th>7</th>\n",
       "      <th>8</th>\n",
       "      <th>9</th>\n",
       "      <th>...</th>\n",
       "      <th>1075</th>\n",
       "      <th>1076</th>\n",
       "      <th>1077</th>\n",
       "      <th>1078</th>\n",
       "      <th>1079</th>\n",
       "      <th>1080</th>\n",
       "      <th>1081</th>\n",
       "      <th>1082</th>\n",
       "      <th>1083</th>\n",
       "      <th>1084</th>\n",
       "    </tr>\n",
       "  </thead>\n",
       "  <tbody>\n",
       "    <tr>\n",
       "      <th>Predict</th>\n",
       "      <td>1297817.75</td>\n",
       "      <td>675218.8125</td>\n",
       "      <td>1246972.625</td>\n",
       "      <td>409726.40625</td>\n",
       "      <td>766090.5625</td>\n",
       "      <td>1662641.375</td>\n",
       "      <td>456501.96875</td>\n",
       "      <td>435981.78125</td>\n",
       "      <td>293634.6875</td>\n",
       "      <td>382070.875</td>\n",
       "      <td>...</td>\n",
       "      <td>850616.25</td>\n",
       "      <td>394353.90625</td>\n",
       "      <td>1138390.5</td>\n",
       "      <td>719124.5625</td>\n",
       "      <td>475792.59375</td>\n",
       "      <td>507071.0</td>\n",
       "      <td>471814.21875</td>\n",
       "      <td>289434.75</td>\n",
       "      <td>359939.34375</td>\n",
       "      <td>558268.0625</td>\n",
       "    </tr>\n",
       "    <tr>\n",
       "      <th>Original</th>\n",
       "      <td>1261699.00</td>\n",
       "      <td>691099.0000</td>\n",
       "      <td>1217299.000</td>\n",
       "      <td>396199.00000</td>\n",
       "      <td>791299.0000</td>\n",
       "      <td>1673799.000</td>\n",
       "      <td>433820.00000</td>\n",
       "      <td>457399.00000</td>\n",
       "      <td>280699.0000</td>\n",
       "      <td>419199.000</td>\n",
       "      <td>...</td>\n",
       "      <td>873799.00</td>\n",
       "      <td>412199.00000</td>\n",
       "      <td>1381399.0</td>\n",
       "      <td>704999.0000</td>\n",
       "      <td>489351.00000</td>\n",
       "      <td>481499.0</td>\n",
       "      <td>477499.00000</td>\n",
       "      <td>338099.00</td>\n",
       "      <td>453799.00000</td>\n",
       "      <td>562699.0000</td>\n",
       "    </tr>\n",
       "  </tbody>\n",
       "</table>\n",
       "<p>2 rows × 1085 columns</p>\n",
       "</div>"
      ],
      "text/plain": [
       "                0            1            2             3            4     \\\n",
       "Predict   1297817.75  675218.8125  1246972.625  409726.40625  766090.5625   \n",
       "Original  1261699.00  691099.0000  1217299.000  396199.00000  791299.0000   \n",
       "\n",
       "                 5             6             7            8           9     \\\n",
       "Predict   1662641.375  456501.96875  435981.78125  293634.6875  382070.875   \n",
       "Original  1673799.000  433820.00000  457399.00000  280699.0000  419199.000   \n",
       "\n",
       "          ...       1075          1076       1077         1078          1079  \\\n",
       "Predict   ...  850616.25  394353.90625  1138390.5  719124.5625  475792.59375   \n",
       "Original  ...  873799.00  412199.00000  1381399.0  704999.0000  489351.00000   \n",
       "\n",
       "              1080          1081       1082          1083         1084  \n",
       "Predict   507071.0  471814.21875  289434.75  359939.34375  558268.0625  \n",
       "Original  481499.0  477499.00000  338099.00  453799.00000  562699.0000  \n",
       "\n",
       "[2 rows x 1085 columns]"
      ]
     },
     "execution_count": 280,
     "metadata": {},
     "output_type": "execute_result"
    }
   ],
   "source": [
    "final"
   ]
  },
  {
   "cell_type": "code",
   "execution_count": 281,
   "id": "efd8d71c",
   "metadata": {},
   "outputs": [],
   "source": [
    "import joblib"
   ]
  },
  {
   "cell_type": "code",
   "execution_count": 283,
   "id": "69447e1e",
   "metadata": {},
   "outputs": [
    {
     "data": {
      "text/plain": [
       "['Car_price.pkl']"
      ]
     },
     "execution_count": 283,
     "metadata": {},
     "output_type": "execute_result"
    }
   ],
   "source": [
    "joblib.dump(new_xg,\"Car_price.pkl\")"
   ]
  }
 ],
 "metadata": {
  "kernelspec": {
   "display_name": "Python 3 (ipykernel)",
   "language": "python",
   "name": "python3"
  },
  "language_info": {
   "codemirror_mode": {
    "name": "ipython",
    "version": 3
   },
   "file_extension": ".py",
   "mimetype": "text/x-python",
   "name": "python",
   "nbconvert_exporter": "python",
   "pygments_lexer": "ipython3",
   "version": "3.9.7"
  }
 },
 "nbformat": 4,
 "nbformat_minor": 5
}
